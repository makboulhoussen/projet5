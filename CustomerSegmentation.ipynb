{
 "cells": [
  {
   "cell_type": "markdown",
   "metadata": {},
   "source": [
    "# Projet 5 : Segmentez les comportements de clients\n",
    "# <u>B. Segmentation des clients</u> <br/>"
   ]
  },
  {
   "cell_type": "markdown",
   "metadata": {},
   "source": [
    "# Le contexte\n",
    "\n",
    "Notre employeur Datazon souhaite mieux comprendre le comportements de ses clients afin de faire de meilleures ventes et augmenter son chiffre d'affaire.\n",
    "\n",
    "Notre **objectif** est de mieux comprendre les clients afin de les classer en catégories et de déterminer automatiquement la catégorie d'un client dès son premier achat.\n",
    "\n",
    "Ce notebook traite de la partie recherche de segmentation des clients. Nous avons fait de nombreux tests avec différentes features mais nous n'avons garder dans ce notebook que ceux qui ont donnés des résultats intéressants. Exemple de features : catégorie de produit (en fonction du tarif unitaire), min max quantité, score RFM, découpage mensuel, données sur 1 an et 3 derniers mois, ..."
   ]
  },
  {
   "cell_type": "code",
   "execution_count": 1,
   "metadata": {
    "collapsed": true
   },
   "outputs": [],
   "source": [
    "import numpy as np\n",
    "import pandas as pd\n",
    "import matplotlib.pyplot as plt\n",
    "import matplotlib as mpl\n",
    "import matplotlib.cm as cm\n",
    "import seaborn as sns\n",
    "import datetime as dt\n",
    "from sklearn.cluster import KMeans\n",
    "from sklearn.metrics import silhouette_score, silhouette_samples\n",
    "from sklearn.preprocessing import StandardScaler\n",
    "from sklearn.decomposition import PCA\n",
    "from sklearn import  manifold, cluster\n",
    "from IPython.display import display\n",
    "\n",
    "%matplotlib inline"
   ]
  },
  {
   "cell_type": "markdown",
   "metadata": {},
   "source": [
    "# 1. Importation des données"
   ]
  },
  {
   "cell_type": "markdown",
   "metadata": {},
   "source": [
    "On charge les données traitées par l'analyse exploratoire."
   ]
  },
  {
   "cell_type": "code",
   "execution_count": 2,
   "metadata": {
    "collapsed": true
   },
   "outputs": [],
   "source": [
    "df= pd.read_csv('orders.csv')"
   ]
  },
  {
   "cell_type": "code",
   "execution_count": 3,
   "metadata": {},
   "outputs": [
    {
     "data": {
      "text/html": [
       "<div>\n",
       "<style>\n",
       "    .dataframe thead tr:only-child th {\n",
       "        text-align: right;\n",
       "    }\n",
       "\n",
       "    .dataframe thead th {\n",
       "        text-align: left;\n",
       "    }\n",
       "\n",
       "    .dataframe tbody tr th {\n",
       "        vertical-align: top;\n",
       "    }\n",
       "</style>\n",
       "<table border=\"1\" class=\"dataframe\">\n",
       "  <thead>\n",
       "    <tr style=\"text-align: right;\">\n",
       "      <th></th>\n",
       "      <th>InvoiceNo</th>\n",
       "      <th>StockCode</th>\n",
       "      <th>Description</th>\n",
       "      <th>Quantity</th>\n",
       "      <th>InvoiceDate</th>\n",
       "      <th>UnitPrice</th>\n",
       "      <th>CustomerID</th>\n",
       "      <th>Country</th>\n",
       "      <th>TotalPrice</th>\n",
       "      <th>InvoiceYear</th>\n",
       "      <th>InvoiceMonth</th>\n",
       "      <th>Canceled</th>\n",
       "      <th>Discount</th>\n",
       "      <th>Promotion</th>\n",
       "      <th>UK</th>\n",
       "      <th>ProductCategory</th>\n",
       "    </tr>\n",
       "  </thead>\n",
       "  <tbody>\n",
       "    <tr>\n",
       "      <th>0</th>\n",
       "      <td>536365</td>\n",
       "      <td>85123A</td>\n",
       "      <td>WHITE HANGING HEART T-LIGHT HOLDER</td>\n",
       "      <td>6</td>\n",
       "      <td>2010-12-01 08:26:00</td>\n",
       "      <td>2.55</td>\n",
       "      <td>17850.0</td>\n",
       "      <td>United Kingdom</td>\n",
       "      <td>15.30</td>\n",
       "      <td>2010</td>\n",
       "      <td>12</td>\n",
       "      <td>0</td>\n",
       "      <td>0</td>\n",
       "      <td>0</td>\n",
       "      <td>1</td>\n",
       "      <td>3</td>\n",
       "    </tr>\n",
       "    <tr>\n",
       "      <th>1</th>\n",
       "      <td>536365</td>\n",
       "      <td>71053</td>\n",
       "      <td>WHITE METAL LANTERN</td>\n",
       "      <td>6</td>\n",
       "      <td>2010-12-01 08:26:00</td>\n",
       "      <td>3.39</td>\n",
       "      <td>17850.0</td>\n",
       "      <td>United Kingdom</td>\n",
       "      <td>20.34</td>\n",
       "      <td>2010</td>\n",
       "      <td>12</td>\n",
       "      <td>0</td>\n",
       "      <td>0</td>\n",
       "      <td>0</td>\n",
       "      <td>1</td>\n",
       "      <td>3</td>\n",
       "    </tr>\n",
       "    <tr>\n",
       "      <th>2</th>\n",
       "      <td>536365</td>\n",
       "      <td>84406B</td>\n",
       "      <td>CREAM CUPID HEARTS COAT HANGER</td>\n",
       "      <td>8</td>\n",
       "      <td>2010-12-01 08:26:00</td>\n",
       "      <td>2.75</td>\n",
       "      <td>17850.0</td>\n",
       "      <td>United Kingdom</td>\n",
       "      <td>22.00</td>\n",
       "      <td>2010</td>\n",
       "      <td>12</td>\n",
       "      <td>0</td>\n",
       "      <td>0</td>\n",
       "      <td>0</td>\n",
       "      <td>1</td>\n",
       "      <td>3</td>\n",
       "    </tr>\n",
       "    <tr>\n",
       "      <th>3</th>\n",
       "      <td>536365</td>\n",
       "      <td>84029G</td>\n",
       "      <td>KNITTED UNION FLAG HOT WATER BOTTLE</td>\n",
       "      <td>6</td>\n",
       "      <td>2010-12-01 08:26:00</td>\n",
       "      <td>3.39</td>\n",
       "      <td>17850.0</td>\n",
       "      <td>United Kingdom</td>\n",
       "      <td>20.34</td>\n",
       "      <td>2010</td>\n",
       "      <td>12</td>\n",
       "      <td>0</td>\n",
       "      <td>0</td>\n",
       "      <td>0</td>\n",
       "      <td>1</td>\n",
       "      <td>3</td>\n",
       "    </tr>\n",
       "    <tr>\n",
       "      <th>4</th>\n",
       "      <td>536365</td>\n",
       "      <td>84029E</td>\n",
       "      <td>RED WOOLLY HOTTIE WHITE HEART.</td>\n",
       "      <td>6</td>\n",
       "      <td>2010-12-01 08:26:00</td>\n",
       "      <td>3.39</td>\n",
       "      <td>17850.0</td>\n",
       "      <td>United Kingdom</td>\n",
       "      <td>20.34</td>\n",
       "      <td>2010</td>\n",
       "      <td>12</td>\n",
       "      <td>0</td>\n",
       "      <td>0</td>\n",
       "      <td>0</td>\n",
       "      <td>1</td>\n",
       "      <td>3</td>\n",
       "    </tr>\n",
       "  </tbody>\n",
       "</table>\n",
       "</div>"
      ],
      "text/plain": [
       "  InvoiceNo StockCode                          Description  Quantity  \\\n",
       "0    536365    85123A   WHITE HANGING HEART T-LIGHT HOLDER         6   \n",
       "1    536365     71053                  WHITE METAL LANTERN         6   \n",
       "2    536365    84406B       CREAM CUPID HEARTS COAT HANGER         8   \n",
       "3    536365    84029G  KNITTED UNION FLAG HOT WATER BOTTLE         6   \n",
       "4    536365    84029E       RED WOOLLY HOTTIE WHITE HEART.         6   \n",
       "\n",
       "           InvoiceDate  UnitPrice  CustomerID         Country  TotalPrice  \\\n",
       "0  2010-12-01 08:26:00       2.55     17850.0  United Kingdom       15.30   \n",
       "1  2010-12-01 08:26:00       3.39     17850.0  United Kingdom       20.34   \n",
       "2  2010-12-01 08:26:00       2.75     17850.0  United Kingdom       22.00   \n",
       "3  2010-12-01 08:26:00       3.39     17850.0  United Kingdom       20.34   \n",
       "4  2010-12-01 08:26:00       3.39     17850.0  United Kingdom       20.34   \n",
       "\n",
       "   InvoiceYear  InvoiceMonth  Canceled  Discount  Promotion  UK  \\\n",
       "0         2010            12         0         0          0   1   \n",
       "1         2010            12         0         0          0   1   \n",
       "2         2010            12         0         0          0   1   \n",
       "3         2010            12         0         0          0   1   \n",
       "4         2010            12         0         0          0   1   \n",
       "\n",
       "   ProductCategory  \n",
       "0                3  \n",
       "1                3  \n",
       "2                3  \n",
       "3                3  \n",
       "4                3  "
      ]
     },
     "execution_count": 3,
     "metadata": {},
     "output_type": "execute_result"
    }
   ],
   "source": [
    "df.head()"
   ]
  },
  {
   "cell_type": "markdown",
   "metadata": {},
   "source": [
    "# 2. Données d'achat par commande"
   ]
  },
  {
   "cell_type": "markdown",
   "metadata": {},
   "source": [
    "On commence par regrouper les informations de chaque commande"
   ]
  },
  {
   "cell_type": "code",
   "execution_count": 4,
   "metadata": {
    "collapsed": true
   },
   "outputs": [],
   "source": [
    "'''\n",
    "Create from the transactions data a new dataframe containing information group by customer and by invoice\n",
    "'''\n",
    "def createDataStructureByOrders(data) :\n",
    "    temp = data.groupby(by=['CustomerID', 'InvoiceNo'], as_index=False)['TotalPrice'].sum()\n",
    "    o_data = temp.rename(columns = {'TotalPrice':'OrderPrice'})\n",
    "\n",
    "    temp = data.groupby(by=['CustomerID', 'InvoiceNo'], as_index=False)['Quantity'].sum()\n",
    "    o_data.loc[:, 'OrderQuantity'] = temp['Quantity']\n",
    "\n",
    "    temp = data.groupby(by=['CustomerID', 'InvoiceNo'], as_index=False)['Canceled'].sum()\n",
    "    o_data.loc[:, 'OrderCanceled'] = temp['Canceled']\n",
    "\n",
    "    temp = data.groupby(by=['CustomerID', 'InvoiceNo'], as_index=False)['Discount'].sum()\n",
    "    o_data.loc[:, 'OrderDiscount'] = temp['Discount']\n",
    "\n",
    "    temp = data.groupby(by=['CustomerID', 'InvoiceNo'], as_index=False)['Promotion'].sum()\n",
    "    o_data.loc[:, 'OrderPromo'] = temp['Promotion']\n",
    "\n",
    "\n",
    "    temp = data.groupby(by=['CustomerID', 'InvoiceNo'], as_index=False)['UK'].sum()\n",
    "    o_data.loc[:, 'isUK'] = temp['UK']\n",
    "\n",
    "    data['InvoiceDate']=pd.to_datetime(data['InvoiceDate'])\n",
    "    data['InvoiceDate_int'] = data['InvoiceDate'].astype('int64')\n",
    "    temp = data.groupby(by=['CustomerID', 'InvoiceNo'], as_index=False)['InvoiceDate_int'].mean()\n",
    "    data.drop('InvoiceDate_int', axis = 1, inplace = True)\n",
    "    o_data.loc[:, 'InvoiceDate'] = pd.to_datetime(temp['InvoiceDate_int'])\n",
    "    return o_data"
   ]
  },
  {
   "cell_type": "code",
   "execution_count": 5,
   "metadata": {},
   "outputs": [
    {
     "data": {
      "text/html": [
       "<div>\n",
       "<style>\n",
       "    .dataframe thead tr:only-child th {\n",
       "        text-align: right;\n",
       "    }\n",
       "\n",
       "    .dataframe thead th {\n",
       "        text-align: left;\n",
       "    }\n",
       "\n",
       "    .dataframe tbody tr th {\n",
       "        vertical-align: top;\n",
       "    }\n",
       "</style>\n",
       "<table border=\"1\" class=\"dataframe\">\n",
       "  <thead>\n",
       "    <tr style=\"text-align: right;\">\n",
       "      <th></th>\n",
       "      <th>CustomerID</th>\n",
       "      <th>InvoiceNo</th>\n",
       "      <th>OrderPrice</th>\n",
       "      <th>OrderQuantity</th>\n",
       "      <th>OrderCanceled</th>\n",
       "      <th>OrderDiscount</th>\n",
       "      <th>OrderPromo</th>\n",
       "      <th>isUK</th>\n",
       "      <th>InvoiceDate</th>\n",
       "    </tr>\n",
       "  </thead>\n",
       "  <tbody>\n",
       "    <tr>\n",
       "      <th>0</th>\n",
       "      <td>12346.0</td>\n",
       "      <td>541431</td>\n",
       "      <td>77183.60</td>\n",
       "      <td>74215</td>\n",
       "      <td>0</td>\n",
       "      <td>0</td>\n",
       "      <td>0</td>\n",
       "      <td>1</td>\n",
       "      <td>2011-01-18 10:01:00.000000000</td>\n",
       "    </tr>\n",
       "    <tr>\n",
       "      <th>1</th>\n",
       "      <td>12346.0</td>\n",
       "      <td>C541433</td>\n",
       "      <td>-77183.60</td>\n",
       "      <td>-74215</td>\n",
       "      <td>1</td>\n",
       "      <td>0</td>\n",
       "      <td>0</td>\n",
       "      <td>1</td>\n",
       "      <td>2011-01-18 10:17:00.000000000</td>\n",
       "    </tr>\n",
       "    <tr>\n",
       "      <th>2</th>\n",
       "      <td>12347.0</td>\n",
       "      <td>537626</td>\n",
       "      <td>711.79</td>\n",
       "      <td>319</td>\n",
       "      <td>0</td>\n",
       "      <td>0</td>\n",
       "      <td>0</td>\n",
       "      <td>0</td>\n",
       "      <td>2010-12-07 14:57:00.000001024</td>\n",
       "    </tr>\n",
       "    <tr>\n",
       "      <th>3</th>\n",
       "      <td>12347.0</td>\n",
       "      <td>542237</td>\n",
       "      <td>475.39</td>\n",
       "      <td>315</td>\n",
       "      <td>0</td>\n",
       "      <td>0</td>\n",
       "      <td>0</td>\n",
       "      <td>0</td>\n",
       "      <td>2011-01-26 14:29:59.999999744</td>\n",
       "    </tr>\n",
       "    <tr>\n",
       "      <th>4</th>\n",
       "      <td>12347.0</td>\n",
       "      <td>549222</td>\n",
       "      <td>636.25</td>\n",
       "      <td>483</td>\n",
       "      <td>0</td>\n",
       "      <td>0</td>\n",
       "      <td>0</td>\n",
       "      <td>0</td>\n",
       "      <td>2011-04-07 10:42:59.999999232</td>\n",
       "    </tr>\n",
       "  </tbody>\n",
       "</table>\n",
       "</div>"
      ],
      "text/plain": [
       "   CustomerID InvoiceNo  OrderPrice  OrderQuantity  OrderCanceled  \\\n",
       "0     12346.0    541431    77183.60          74215              0   \n",
       "1     12346.0   C541433   -77183.60         -74215              1   \n",
       "2     12347.0    537626      711.79            319              0   \n",
       "3     12347.0    542237      475.39            315              0   \n",
       "4     12347.0    549222      636.25            483              0   \n",
       "\n",
       "   OrderDiscount  OrderPromo  isUK                   InvoiceDate  \n",
       "0              0           0     1 2011-01-18 10:01:00.000000000  \n",
       "1              0           0     1 2011-01-18 10:17:00.000000000  \n",
       "2              0           0     0 2010-12-07 14:57:00.000001024  \n",
       "3              0           0     0 2011-01-26 14:29:59.999999744  \n",
       "4              0           0     0 2011-04-07 10:42:59.999999232  "
      ]
     },
     "metadata": {},
     "output_type": "display_data"
    }
   ],
   "source": [
    "orders_data=createDataStructureByOrders(df)\n",
    "display(orders_data.head())"
   ]
  },
  {
   "cell_type": "markdown",
   "metadata": {},
   "source": [
    "# 3. Séparation temporelle des données d'achat"
   ]
  },
  {
   "cell_type": "markdown",
   "metadata": {},
   "source": [
    "## 3.1 Jeu d'entrainement et de test"
   ]
  },
  {
   "cell_type": "markdown",
   "metadata": {},
   "source": [
    "Pour ne pas biaiser la classification, nous séparons les données en jeu d'entrainement et de tests. Nous allons faire notre clustering sur les données d'entrainement puis appliquer nos modèles d'apprentissage pour la classification. On va ensuite vérifier avec les données de tests."
   ]
  },
  {
   "cell_type": "markdown",
   "metadata": {},
   "source": [
    "Nous avons fait un découpage temporel sur les données en regroupant dans le jeu d'entrainement les 9 premiers mois de commandes et 3 mois restants pour les tests. L'objectif du projet étant de determiner la catégorie du client dès son premier achat, le jeu de test permettra de vérifier la pertinence du modèle séléctionné."
   ]
  },
  {
   "cell_type": "code",
   "execution_count": 6,
   "metadata": {},
   "outputs": [],
   "source": [
    "# On prend les données de 9 mois donc jusqu'à la fin Aout 2011\n",
    "limit = dt.date(2011,9,1)\n",
    "train_orders = orders_data[orders_data['InvoiceDate'] < limit]\n",
    "test_orders  = orders_data[orders_data['InvoiceDate'] >= limit]"
   ]
  },
  {
   "cell_type": "code",
   "execution_count": 7,
   "metadata": {},
   "outputs": [
    {
     "name": "stdout",
     "output_type": "stream",
     "text": [
      "Nb customers in training set :  3349\n",
      "Nb customers in testing set  :  2990\n"
     ]
    }
   ],
   "source": [
    "print('Nb customers in training set : ', train_orders['CustomerID'].nunique())\n",
    "print('Nb customers in testing set  : ', test_orders['CustomerID'].nunique())"
   ]
  },
  {
   "cell_type": "markdown",
   "metadata": {},
   "source": [
    "## 3.2 Création structure de données par client"
   ]
  },
  {
   "cell_type": "markdown",
   "metadata": {},
   "source": [
    "Pour chaque client, on construit une structure qui contient les élèments de son panier moyen : \n",
    "    - nombre d'achats, total dépensé, dépense panier moyen, quantité de produits, et prix unitaire moyen."
   ]
  },
  {
   "cell_type": "code",
   "execution_count": 8,
   "metadata": {
    "collapsed": true
   },
   "outputs": [],
   "source": [
    "'''\n",
    "Regroupement des données d'achats par client.\n",
    "max_date = la date la plus récente des enregistrements nécessaire pour calculer le nombre de jours du dernier achat\n",
    "'''\n",
    "def createDataStructureByCustomer(orders_d) :\n",
    "    temp = orders_d.groupby(by=['CustomerID'], as_index=False)['InvoiceNo'].agg(['count'])\n",
    "    c_data=temp.rename(columns={'count': 'NbOrders'})\n",
    "    c_data.reset_index(drop = False, inplace = True)\n",
    "\n",
    "    temp = orders_d.groupby(by=['CustomerID','InvoiceNo'], as_index=False)['OrderPrice'].sum()\n",
    "    temp = temp.groupby(by=['CustomerID'])['OrderPrice'].agg(['sum','mean'])\n",
    "    temp=temp.rename(columns={'sum':'TotalSpent', 'mean':'AverageSpent'})\n",
    "    temp.reset_index(drop = False, inplace = True)\n",
    "    c_data=pd.merge(c_data, temp, on='CustomerID', how='outer')\n",
    "    \n",
    "    # On ne prend que les quantités positives pour la moyenne, le min et max\n",
    "    temp = orders_d[orders_d.OrderQuantity > 0].groupby(by=['CustomerID','InvoiceNo'], as_index=False)['OrderPrice'].sum()\n",
    "    temp = temp.groupby(by=['CustomerID'])['OrderPrice'].agg(['min','max'])\n",
    "    temp=temp.rename(columns={'min':'MinSpent','max':'MaxSpent'})\n",
    "    temp.reset_index(drop = False, inplace = True)\n",
    "    c_data=pd.merge(c_data, temp, on='CustomerID', how='outer')\n",
    "\n",
    "    temp = orders_d.groupby(by=['CustomerID'], as_index=False)['OrderQuantity'].agg(['sum'])\n",
    "    temp=temp.rename(columns={'sum': 'TotalQuantity'})\n",
    "    temp.reset_index(drop = False, inplace = True)\n",
    "    c_data=pd.merge(c_data, temp, on='CustomerID', how='outer')\n",
    "\n",
    "    temp = orders_d.groupby(by=['CustomerID'], as_index=False)['OrderCanceled'].agg(['sum'])\n",
    "    temp=temp.rename(columns={'sum': 'NbCanceled'})\n",
    "    temp.reset_index(drop = False, inplace = True)\n",
    "    c_data=pd.merge(c_data, temp, on='CustomerID', how='outer')\n",
    "\n",
    "    temp = orders_d.groupby(by=['CustomerID'], as_index=False)['OrderDiscount'].agg(['sum'])\n",
    "    temp=temp.rename(columns={'sum': 'NbDiscount'})\n",
    "    temp.reset_index(drop = False, inplace = True)\n",
    "    c_data=pd.merge(c_data, temp, on='CustomerID', how='outer')\n",
    "\n",
    "    temp = orders_d.groupby(by=['CustomerID'], as_index=False)['OrderPromo'].agg(['sum'])\n",
    "    temp=temp.rename(columns={'sum': 'NbPromo'})\n",
    "    temp.reset_index(drop = False, inplace = True)\n",
    "    c_data=pd.merge(c_data, temp, on='CustomerID', how='outer')\n",
    "\n",
    "    temp = orders_d.groupby(by=['CustomerID'], as_index=False).agg({'isUK': lambda x: 1 if (x.all()>0) else 0})\n",
    "    c_data=pd.merge(c_data, temp, on='CustomerID', how='outer')\n",
    "\n",
    "    dtmax = orders_d.InvoiceDate.max()\n",
    "    now = dt.datetime(dtmax.year, dtmax.month, dtmax.day) + dt.timedelta(days=1)\n",
    "    temp = orders_d.groupby('CustomerID').agg({'InvoiceDate': lambda x: (now - x.max()).days})\n",
    "    temp=temp.rename(columns={'InvoiceDate': 'LastPurchase'})\n",
    "    temp.reset_index(drop = False, inplace = True)\n",
    "    c_data=pd.merge(c_data, temp, on='CustomerID', how='outer')\n",
    "    return c_data"
   ]
  },
  {
   "cell_type": "markdown",
   "metadata": {},
   "source": [
    "On créé notre structure de données par client à partir du jeu de données d'entrainement'"
   ]
  },
  {
   "cell_type": "code",
   "execution_count": 9,
   "metadata": {
    "collapsed": true
   },
   "outputs": [],
   "source": [
    "customers_data = createDataStructureByCustomer(train_orders)"
   ]
  },
  {
   "cell_type": "code",
   "execution_count": 10,
   "metadata": {},
   "outputs": [
    {
     "data": {
      "text/html": [
       "<div>\n",
       "<style>\n",
       "    .dataframe thead tr:only-child th {\n",
       "        text-align: right;\n",
       "    }\n",
       "\n",
       "    .dataframe thead th {\n",
       "        text-align: left;\n",
       "    }\n",
       "\n",
       "    .dataframe tbody tr th {\n",
       "        vertical-align: top;\n",
       "    }\n",
       "</style>\n",
       "<table border=\"1\" class=\"dataframe\">\n",
       "  <thead>\n",
       "    <tr style=\"text-align: right;\">\n",
       "      <th></th>\n",
       "      <th>CustomerID</th>\n",
       "      <th>NbOrders</th>\n",
       "      <th>TotalSpent</th>\n",
       "      <th>AverageSpent</th>\n",
       "      <th>MinSpent</th>\n",
       "      <th>MaxSpent</th>\n",
       "      <th>TotalQuantity</th>\n",
       "      <th>NbCanceled</th>\n",
       "      <th>NbDiscount</th>\n",
       "      <th>NbPromo</th>\n",
       "      <th>isUK</th>\n",
       "      <th>LastPurchase</th>\n",
       "    </tr>\n",
       "  </thead>\n",
       "  <tbody>\n",
       "    <tr>\n",
       "      <th>0</th>\n",
       "      <td>12346.0</td>\n",
       "      <td>2</td>\n",
       "      <td>0.00</td>\n",
       "      <td>0.000</td>\n",
       "      <td>77183.60</td>\n",
       "      <td>77183.60</td>\n",
       "      <td>0</td>\n",
       "      <td>1</td>\n",
       "      <td>0</td>\n",
       "      <td>0</td>\n",
       "      <td>1</td>\n",
       "      <td>225</td>\n",
       "    </tr>\n",
       "    <tr>\n",
       "      <th>1</th>\n",
       "      <td>12347.0</td>\n",
       "      <td>5</td>\n",
       "      <td>2790.86</td>\n",
       "      <td>558.172</td>\n",
       "      <td>382.52</td>\n",
       "      <td>711.79</td>\n",
       "      <td>1590</td>\n",
       "      <td>0</td>\n",
       "      <td>0</td>\n",
       "      <td>0</td>\n",
       "      <td>0</td>\n",
       "      <td>29</td>\n",
       "    </tr>\n",
       "    <tr>\n",
       "      <th>2</th>\n",
       "      <td>12348.0</td>\n",
       "      <td>3</td>\n",
       "      <td>1167.24</td>\n",
       "      <td>389.080</td>\n",
       "      <td>187.44</td>\n",
       "      <td>652.80</td>\n",
       "      <td>2116</td>\n",
       "      <td>0</td>\n",
       "      <td>0</td>\n",
       "      <td>0</td>\n",
       "      <td>0</td>\n",
       "      <td>148</td>\n",
       "    </tr>\n",
       "    <tr>\n",
       "      <th>3</th>\n",
       "      <td>12350.0</td>\n",
       "      <td>1</td>\n",
       "      <td>294.40</td>\n",
       "      <td>294.400</td>\n",
       "      <td>294.40</td>\n",
       "      <td>294.40</td>\n",
       "      <td>196</td>\n",
       "      <td>0</td>\n",
       "      <td>0</td>\n",
       "      <td>0</td>\n",
       "      <td>0</td>\n",
       "      <td>210</td>\n",
       "    </tr>\n",
       "    <tr>\n",
       "      <th>4</th>\n",
       "      <td>12352.0</td>\n",
       "      <td>5</td>\n",
       "      <td>521.18</td>\n",
       "      <td>104.236</td>\n",
       "      <td>104.35</td>\n",
       "      <td>296.50</td>\n",
       "      <td>186</td>\n",
       "      <td>7</td>\n",
       "      <td>0</td>\n",
       "      <td>0</td>\n",
       "      <td>0</td>\n",
       "      <td>162</td>\n",
       "    </tr>\n",
       "  </tbody>\n",
       "</table>\n",
       "</div>"
      ],
      "text/plain": [
       "   CustomerID  NbOrders  TotalSpent  AverageSpent  MinSpent  MaxSpent  \\\n",
       "0     12346.0         2        0.00         0.000  77183.60  77183.60   \n",
       "1     12347.0         5     2790.86       558.172    382.52    711.79   \n",
       "2     12348.0         3     1167.24       389.080    187.44    652.80   \n",
       "3     12350.0         1      294.40       294.400    294.40    294.40   \n",
       "4     12352.0         5      521.18       104.236    104.35    296.50   \n",
       "\n",
       "   TotalQuantity  NbCanceled  NbDiscount  NbPromo  isUK  LastPurchase  \n",
       "0              0           1           0        0     1           225  \n",
       "1           1590           0           0        0     0            29  \n",
       "2           2116           0           0        0     0           148  \n",
       "3            196           0           0        0     0           210  \n",
       "4            186           7           0        0     0           162  "
      ]
     },
     "metadata": {},
     "output_type": "display_data"
    },
    {
     "data": {
      "text/plain": [
       "(3349, 12)"
      ]
     },
     "execution_count": 10,
     "metadata": {},
     "output_type": "execute_result"
    }
   ],
   "source": [
    "display(customers_data.head())\n",
    "customers_data.shape"
   ]
  },
  {
   "cell_type": "markdown",
   "metadata": {},
   "source": [
    "## 3.3 Partitionnement des données avec KMeans"
   ]
  },
  {
   "cell_type": "markdown",
   "metadata": {},
   "source": [
    "### Construction de la matrice données"
   ]
  },
  {
   "cell_type": "markdown",
   "metadata": {},
   "source": [
    "Commençons par créer une matrice sur laquelle nous pourront appliquer nos algorithmes de clustering"
   ]
  },
  {
   "cell_type": "code",
   "execution_count": 11,
   "metadata": {
    "collapsed": true
   },
   "outputs": [],
   "source": [
    "X = customers_data.drop(['CustomerID'], axis=1)"
   ]
  },
  {
   "cell_type": "markdown",
   "metadata": {},
   "source": [
    "### Utilisation des quantiles pour valoriser les données de chacune des variables"
   ]
  },
  {
   "cell_type": "markdown",
   "metadata": {},
   "source": [
    "On classe les données en 4 groupes correspondant aux quantiles. Cela facilitera le partionnement en cluster avec des clusters un peu plus homogènes."
   ]
  },
  {
   "cell_type": "markdown",
   "metadata": {},
   "source": [
    "- 1 = faible\n",
    "- 2 = moyen\n",
    "- 3 = élevé\n",
    "- 4 = très élevé"
   ]
  },
  {
   "cell_type": "code",
   "execution_count": 12,
   "metadata": {
    "collapsed": true
   },
   "outputs": [],
   "source": [
    "'''\n",
    "méthode permettant d'attribuer un score (entre 1 et 4) à une valeur en fonction d'une colonne en fonction du quantile \n",
    "auquel il appartient.\n",
    "1 premier quantile, ..., 4 dernier quantile.\n",
    "''' \n",
    "def getScore(x,p,d):\n",
    "    if x <= d[p][0.25]:\n",
    "        return 1\n",
    "    elif x <= d[p][0.50]:\n",
    "        return 2\n",
    "    elif x <= d[p][0.75]: \n",
    "        return 3\n",
    "    else:\n",
    "        return 4\n",
    "'''\n",
    "Calcul score pour les données dont la valorisation est plus importante si la valeur est faible\n",
    "Ex : LastPurchase. Plus la valeur est petite, plus l'achat est récent donc à une valorisation importante pour nous.\n",
    "'''\n",
    "def getRScore(x,p,d):\n",
    "    if x <= d[p][0.25]:\n",
    "        return 1\n",
    "    elif x <= d[p][0.50]:\n",
    "        return 2\n",
    "    elif x <= d[p][0.75]: \n",
    "        return 3\n",
    "    else:\n",
    "        return 4"
   ]
  },
  {
   "cell_type": "code",
   "execution_count": 13,
   "metadata": {
    "collapsed": true
   },
   "outputs": [],
   "source": [
    "# Transforme les données en score de quantile et retourne une matrice\n",
    "def transformAsQuantileMatrix(X) :\n",
    "    quantiles = X.quantile(q=[0.25,0.5,0.75])\n",
    "    quantiles = quantiles.to_dict()\n",
    "    X_std=X.copy()\n",
    "    for column in X:\n",
    "        if (column == 'LastPurchase') :\n",
    "            X_std[column] = X[column].apply(getRScore, args=(column,quantiles,))\n",
    "        else :\n",
    "            X_std[column] = X[column].apply(getScore, args=(column,quantiles,))\n",
    "    return X_std.as_matrix()"
   ]
  },
  {
   "cell_type": "code",
   "execution_count": 14,
   "metadata": {},
   "outputs": [],
   "source": [
    "X_std = transformAsQuantileMatrix(X)"
   ]
  },
  {
   "cell_type": "markdown",
   "metadata": {},
   "source": [
    "### Calcul du coefficient de silhouette par cluster"
   ]
  },
  {
   "cell_type": "markdown",
   "metadata": {},
   "source": [
    "On se limite à chercher au maximum 13 clusters car sinon la segmentation sera trop fine et difficilement utilisable par le service marketing."
   ]
  },
  {
   "cell_type": "code",
   "execution_count": 15,
   "metadata": {
    "collapsed": true
   },
   "outputs": [],
   "source": [
    "'''\n",
    "Calcul et affichage du coefficient de silhouette pour chaque valeur de k allant de 2 à 13.\n",
    "'''\n",
    "def kmeans_silhouette_score(X_std) :\n",
    "    cluster_range = range( 2, 13 )\n",
    "    silhouettes = []\n",
    "     \n",
    "    # on calcule le score de silhouette pour un nombre de clusters    \n",
    "    for n_clusters in cluster_range:\n",
    "        clusterer = KMeans(init='k-means++', n_clusters=n_clusters, n_init=100)\n",
    "        cluster_labels = clusterer.fit_predict( X_std )\n",
    "    \n",
    "        silhouette_avg = silhouette_score(X_std, cluster_labels)\n",
    "        silhouettes.append(silhouette_avg)\n",
    "        print(\"Pour n_clusters =\", n_clusters,\n",
    "            \"La moyenne du score de silhouette est : {:<.3f}\".format(silhouette_avg))\n",
    "\n",
    "    # On affiche sous forme de graphe\n",
    "    plt.step(cluster_range, silhouettes, where='mid',label='cumulative explained variance')\n",
    "    plt.xlabel('Nombre de clusters')\n",
    "    plt.ylabel('Score de silhouette')\n",
    "\n",
    "    plt.show() "
   ]
  },
  {
   "cell_type": "markdown",
   "metadata": {},
   "source": [
    "On applique l'algorithme de KMeans sur nos données. "
   ]
  },
  {
   "cell_type": "code",
   "execution_count": 16,
   "metadata": {},
   "outputs": [
    {
     "name": "stdout",
     "output_type": "stream",
     "text": [
      "Pour n_clusters = 2 La moyenne du score de silhouette est : 0.318\n",
      "Pour n_clusters = 3 La moyenne du score de silhouette est : 0.291\n",
      "Pour n_clusters = 4 La moyenne du score de silhouette est : 0.274\n",
      "Pour n_clusters = 5 La moyenne du score de silhouette est : 0.292\n",
      "Pour n_clusters = 6 La moyenne du score de silhouette est : 0.280\n",
      "Pour n_clusters = 7 La moyenne du score de silhouette est : 0.275\n",
      "Pour n_clusters = 8 La moyenne du score de silhouette est : 0.250\n",
      "Pour n_clusters = 9 La moyenne du score de silhouette est : 0.259\n",
      "Pour n_clusters = 10 La moyenne du score de silhouette est : 0.253\n",
      "Pour n_clusters = 11 La moyenne du score de silhouette est : 0.256\n",
      "Pour n_clusters = 12 La moyenne du score de silhouette est : 0.252\n"
     ]
    },
    {
     "data": {
      "image/png": "[encoded data removed]",
      "text/plain": [
       "<matplotlib.figure.Figure at 0x110686048>"
      ]
     },
     "metadata": {},
     "output_type": "display_data"
    }
   ],
   "source": [
    "kmeans_silhouette_score(X_std)"
   ]
  },
  {
   "cell_type": "markdown",
   "metadata": {},
   "source": [
    "- Nous obtenons les meilleurs score à k =2 mais nous voulons au minimum 4 segments pour que ce soit intéressant pour le service marketing. On peut donc partir avec k=5 qui a le 2ème meilleur score ce qui va donner un bon nombre de catégorisation."
   ]
  },
  {
   "cell_type": "markdown",
   "metadata": {},
   "source": [
    "Nous partons donc sur 5 clusters et faisons les prédictions de labels avec l'algorithme **Kmeans**."
   ]
  },
  {
   "cell_type": "code",
   "execution_count": 17,
   "metadata": {
    "collapsed": true
   },
   "outputs": [],
   "source": [
    "n_clusters = 5\n",
    "k_means_cluster = KMeans(init='k-means++', n_clusters=n_clusters, n_init=100)\n",
    "cluster_labels = k_means_cluster.fit_predict( X_std )"
   ]
  },
  {
   "cell_type": "markdown",
   "metadata": {},
   "source": [
    "### Silhouette plot"
   ]
  },
  {
   "cell_type": "markdown",
   "metadata": {},
   "source": [
    "Affichage du score de silhouette intra cluster pour voir si les clusters sont bien homogènes."
   ]
  },
  {
   "cell_type": "code",
   "execution_count": 18,
   "metadata": {},
   "outputs": [],
   "source": [
    "def display_silhouette_plot(X_std, cluster_labels):\n",
    "    sample_silhouette_values = silhouette_samples(X_std, cluster_labels)\n",
    "\n",
    "    fig, ax1 = plt.subplots(1, 1)\n",
    "    fig.set_size_inches(6, 6)\n",
    "    y_lower = 10\n",
    "    for i in range(n_clusters):\n",
    "        ith_cluster_silhouette_values = sample_silhouette_values[cluster_labels == i]\n",
    "        ith_cluster_silhouette_values.sort()\n",
    "        size_cluster_i = ith_cluster_silhouette_values.shape[0]\n",
    "        y_upper = y_lower + size_cluster_i\n",
    "        color = cm.spectral(float(i) / n_clusters)\n",
    "        ax1.fill_betweenx(np.arange(y_lower, y_upper),0, ith_cluster_silhouette_values,facecolor=color, edgecolor=color, alpha=0.7)\n",
    "\n",
    "        # Label the silhouette plots with their cluster numbers at the middle\n",
    "        ax1.text(-0.05, y_lower + 0.5 * size_cluster_i, str(i))\n",
    "\n",
    "        # Compute the new y_lower for next plot\n",
    "        y_lower = y_upper + 10  # 10 for the 0 samples\n",
    "\n",
    "    ax1.set_title(\"The silhouette plot\")\n",
    "    ax1.set_xlabel(\"The silhouette coefficient values\")\n",
    "    ax1.set_ylabel(\"Cluster label\")\n",
    "\n",
    "    silhouette_avg = silhouette_score(X_std, cluster_labels)\n",
    "\n",
    "    # The vertical line for average silhouette score of all the values\n",
    "    ax1.axvline(x=silhouette_avg, color=\"red\", linestyle=\"--\")\n",
    "\n",
    "    ax1.set_yticks([])  # Clear the yaxis labels / ticks\n",
    "    ax1.set_xticks([-0.1, 0, 0.2, 0.4, 0.6, 0.8, 1])\n",
    "\n",
    "    plt.show()"
   ]
  },
  {
   "cell_type": "code",
   "execution_count": 19,
   "metadata": {},
   "outputs": [
    {
     "data": {
      "image/png": "[encoded data removed]",
      "text/plain": [
       "<matplotlib.figure.Figure at 0x10b872160>"
      ]
     },
     "metadata": {},
     "output_type": "display_data"
    }
   ],
   "source": [
    "display_silhouette_plot(X_std, cluster_labels)"
   ]
  },
  {
   "cell_type": "markdown",
   "metadata": {},
   "source": [
    "=> Le resultat est satisfaisant."
   ]
  },
  {
   "cell_type": "markdown",
   "metadata": {},
   "source": [
    "### Répartition par nombre de clients"
   ]
  },
  {
   "cell_type": "code",
   "execution_count": 20,
   "metadata": {},
   "outputs": [
    {
     "data": {
      "text/html": [
       "<div>\n",
       "<style>\n",
       "    .dataframe thead tr:only-child th {\n",
       "        text-align: right;\n",
       "    }\n",
       "\n",
       "    .dataframe thead th {\n",
       "        text-align: left;\n",
       "    }\n",
       "\n",
       "    .dataframe tbody tr th {\n",
       "        vertical-align: top;\n",
       "    }\n",
       "</style>\n",
       "<table border=\"1\" class=\"dataframe\">\n",
       "  <thead>\n",
       "    <tr style=\"text-align: right;\">\n",
       "      <th></th>\n",
       "      <th>0</th>\n",
       "      <th>3</th>\n",
       "      <th>1</th>\n",
       "      <th>2</th>\n",
       "      <th>4</th>\n",
       "    </tr>\n",
       "  </thead>\n",
       "  <tbody>\n",
       "    <tr>\n",
       "      <th>NbCustomers</th>\n",
       "      <td>925</td>\n",
       "      <td>734</td>\n",
       "      <td>707</td>\n",
       "      <td>591</td>\n",
       "      <td>392</td>\n",
       "    </tr>\n",
       "  </tbody>\n",
       "</table>\n",
       "</div>"
      ],
      "text/plain": [
       "               0    3    1    2    4\n",
       "NbCustomers  925  734  707  591  392"
      ]
     },
     "execution_count": 20,
     "metadata": {},
     "output_type": "execute_result"
    }
   ],
   "source": [
    "pd.DataFrame(pd.Series(cluster_labels).value_counts(), columns = ['NbCustomers']).sort_values(by='NbCustomers',ascending=False).T"
   ]
  },
  {
   "cell_type": "markdown",
   "metadata": {},
   "source": [
    "La répartition est assez équilibrée entre les différents clusters."
   ]
  },
  {
   "cell_type": "markdown",
   "metadata": {},
   "source": [
    "### Affichage des clusters"
   ]
  },
  {
   "cell_type": "markdown",
   "metadata": {},
   "source": [
    "Utilisons TSNE pour afficher les clusters en 2 dimensions."
   ]
  },
  {
   "cell_type": "code",
   "execution_count": 21,
   "metadata": {
    "collapsed": true
   },
   "outputs": [],
   "source": [
    "tsne = manifold.TSNE(n_components=2, init='pca')\n",
    "tsne_results = tsne.fit_transform(X_std)"
   ]
  },
  {
   "cell_type": "code",
   "execution_count": 22,
   "metadata": {},
   "outputs": [
    {
     "data": {
      "text/plain": [
       "<matplotlib.text.Text at 0x1a14398978>"
      ]
     },
     "execution_count": 22,
     "metadata": {},
     "output_type": "execute_result"
    },
    {
     "data": {
      "image/png": "[encoded data removed]",
      "text/plain": [
       "<matplotlib.figure.Figure at 0x10b914780>"
      ]
     },
     "metadata": {},
     "output_type": "display_data"
    }
   ],
   "source": [
    "plt.scatter(tsne_results[:, 0], tsne_results[:, 1], c=cluster_labels)\n",
    "plt.xlim([np.min(tsne_results[:, 0]), np.max(tsne_results[:, 0])])\n",
    "plt.ylim([np.min(tsne_results[:, 1]), np.max(tsne_results[:, 1])])\n",
    "plt.title('Clustering avec KMeans')"
   ]
  },
  {
   "cell_type": "markdown",
   "metadata": {},
   "source": [
    "=> Les différents clusters trouvés sont homogènes."
   ]
  },
  {
   "cell_type": "markdown",
   "metadata": {},
   "source": [
    "## 3.4 Interprétation des segments"
   ]
  },
  {
   "cell_type": "markdown",
   "metadata": {},
   "source": [
    "On ajoute les numéros de cluster à notre table"
   ]
  },
  {
   "cell_type": "code",
   "execution_count": 23,
   "metadata": {},
   "outputs": [],
   "source": [
    "customers_data[\"Cluster\"]= cluster_labels\n",
    "# Clients par horizon temporel\n",
    "customers_clusters_TS = pd.DataFrame(X_std)\n",
    "customers_clusters_TS[\"Cluster\"]= cluster_labels"
   ]
  },
  {
   "cell_type": "code",
   "execution_count": 24,
   "metadata": {},
   "outputs": [
    {
     "data": {
      "text/html": [
       "<div>\n",
       "<style>\n",
       "    .dataframe thead tr:only-child th {\n",
       "        text-align: right;\n",
       "    }\n",
       "\n",
       "    .dataframe thead th {\n",
       "        text-align: left;\n",
       "    }\n",
       "\n",
       "    .dataframe tbody tr th {\n",
       "        vertical-align: top;\n",
       "    }\n",
       "</style>\n",
       "<table border=\"1\" class=\"dataframe\">\n",
       "  <thead>\n",
       "    <tr style=\"text-align: right;\">\n",
       "      <th></th>\n",
       "      <th>count</th>\n",
       "      <th>mean</th>\n",
       "      <th>std</th>\n",
       "      <th>min</th>\n",
       "      <th>25%</th>\n",
       "      <th>50%</th>\n",
       "      <th>75%</th>\n",
       "      <th>max</th>\n",
       "    </tr>\n",
       "  </thead>\n",
       "  <tbody>\n",
       "    <tr>\n",
       "      <th>CustomerID</th>\n",
       "      <td>3349.0</td>\n",
       "      <td>15284.330845</td>\n",
       "      <td>1725.626611</td>\n",
       "      <td>12346.0</td>\n",
       "      <td>13799.000</td>\n",
       "      <td>15244.000</td>\n",
       "      <td>16771.0000</td>\n",
       "      <td>18287.000</td>\n",
       "    </tr>\n",
       "    <tr>\n",
       "      <th>NbOrders</th>\n",
       "      <td>3349.0</td>\n",
       "      <td>4.074351</td>\n",
       "      <td>6.736739</td>\n",
       "      <td>1.0</td>\n",
       "      <td>1.000</td>\n",
       "      <td>2.000</td>\n",
       "      <td>4.0000</td>\n",
       "      <td>133.000</td>\n",
       "    </tr>\n",
       "    <tr>\n",
       "      <th>TotalSpent</th>\n",
       "      <td>3349.0</td>\n",
       "      <td>1471.054589</td>\n",
       "      <td>5613.471345</td>\n",
       "      <td>-1192.2</td>\n",
       "      <td>240.680</td>\n",
       "      <td>523.000</td>\n",
       "      <td>1307.3500</td>\n",
       "      <td>175216.540</td>\n",
       "    </tr>\n",
       "    <tr>\n",
       "      <th>AverageSpent</th>\n",
       "      <td>3349.0</td>\n",
       "      <td>312.217557</td>\n",
       "      <td>402.417298</td>\n",
       "      <td>-1192.2</td>\n",
       "      <td>143.300</td>\n",
       "      <td>226.240</td>\n",
       "      <td>352.8475</td>\n",
       "      <td>9904.875</td>\n",
       "    </tr>\n",
       "    <tr>\n",
       "      <th>MinSpent</th>\n",
       "      <td>3314.0</td>\n",
       "      <td>283.090263</td>\n",
       "      <td>1387.805455</td>\n",
       "      <td>0.0</td>\n",
       "      <td>105.025</td>\n",
       "      <td>182.485</td>\n",
       "      <td>311.4400</td>\n",
       "      <td>77183.600</td>\n",
       "    </tr>\n",
       "    <tr>\n",
       "      <th>MaxSpent</th>\n",
       "      <td>3314.0</td>\n",
       "      <td>571.059737</td>\n",
       "      <td>1829.450292</td>\n",
       "      <td>2.9</td>\n",
       "      <td>200.025</td>\n",
       "      <td>332.945</td>\n",
       "      <td>560.1700</td>\n",
       "      <td>77183.600</td>\n",
       "    </tr>\n",
       "    <tr>\n",
       "      <th>TotalQuantity</th>\n",
       "      <td>3349.0</td>\n",
       "      <td>871.226635</td>\n",
       "      <td>3444.828602</td>\n",
       "      <td>-1363.0</td>\n",
       "      <td>123.000</td>\n",
       "      <td>290.000</td>\n",
       "      <td>744.0000</td>\n",
       "      <td>126980.000</td>\n",
       "    </tr>\n",
       "    <tr>\n",
       "      <th>NbCanceled</th>\n",
       "      <td>3349.0</td>\n",
       "      <td>1.601374</td>\n",
       "      <td>5.240478</td>\n",
       "      <td>0.0</td>\n",
       "      <td>0.000</td>\n",
       "      <td>0.000</td>\n",
       "      <td>1.0000</td>\n",
       "      <td>115.000</td>\n",
       "    </tr>\n",
       "    <tr>\n",
       "      <th>NbDiscount</th>\n",
       "      <td>3349.0</td>\n",
       "      <td>0.016124</td>\n",
       "      <td>0.423026</td>\n",
       "      <td>0.0</td>\n",
       "      <td>0.000</td>\n",
       "      <td>0.000</td>\n",
       "      <td>0.0000</td>\n",
       "      <td>23.000</td>\n",
       "    </tr>\n",
       "    <tr>\n",
       "      <th>NbPromo</th>\n",
       "      <td>3349.0</td>\n",
       "      <td>0.005972</td>\n",
       "      <td>0.103523</td>\n",
       "      <td>0.0</td>\n",
       "      <td>0.000</td>\n",
       "      <td>0.000</td>\n",
       "      <td>0.0000</td>\n",
       "      <td>4.000</td>\n",
       "    </tr>\n",
       "    <tr>\n",
       "      <th>isUK</th>\n",
       "      <td>3349.0</td>\n",
       "      <td>0.901165</td>\n",
       "      <td>0.298486</td>\n",
       "      <td>0.0</td>\n",
       "      <td>1.000</td>\n",
       "      <td>1.000</td>\n",
       "      <td>1.0000</td>\n",
       "      <td>1.000</td>\n",
       "    </tr>\n",
       "    <tr>\n",
       "      <th>LastPurchase</th>\n",
       "      <td>3349.0</td>\n",
       "      <td>91.757241</td>\n",
       "      <td>77.675799</td>\n",
       "      <td>0.0</td>\n",
       "      <td>26.000</td>\n",
       "      <td>72.000</td>\n",
       "      <td>146.0000</td>\n",
       "      <td>273.000</td>\n",
       "    </tr>\n",
       "    <tr>\n",
       "      <th>Cluster</th>\n",
       "      <td>3349.0</td>\n",
       "      <td>1.689758</td>\n",
       "      <td>1.381160</td>\n",
       "      <td>0.0</td>\n",
       "      <td>0.000</td>\n",
       "      <td>2.000</td>\n",
       "      <td>3.0000</td>\n",
       "      <td>4.000</td>\n",
       "    </tr>\n",
       "  </tbody>\n",
       "</table>\n",
       "</div>"
      ],
      "text/plain": [
       "                count          mean          std      min        25%  \\\n",
       "CustomerID     3349.0  15284.330845  1725.626611  12346.0  13799.000   \n",
       "NbOrders       3349.0      4.074351     6.736739      1.0      1.000   \n",
       "TotalSpent     3349.0   1471.054589  5613.471345  -1192.2    240.680   \n",
       "AverageSpent   3349.0    312.217557   402.417298  -1192.2    143.300   \n",
       "MinSpent       3314.0    283.090263  1387.805455      0.0    105.025   \n",
       "MaxSpent       3314.0    571.059737  1829.450292      2.9    200.025   \n",
       "TotalQuantity  3349.0    871.226635  3444.828602  -1363.0    123.000   \n",
       "NbCanceled     3349.0      1.601374     5.240478      0.0      0.000   \n",
       "NbDiscount     3349.0      0.016124     0.423026      0.0      0.000   \n",
       "NbPromo        3349.0      0.005972     0.103523      0.0      0.000   \n",
       "isUK           3349.0      0.901165     0.298486      0.0      1.000   \n",
       "LastPurchase   3349.0     91.757241    77.675799      0.0     26.000   \n",
       "Cluster        3349.0      1.689758     1.381160      0.0      0.000   \n",
       "\n",
       "                     50%         75%         max  \n",
       "CustomerID     15244.000  16771.0000   18287.000  \n",
       "NbOrders           2.000      4.0000     133.000  \n",
       "TotalSpent       523.000   1307.3500  175216.540  \n",
       "AverageSpent     226.240    352.8475    9904.875  \n",
       "MinSpent         182.485    311.4400   77183.600  \n",
       "MaxSpent         332.945    560.1700   77183.600  \n",
       "TotalQuantity    290.000    744.0000  126980.000  \n",
       "NbCanceled         0.000      1.0000     115.000  \n",
       "NbDiscount         0.000      0.0000      23.000  \n",
       "NbPromo            0.000      0.0000       4.000  \n",
       "isUK               1.000      1.0000       1.000  \n",
       "LastPurchase      72.000    146.0000     273.000  \n",
       "Cluster            2.000      3.0000       4.000  "
      ]
     },
     "execution_count": 24,
     "metadata": {},
     "output_type": "execute_result"
    }
   ],
   "source": [
    "customers_data.describe().T"
   ]
  },
  {
   "cell_type": "code",
   "execution_count": 25,
   "metadata": {},
   "outputs": [
    {
     "data": {
      "text/html": [
       "<div>\n",
       "<style>\n",
       "    .dataframe thead tr:only-child th {\n",
       "        text-align: right;\n",
       "    }\n",
       "\n",
       "    .dataframe thead th {\n",
       "        text-align: left;\n",
       "    }\n",
       "\n",
       "    .dataframe tbody tr th {\n",
       "        vertical-align: top;\n",
       "    }\n",
       "</style>\n",
       "<table border=\"1\" class=\"dataframe\">\n",
       "  <thead>\n",
       "    <tr style=\"text-align: right;\">\n",
       "      <th></th>\n",
       "      <th>NbOrders</th>\n",
       "      <th>TotalSpent</th>\n",
       "      <th>AverageSpent</th>\n",
       "      <th>MinSpent</th>\n",
       "      <th>MaxSpent</th>\n",
       "      <th>TotalQuantity</th>\n",
       "      <th>NbCanceled</th>\n",
       "      <th>NbDiscount</th>\n",
       "      <th>NbPromo</th>\n",
       "      <th>isUK</th>\n",
       "      <th>LastPurchase</th>\n",
       "      <th>size</th>\n",
       "    </tr>\n",
       "    <tr>\n",
       "      <th>Cluster</th>\n",
       "      <th></th>\n",
       "      <th></th>\n",
       "      <th></th>\n",
       "      <th></th>\n",
       "      <th></th>\n",
       "      <th></th>\n",
       "      <th></th>\n",
       "      <th></th>\n",
       "      <th></th>\n",
       "      <th></th>\n",
       "      <th></th>\n",
       "      <th></th>\n",
       "    </tr>\n",
       "  </thead>\n",
       "  <tbody>\n",
       "    <tr>\n",
       "      <th>4.0</th>\n",
       "      <td>3.354592</td>\n",
       "      <td>370.688852</td>\n",
       "      <td>104.490823</td>\n",
       "      <td>421.879664</td>\n",
       "      <td>513.795378</td>\n",
       "      <td>199.308673</td>\n",
       "      <td>3.099490</td>\n",
       "      <td>0.000000</td>\n",
       "      <td>0.007653</td>\n",
       "      <td>0.931122</td>\n",
       "      <td>118.719388</td>\n",
       "      <td>392</td>\n",
       "    </tr>\n",
       "    <tr>\n",
       "      <th>2.0</th>\n",
       "      <td>4.483926</td>\n",
       "      <td>1858.369069</td>\n",
       "      <td>411.387314</td>\n",
       "      <td>236.746751</td>\n",
       "      <td>634.641861</td>\n",
       "      <td>1150.878173</td>\n",
       "      <td>0.000000</td>\n",
       "      <td>0.000000</td>\n",
       "      <td>0.003384</td>\n",
       "      <td>0.891709</td>\n",
       "      <td>42.827411</td>\n",
       "      <td>591</td>\n",
       "    </tr>\n",
       "    <tr>\n",
       "      <th>1.0</th>\n",
       "      <td>10.489392</td>\n",
       "      <td>4349.100014</td>\n",
       "      <td>399.849685</td>\n",
       "      <td>258.426450</td>\n",
       "      <td>1155.818076</td>\n",
       "      <td>2551.598303</td>\n",
       "      <td>5.782178</td>\n",
       "      <td>0.076379</td>\n",
       "      <td>0.018388</td>\n",
       "      <td>0.879774</td>\n",
       "      <td>36.966054</td>\n",
       "      <td>707</td>\n",
       "    </tr>\n",
       "    <tr>\n",
       "      <th>3.0</th>\n",
       "      <td>1.254768</td>\n",
       "      <td>584.688706</td>\n",
       "      <td>479.992446</td>\n",
       "      <td>475.658038</td>\n",
       "      <td>512.231213</td>\n",
       "      <td>346.419619</td>\n",
       "      <td>0.046322</td>\n",
       "      <td>0.000000</td>\n",
       "      <td>0.002725</td>\n",
       "      <td>0.862398</td>\n",
       "      <td>125.904632</td>\n",
       "      <td>734</td>\n",
       "    </tr>\n",
       "    <tr>\n",
       "      <th>0.0</th>\n",
       "      <td>1.451892</td>\n",
       "      <td>193.492378</td>\n",
       "      <td>136.776334</td>\n",
       "      <td>125.180822</td>\n",
       "      <td>152.273070</td>\n",
       "      <td>109.392432</td>\n",
       "      <td>0.028108</td>\n",
       "      <td>0.000000</td>\n",
       "      <td>0.000000</td>\n",
       "      <td>0.941622</td>\n",
       "      <td>126.375135</td>\n",
       "      <td>925</td>\n",
       "    </tr>\n",
       "  </tbody>\n",
       "</table>\n",
       "</div>"
      ],
      "text/plain": [
       "          NbOrders   TotalSpent  AverageSpent    MinSpent     MaxSpent  \\\n",
       "Cluster                                                                  \n",
       "4.0       3.354592   370.688852    104.490823  421.879664   513.795378   \n",
       "2.0       4.483926  1858.369069    411.387314  236.746751   634.641861   \n",
       "1.0      10.489392  4349.100014    399.849685  258.426450  1155.818076   \n",
       "3.0       1.254768   584.688706    479.992446  475.658038   512.231213   \n",
       "0.0       1.451892   193.492378    136.776334  125.180822   152.273070   \n",
       "\n",
       "         TotalQuantity  NbCanceled  NbDiscount   NbPromo      isUK  \\\n",
       "Cluster                                                              \n",
       "4.0         199.308673    3.099490    0.000000  0.007653  0.931122   \n",
       "2.0        1150.878173    0.000000    0.000000  0.003384  0.891709   \n",
       "1.0        2551.598303    5.782178    0.076379  0.018388  0.879774   \n",
       "3.0         346.419619    0.046322    0.000000  0.002725  0.862398   \n",
       "0.0         109.392432    0.028108    0.000000  0.000000  0.941622   \n",
       "\n",
       "         LastPurchase  size  \n",
       "Cluster                      \n",
       "4.0        118.719388   392  \n",
       "2.0         42.827411   591  \n",
       "1.0         36.966054   707  \n",
       "3.0        125.904632   734  \n",
       "0.0        126.375135   925  "
      ]
     },
     "execution_count": 25,
     "metadata": {},
     "output_type": "execute_result"
    }
   ],
   "source": [
    "clusters_df = pd.DataFrame()\n",
    "for i in range(n_clusters):\n",
    "    mean_data = pd.DataFrame(customers_data[customers_data['Cluster'] == i].mean())\n",
    "    mean_data = mean_data.T.set_index('Cluster', drop = True)\n",
    "    mean_data['size'] = customers_data[customers_data['Cluster'] == i].shape[0]\n",
    "    clusters_df = pd.concat([clusters_df, mean_data])\n",
    "\n",
    "clusters_df.drop('CustomerID', axis = 1, inplace = True)\n",
    "\n",
    "clusters_df = clusters_df.sort_values('size')\n",
    "clusters_df"
   ]
  },
  {
   "cell_type": "markdown",
   "metadata": {},
   "source": [
    "### Analyse\n",
    "\n",
    "|         | NbOrders | TotalSpent | AverageSpent |MinSpent | MaxSpent |TotalQuantity | NbCanceled |NbDiscount |NbPromo |isUK |LastPurchase |\n",
    "|---------|-----------------|-----------------|-----------------|-----------------|-----------------|\n",
    "|Mediane  |     2         | 523         |         226\t    | 182            | 332 |290 | 0 | 0 | 0 | 1 | 72 |"
   ]
  },
  {
   "cell_type": "markdown",
   "metadata": {},
   "source": [
    "- Cluster 1 (#3) : **clients fidèles** : client qui achètent régulièrement et qui sont actifs on un panier moyen plus élevé que la moyenne. Ce sont aussi ceux qui annulent le plus et ceux qui sont potentiellement intéressés par les remises (discount) et les promotions.\n",
    "- Cluster 2 (#4) : **clients à haute valeur** : Ils ont le panier moyen le plus élevés et reviennent faire des achats. Ils n'ont pas du tout de commande annulée.\n",
    "- Cluster 3 (#2) : **clients à potentiel** : clients rares mais qui ont un panier moyen le plus élevé. Mais ils ne sont pas revenus depuis quelques mois et ont fait légerement plus d'un achat sur la plateforme. Ce sont des clients à relancer pour développer les ventes.\n",
    "- Cluster 4 (#5) : **clients standards** : clients qui ont acheté plusieurs fois mais pas de commandes très élevées et souvent en petite quantité. Ils ne sont pas revenus depuis quelques mois et semblent intéressés par les promos. Ils peuvent aussi potentiellement annuler leurs commandes. Ce sont très largement des clients Anglais.\n",
    "- Cluster 0 (#1) : **clients à faible valeur ** : ils ont acheté en moyenne moins de 2 fois et ont un panier plus faible que la moyenne et font des achats à faibles montants. Ce sont des client qui ne sont pas revenus depuis au moins 4 mois en moyenne. Ils sont très majoritairement Anglais.\n",
    "\n",
    "\n"
   ]
  },
  {
   "cell_type": "markdown",
   "metadata": {},
   "source": [
    "## 3.5 Sauvegarde des données "
   ]
  },
  {
   "cell_type": "markdown",
   "metadata": {},
   "source": [
    "Nous regroupons les données d'achats par clients au niveau du jeu de test."
   ]
  },
  {
   "cell_type": "code",
   "execution_count": 26,
   "metadata": {},
   "outputs": [
    {
     "data": {
      "text/html": [
       "<div>\n",
       "<style>\n",
       "    .dataframe thead tr:only-child th {\n",
       "        text-align: right;\n",
       "    }\n",
       "\n",
       "    .dataframe thead th {\n",
       "        text-align: left;\n",
       "    }\n",
       "\n",
       "    .dataframe tbody tr th {\n",
       "        vertical-align: top;\n",
       "    }\n",
       "</style>\n",
       "<table border=\"1\" class=\"dataframe\">\n",
       "  <thead>\n",
       "    <tr style=\"text-align: right;\">\n",
       "      <th></th>\n",
       "      <th>CustomerID</th>\n",
       "      <th>NbOrders</th>\n",
       "      <th>TotalSpent</th>\n",
       "      <th>AverageSpent</th>\n",
       "      <th>MinSpent</th>\n",
       "      <th>MaxSpent</th>\n",
       "      <th>TotalQuantity</th>\n",
       "      <th>NbCanceled</th>\n",
       "      <th>NbDiscount</th>\n",
       "      <th>NbPromo</th>\n",
       "      <th>isUK</th>\n",
       "      <th>LastPurchase</th>\n",
       "    </tr>\n",
       "  </thead>\n",
       "  <tbody>\n",
       "    <tr>\n",
       "      <th>0</th>\n",
       "      <td>12347.0</td>\n",
       "      <td>2</td>\n",
       "      <td>1519.14</td>\n",
       "      <td>759.570000</td>\n",
       "      <td>224.82</td>\n",
       "      <td>1294.32</td>\n",
       "      <td>868</td>\n",
       "      <td>0</td>\n",
       "      <td>0</td>\n",
       "      <td>0</td>\n",
       "      <td>0</td>\n",
       "      <td>2</td>\n",
       "    </tr>\n",
       "    <tr>\n",
       "      <th>1</th>\n",
       "      <td>12348.0</td>\n",
       "      <td>1</td>\n",
       "      <td>270.00</td>\n",
       "      <td>270.000000</td>\n",
       "      <td>270.00</td>\n",
       "      <td>270.00</td>\n",
       "      <td>216</td>\n",
       "      <td>0</td>\n",
       "      <td>0</td>\n",
       "      <td>0</td>\n",
       "      <td>0</td>\n",
       "      <td>75</td>\n",
       "    </tr>\n",
       "    <tr>\n",
       "      <th>2</th>\n",
       "      <td>12349.0</td>\n",
       "      <td>1</td>\n",
       "      <td>1457.55</td>\n",
       "      <td>1457.550000</td>\n",
       "      <td>1457.55</td>\n",
       "      <td>1457.55</td>\n",
       "      <td>630</td>\n",
       "      <td>0</td>\n",
       "      <td>0</td>\n",
       "      <td>0</td>\n",
       "      <td>0</td>\n",
       "      <td>18</td>\n",
       "    </tr>\n",
       "    <tr>\n",
       "      <th>3</th>\n",
       "      <td>12352.0</td>\n",
       "      <td>3</td>\n",
       "      <td>744.23</td>\n",
       "      <td>248.076667</td>\n",
       "      <td>226.25</td>\n",
       "      <td>286.25</td>\n",
       "      <td>277</td>\n",
       "      <td>0</td>\n",
       "      <td>0</td>\n",
       "      <td>0</td>\n",
       "      <td>0</td>\n",
       "      <td>36</td>\n",
       "    </tr>\n",
       "    <tr>\n",
       "      <th>4</th>\n",
       "      <td>12356.0</td>\n",
       "      <td>1</td>\n",
       "      <td>58.35</td>\n",
       "      <td>58.350000</td>\n",
       "      <td>58.35</td>\n",
       "      <td>58.35</td>\n",
       "      <td>5</td>\n",
       "      <td>0</td>\n",
       "      <td>0</td>\n",
       "      <td>0</td>\n",
       "      <td>0</td>\n",
       "      <td>22</td>\n",
       "    </tr>\n",
       "  </tbody>\n",
       "</table>\n",
       "</div>"
      ],
      "text/plain": [
       "   CustomerID  NbOrders  TotalSpent  AverageSpent  MinSpent  MaxSpent  \\\n",
       "0     12347.0         2     1519.14    759.570000    224.82   1294.32   \n",
       "1     12348.0         1      270.00    270.000000    270.00    270.00   \n",
       "2     12349.0         1     1457.55   1457.550000   1457.55   1457.55   \n",
       "3     12352.0         3      744.23    248.076667    226.25    286.25   \n",
       "4     12356.0         1       58.35     58.350000     58.35     58.35   \n",
       "\n",
       "   TotalQuantity  NbCanceled  NbDiscount  NbPromo  isUK  LastPurchase  \n",
       "0            868           0           0        0     0             2  \n",
       "1            216           0           0        0     0            75  \n",
       "2            630           0           0        0     0            18  \n",
       "3            277           0           0        0     0            36  \n",
       "4              5           0           0        0     0            22  "
      ]
     },
     "metadata": {},
     "output_type": "display_data"
    }
   ],
   "source": [
    "customers_test_TS = createDataStructureByCustomer(test_orders)\n",
    "display(customers_test_TS.head())"
   ]
  },
  {
   "cell_type": "code",
   "execution_count": 27,
   "metadata": {
    "collapsed": true
   },
   "outputs": [],
   "source": [
    "# Sauvegarde du jeu d'entrainement\n",
    "customers_clusters_TS.to_csv('customers_clusters_TS.csv', index=False)"
   ]
  },
  {
   "cell_type": "code",
   "execution_count": 28,
   "metadata": {
    "collapsed": true
   },
   "outputs": [],
   "source": [
    "# Sauvegarde du jeu de test\n",
    "test_matrix = transformAsQuantileMatrix(customers_test_TS.drop(['CustomerID'], axis=1))\n",
    "pd.DataFrame(test_matrix).to_csv('customers_test_TS.csv', index=False)"
   ]
  },
  {
   "cell_type": "markdown",
   "metadata": {},
   "source": [
    "On sauve aussi l'algorithme kmeans qui a permis de trouver les cluster."
   ]
  },
  {
   "cell_type": "code",
   "execution_count": 29,
   "metadata": {},
   "outputs": [
    {
     "data": {
      "text/plain": [
       "['kmeans_cluster_TS.pkl']"
      ]
     },
     "execution_count": 29,
     "metadata": {},
     "output_type": "execute_result"
    }
   ],
   "source": [
    "from sklearn.externals import joblib\n",
    "joblib.dump(k_means_cluster, 'kmeans_cluster_TS.pkl')"
   ]
  },
  {
   "cell_type": "markdown",
   "metadata": {},
   "source": [
    "# 4. Séparation aléatoire des clients"
   ]
  },
  {
   "cell_type": "markdown",
   "metadata": {},
   "source": [
    "Pour vérifier la robustesse de notre travail, nous allons essayer maintenant de séparer les données clients en jeu de test et d'entrainement de manière aléatoire (30% / 70%)."
   ]
  },
  {
   "cell_type": "markdown",
   "metadata": {},
   "source": [
    "## 4.1 Création de la structure"
   ]
  },
  {
   "cell_type": "markdown",
   "metadata": {},
   "source": [
    "On créé une table clients à partir de toutes les commandes."
   ]
  },
  {
   "cell_type": "code",
   "execution_count": 30,
   "metadata": {
    "collapsed": true
   },
   "outputs": [],
   "source": [
    "all_customers_data = createDataStructureByCustomer(orders_data)"
   ]
  },
  {
   "cell_type": "code",
   "execution_count": 31,
   "metadata": {},
   "outputs": [
    {
     "data": {
      "text/html": [
       "<div>\n",
       "<style>\n",
       "    .dataframe thead tr:only-child th {\n",
       "        text-align: right;\n",
       "    }\n",
       "\n",
       "    .dataframe thead th {\n",
       "        text-align: left;\n",
       "    }\n",
       "\n",
       "    .dataframe tbody tr th {\n",
       "        vertical-align: top;\n",
       "    }\n",
       "</style>\n",
       "<table border=\"1\" class=\"dataframe\">\n",
       "  <thead>\n",
       "    <tr style=\"text-align: right;\">\n",
       "      <th></th>\n",
       "      <th>CustomerID</th>\n",
       "      <th>NbOrders</th>\n",
       "      <th>TotalSpent</th>\n",
       "      <th>AverageSpent</th>\n",
       "      <th>MinSpent</th>\n",
       "      <th>MaxSpent</th>\n",
       "      <th>TotalQuantity</th>\n",
       "      <th>NbCanceled</th>\n",
       "      <th>NbDiscount</th>\n",
       "      <th>NbPromo</th>\n",
       "      <th>isUK</th>\n",
       "      <th>LastPurchase</th>\n",
       "    </tr>\n",
       "  </thead>\n",
       "  <tbody>\n",
       "    <tr>\n",
       "      <th>0</th>\n",
       "      <td>12346.0</td>\n",
       "      <td>2</td>\n",
       "      <td>0.00</td>\n",
       "      <td>0.000000</td>\n",
       "      <td>77183.60</td>\n",
       "      <td>77183.60</td>\n",
       "      <td>0</td>\n",
       "      <td>1</td>\n",
       "      <td>0</td>\n",
       "      <td>0</td>\n",
       "      <td>1</td>\n",
       "      <td>325</td>\n",
       "    </tr>\n",
       "    <tr>\n",
       "      <th>1</th>\n",
       "      <td>12347.0</td>\n",
       "      <td>7</td>\n",
       "      <td>4310.00</td>\n",
       "      <td>615.714286</td>\n",
       "      <td>224.82</td>\n",
       "      <td>1294.32</td>\n",
       "      <td>2458</td>\n",
       "      <td>0</td>\n",
       "      <td>0</td>\n",
       "      <td>0</td>\n",
       "      <td>0</td>\n",
       "      <td>2</td>\n",
       "    </tr>\n",
       "    <tr>\n",
       "      <th>2</th>\n",
       "      <td>12348.0</td>\n",
       "      <td>4</td>\n",
       "      <td>1437.24</td>\n",
       "      <td>359.310000</td>\n",
       "      <td>187.44</td>\n",
       "      <td>652.80</td>\n",
       "      <td>2332</td>\n",
       "      <td>0</td>\n",
       "      <td>0</td>\n",
       "      <td>0</td>\n",
       "      <td>0</td>\n",
       "      <td>75</td>\n",
       "    </tr>\n",
       "    <tr>\n",
       "      <th>3</th>\n",
       "      <td>12349.0</td>\n",
       "      <td>1</td>\n",
       "      <td>1457.55</td>\n",
       "      <td>1457.550000</td>\n",
       "      <td>1457.55</td>\n",
       "      <td>1457.55</td>\n",
       "      <td>630</td>\n",
       "      <td>0</td>\n",
       "      <td>0</td>\n",
       "      <td>0</td>\n",
       "      <td>0</td>\n",
       "      <td>18</td>\n",
       "    </tr>\n",
       "    <tr>\n",
       "      <th>4</th>\n",
       "      <td>12350.0</td>\n",
       "      <td>1</td>\n",
       "      <td>294.40</td>\n",
       "      <td>294.400000</td>\n",
       "      <td>294.40</td>\n",
       "      <td>294.40</td>\n",
       "      <td>196</td>\n",
       "      <td>0</td>\n",
       "      <td>0</td>\n",
       "      <td>0</td>\n",
       "      <td>0</td>\n",
       "      <td>310</td>\n",
       "    </tr>\n",
       "  </tbody>\n",
       "</table>\n",
       "</div>"
      ],
      "text/plain": [
       "   CustomerID  NbOrders  TotalSpent  AverageSpent  MinSpent  MaxSpent  \\\n",
       "0     12346.0         2        0.00      0.000000  77183.60  77183.60   \n",
       "1     12347.0         7     4310.00    615.714286    224.82   1294.32   \n",
       "2     12348.0         4     1437.24    359.310000    187.44    652.80   \n",
       "3     12349.0         1     1457.55   1457.550000   1457.55   1457.55   \n",
       "4     12350.0         1      294.40    294.400000    294.40    294.40   \n",
       "\n",
       "   TotalQuantity  NbCanceled  NbDiscount  NbPromo  isUK  LastPurchase  \n",
       "0              0           1           0        0     1           325  \n",
       "1           2458           0           0        0     0             2  \n",
       "2           2332           0           0        0     0            75  \n",
       "3            630           0           0        0     0            18  \n",
       "4            196           0           0        0     0           310  "
      ]
     },
     "metadata": {},
     "output_type": "display_data"
    },
    {
     "data": {
      "text/plain": [
       "(4363, 12)"
      ]
     },
     "execution_count": 31,
     "metadata": {},
     "output_type": "execute_result"
    }
   ],
   "source": [
    "display(all_customers_data.head())\n",
    "all_customers_data.shape"
   ]
  },
  {
   "cell_type": "markdown",
   "metadata": {},
   "source": [
    "## 4.2 Jeu d'entrainement et de test"
   ]
  },
  {
   "cell_type": "markdown",
   "metadata": {},
   "source": [
    "On créé notre jeu d'entrainement et de test (répartition 70/30)"
   ]
  },
  {
   "cell_type": "code",
   "execution_count": 32,
   "metadata": {},
   "outputs": [],
   "source": [
    "msk = np.random.rand(len(all_customers_data)) < 0.7\n",
    "train_customers = all_customers_data[msk].copy()\n",
    "test_customers = all_customers_data[~msk].copy()"
   ]
  },
  {
   "cell_type": "code",
   "execution_count": 33,
   "metadata": {},
   "outputs": [
    {
     "name": "stdout",
     "output_type": "stream",
     "text": [
      "Nb customers in training set :  3032\n",
      "Nb customers in testing set  :  1331\n"
     ]
    }
   ],
   "source": [
    "print('Nb customers in training set : ', len(train_customers))\n",
    "print('Nb customers in testing set  : ', len(test_customers))"
   ]
  },
  {
   "cell_type": "markdown",
   "metadata": {},
   "source": [
    "## 4.3 Partitionnement des données avec KMeans"
   ]
  },
  {
   "cell_type": "markdown",
   "metadata": {},
   "source": [
    "### Construction de la matrice données"
   ]
  },
  {
   "cell_type": "code",
   "execution_count": 34,
   "metadata": {
    "collapsed": true
   },
   "outputs": [],
   "source": [
    "X = train_customers.drop(['CustomerID'], axis=1)"
   ]
  },
  {
   "cell_type": "markdown",
   "metadata": {},
   "source": [
    "### Utilisation des quantiles pour valoriser les données de chacune des variables\n",
    "Même principe que précédement."
   ]
  },
  {
   "cell_type": "code",
   "execution_count": 35,
   "metadata": {
    "collapsed": true
   },
   "outputs": [],
   "source": [
    "X_std = transformAsQuantileMatrix(X)"
   ]
  },
  {
   "cell_type": "markdown",
   "metadata": {},
   "source": [
    "### Calcul du coefficient de silhouette par cluster"
   ]
  },
  {
   "cell_type": "code",
   "execution_count": 36,
   "metadata": {},
   "outputs": [
    {
     "name": "stdout",
     "output_type": "stream",
     "text": [
      "Pour n_clusters = 2 La moyenne du score de silhouette est : 0.316\n",
      "Pour n_clusters = 3 La moyenne du score de silhouette est : 0.296\n",
      "Pour n_clusters = 4 La moyenne du score de silhouette est : 0.270\n",
      "Pour n_clusters = 5 La moyenne du score de silhouette est : 0.283\n",
      "Pour n_clusters = 6 La moyenne du score de silhouette est : 0.269\n",
      "Pour n_clusters = 7 La moyenne du score de silhouette est : 0.265\n",
      "Pour n_clusters = 8 La moyenne du score de silhouette est : 0.245\n",
      "Pour n_clusters = 9 La moyenne du score de silhouette est : 0.254\n",
      "Pour n_clusters = 10 La moyenne du score de silhouette est : 0.251\n",
      "Pour n_clusters = 11 La moyenne du score de silhouette est : 0.248\n",
      "Pour n_clusters = 12 La moyenne du score de silhouette est : 0.247\n"
     ]
    },
    {
     "data": {
      "image/png": "[encoded data removed]",
      "text/plain": [
       "<matplotlib.figure.Figure at 0x1a144d2588>"
      ]
     },
     "metadata": {},
     "output_type": "display_data"
    }
   ],
   "source": [
    "kmeans_silhouette_score(X_std)"
   ]
  },
  {
   "cell_type": "markdown",
   "metadata": {},
   "source": [
    "On obtient les meilleurs score avec k=2, puis k=3 mais comme on veut au minimum 4 clusters, on choisit k=5 (en plus c'est la même valeur que dans le scénario précent ;-)"
   ]
  },
  {
   "cell_type": "markdown",
   "metadata": {},
   "source": [
    "Nous partons donc sur 5 clusters et faisons les prédictions de labels avec l'algorithme **Kmeans**."
   ]
  },
  {
   "cell_type": "code",
   "execution_count": 37,
   "metadata": {
    "collapsed": true
   },
   "outputs": [],
   "source": [
    "n_clusters = 5\n",
    "k_means_cluster = KMeans(init='k-means++', n_clusters=n_clusters, n_init=100)\n",
    "cluster_labels = k_means_cluster.fit_predict( X_std )"
   ]
  },
  {
   "cell_type": "markdown",
   "metadata": {},
   "source": [
    "### Silhouette plot"
   ]
  },
  {
   "cell_type": "code",
   "execution_count": 38,
   "metadata": {},
   "outputs": [
    {
     "data": {
      "image/png": "[encoded data removed]",
      "text/plain": [
       "<matplotlib.figure.Figure at 0x1a14770908>"
      ]
     },
     "metadata": {},
     "output_type": "display_data"
    }
   ],
   "source": [
    "display_silhouette_plot(X_std, cluster_labels)"
   ]
  },
  {
   "cell_type": "markdown",
   "metadata": {},
   "source": [
    "Tous les clusters ont des valeurs supérieure à la moyenne du coefficient de silhouette. Les clusters sont à peu près équilibrés."
   ]
  },
  {
   "cell_type": "markdown",
   "metadata": {},
   "source": [
    "### Répartition par nombre de clients"
   ]
  },
  {
   "cell_type": "code",
   "execution_count": 39,
   "metadata": {},
   "outputs": [
    {
     "data": {
      "text/html": [
       "<div>\n",
       "<style>\n",
       "    .dataframe thead tr:only-child th {\n",
       "        text-align: right;\n",
       "    }\n",
       "\n",
       "    .dataframe thead th {\n",
       "        text-align: left;\n",
       "    }\n",
       "\n",
       "    .dataframe tbody tr th {\n",
       "        vertical-align: top;\n",
       "    }\n",
       "</style>\n",
       "<table border=\"1\" class=\"dataframe\">\n",
       "  <thead>\n",
       "    <tr style=\"text-align: right;\">\n",
       "      <th></th>\n",
       "      <th>4</th>\n",
       "      <th>1</th>\n",
       "      <th>3</th>\n",
       "      <th>2</th>\n",
       "      <th>0</th>\n",
       "    </tr>\n",
       "  </thead>\n",
       "  <tbody>\n",
       "    <tr>\n",
       "      <th>NbCustomers</th>\n",
       "      <td>888</td>\n",
       "      <td>673</td>\n",
       "      <td>668</td>\n",
       "      <td>450</td>\n",
       "      <td>353</td>\n",
       "    </tr>\n",
       "  </tbody>\n",
       "</table>\n",
       "</div>"
      ],
      "text/plain": [
       "               4    1    3    2    0\n",
       "NbCustomers  888  673  668  450  353"
      ]
     },
     "execution_count": 39,
     "metadata": {},
     "output_type": "execute_result"
    }
   ],
   "source": [
    "pd.DataFrame(pd.Series(cluster_labels).value_counts(), columns = ['NbCustomers']).sort_values(by='NbCustomers',ascending=False).T"
   ]
  },
  {
   "cell_type": "markdown",
   "metadata": {},
   "source": [
    "### Affichage des clusters"
   ]
  },
  {
   "cell_type": "code",
   "execution_count": 40,
   "metadata": {
    "collapsed": true
   },
   "outputs": [],
   "source": [
    "tsne = manifold.TSNE(n_components=2, init='pca')\n",
    "tsne_results = tsne.fit_transform(X_std)"
   ]
  },
  {
   "cell_type": "code",
   "execution_count": 41,
   "metadata": {},
   "outputs": [
    {
     "data": {
      "text/plain": [
       "<matplotlib.text.Text at 0x1a14994898>"
      ]
     },
     "execution_count": 41,
     "metadata": {},
     "output_type": "execute_result"
    },
    {
     "data": {
      "image/png": "[encoded data removed]",
      "text/plain": [
       "<matplotlib.figure.Figure at 0x1a1478be80>"
      ]
     },
     "metadata": {},
     "output_type": "display_data"
    }
   ],
   "source": [
    "plt.scatter(tsne_results[:, 0], tsne_results[:, 1], c=cluster_labels)\n",
    "plt.xlim([np.min(tsne_results[:, 0]), np.max(tsne_results[:, 0])])\n",
    "plt.ylim([np.min(tsne_results[:, 1]), np.max(tsne_results[:, 1])])\n",
    "plt.title('Clustering avec KMeans')"
   ]
  },
  {
   "cell_type": "markdown",
   "metadata": {},
   "source": [
    "On retrouve globalement des clusters homogènes même si certains points sont éloignés du cluster d'appartenance."
   ]
  },
  {
   "cell_type": "markdown",
   "metadata": {},
   "source": [
    "## 4.4 Interprétation des segments"
   ]
  },
  {
   "cell_type": "code",
   "execution_count": 42,
   "metadata": {},
   "outputs": [],
   "source": [
    "train_customers[\"Cluster\"]= cluster_labels\n",
    "# Entrainement et tests découpés par client aléatoirement\n",
    "customers_clusters_Random = pd.DataFrame(X_std)\n",
    "customers_clusters_Random[\"Cluster\"]= cluster_labels"
   ]
  },
  {
   "cell_type": "code",
   "execution_count": 43,
   "metadata": {},
   "outputs": [
    {
     "data": {
      "text/html": [
       "<div>\n",
       "<style>\n",
       "    .dataframe thead tr:only-child th {\n",
       "        text-align: right;\n",
       "    }\n",
       "\n",
       "    .dataframe thead th {\n",
       "        text-align: left;\n",
       "    }\n",
       "\n",
       "    .dataframe tbody tr th {\n",
       "        vertical-align: top;\n",
       "    }\n",
       "</style>\n",
       "<table border=\"1\" class=\"dataframe\">\n",
       "  <thead>\n",
       "    <tr style=\"text-align: right;\">\n",
       "      <th></th>\n",
       "      <th>count</th>\n",
       "      <th>mean</th>\n",
       "      <th>std</th>\n",
       "      <th>min</th>\n",
       "      <th>25%</th>\n",
       "      <th>50%</th>\n",
       "      <th>75%</th>\n",
       "      <th>max</th>\n",
       "    </tr>\n",
       "  </thead>\n",
       "  <tbody>\n",
       "    <tr>\n",
       "      <th>CustomerID</th>\n",
       "      <td>3032.0</td>\n",
       "      <td>15256.204815</td>\n",
       "      <td>1715.558825</td>\n",
       "      <td>12346.0</td>\n",
       "      <td>13779.50000</td>\n",
       "      <td>15234.500</td>\n",
       "      <td>16723.5000</td>\n",
       "      <td>18287.000</td>\n",
       "    </tr>\n",
       "    <tr>\n",
       "      <th>NbOrders</th>\n",
       "      <td>3032.0</td>\n",
       "      <td>4.950198</td>\n",
       "      <td>9.047357</td>\n",
       "      <td>1.0</td>\n",
       "      <td>1.00000</td>\n",
       "      <td>3.000</td>\n",
       "      <td>5.0000</td>\n",
       "      <td>243.000</td>\n",
       "    </tr>\n",
       "    <tr>\n",
       "      <th>TotalSpent</th>\n",
       "      <td>3032.0</td>\n",
       "      <td>1890.307952</td>\n",
       "      <td>8750.319489</td>\n",
       "      <td>-1192.2</td>\n",
       "      <td>288.35000</td>\n",
       "      <td>630.075</td>\n",
       "      <td>1534.9900</td>\n",
       "      <td>278571.620</td>\n",
       "    </tr>\n",
       "    <tr>\n",
       "      <th>AverageSpent</th>\n",
       "      <td>3032.0</td>\n",
       "      <td>320.061970</td>\n",
       "      <td>409.380355</td>\n",
       "      <td>-1192.2</td>\n",
       "      <td>151.11375</td>\n",
       "      <td>235.685</td>\n",
       "      <td>361.5600</td>\n",
       "      <td>9904.875</td>\n",
       "    </tr>\n",
       "    <tr>\n",
       "      <th>MinSpent</th>\n",
       "      <td>3012.0</td>\n",
       "      <td>273.675432</td>\n",
       "      <td>1448.931167</td>\n",
       "      <td>0.0</td>\n",
       "      <td>98.22750</td>\n",
       "      <td>168.390</td>\n",
       "      <td>306.5250</td>\n",
       "      <td>77183.600</td>\n",
       "    </tr>\n",
       "    <tr>\n",
       "      <th>MaxSpent</th>\n",
       "      <td>3012.0</td>\n",
       "      <td>661.698264</td>\n",
       "      <td>3583.023255</td>\n",
       "      <td>15.0</td>\n",
       "      <td>219.27000</td>\n",
       "      <td>360.580</td>\n",
       "      <td>599.6075</td>\n",
       "      <td>168469.600</td>\n",
       "    </tr>\n",
       "    <tr>\n",
       "      <th>TotalQuantity</th>\n",
       "      <td>3032.0</td>\n",
       "      <td>1146.279683</td>\n",
       "      <td>5200.896240</td>\n",
       "      <td>-303.0</td>\n",
       "      <td>155.00000</td>\n",
       "      <td>363.000</td>\n",
       "      <td>962.2500</td>\n",
       "      <td>197131.000</td>\n",
       "    </tr>\n",
       "    <tr>\n",
       "      <th>NbCanceled</th>\n",
       "      <td>3032.0</td>\n",
       "      <td>2.030673</td>\n",
       "      <td>7.951149</td>\n",
       "      <td>0.0</td>\n",
       "      <td>0.00000</td>\n",
       "      <td>0.000</td>\n",
       "      <td>1.0000</td>\n",
       "      <td>223.000</td>\n",
       "    </tr>\n",
       "    <tr>\n",
       "      <th>NbDiscount</th>\n",
       "      <td>3032.0</td>\n",
       "      <td>0.019459</td>\n",
       "      <td>0.650318</td>\n",
       "      <td>0.0</td>\n",
       "      <td>0.00000</td>\n",
       "      <td>0.000</td>\n",
       "      <td>0.0000</td>\n",
       "      <td>35.000</td>\n",
       "    </tr>\n",
       "    <tr>\n",
       "      <th>NbPromo</th>\n",
       "      <td>3032.0</td>\n",
       "      <td>0.008245</td>\n",
       "      <td>0.131977</td>\n",
       "      <td>0.0</td>\n",
       "      <td>0.00000</td>\n",
       "      <td>0.000</td>\n",
       "      <td>0.0000</td>\n",
       "      <td>4.000</td>\n",
       "    </tr>\n",
       "    <tr>\n",
       "      <th>isUK</th>\n",
       "      <td>3032.0</td>\n",
       "      <td>0.906332</td>\n",
       "      <td>0.291414</td>\n",
       "      <td>0.0</td>\n",
       "      <td>1.00000</td>\n",
       "      <td>1.000</td>\n",
       "      <td>1.0000</td>\n",
       "      <td>1.000</td>\n",
       "    </tr>\n",
       "    <tr>\n",
       "      <th>LastPurchase</th>\n",
       "      <td>3032.0</td>\n",
       "      <td>90.372361</td>\n",
       "      <td>100.764603</td>\n",
       "      <td>0.0</td>\n",
       "      <td>16.00000</td>\n",
       "      <td>48.000</td>\n",
       "      <td>138.5000</td>\n",
       "      <td>373.000</td>\n",
       "    </tr>\n",
       "    <tr>\n",
       "      <th>Cluster</th>\n",
       "      <td>3032.0</td>\n",
       "      <td>2.351253</td>\n",
       "      <td>1.398840</td>\n",
       "      <td>0.0</td>\n",
       "      <td>1.00000</td>\n",
       "      <td>3.000</td>\n",
       "      <td>4.0000</td>\n",
       "      <td>4.000</td>\n",
       "    </tr>\n",
       "  </tbody>\n",
       "</table>\n",
       "</div>"
      ],
      "text/plain": [
       "                count          mean          std      min          25%  \\\n",
       "CustomerID     3032.0  15256.204815  1715.558825  12346.0  13779.50000   \n",
       "NbOrders       3032.0      4.950198     9.047357      1.0      1.00000   \n",
       "TotalSpent     3032.0   1890.307952  8750.319489  -1192.2    288.35000   \n",
       "AverageSpent   3032.0    320.061970   409.380355  -1192.2    151.11375   \n",
       "MinSpent       3012.0    273.675432  1448.931167      0.0     98.22750   \n",
       "MaxSpent       3012.0    661.698264  3583.023255     15.0    219.27000   \n",
       "TotalQuantity  3032.0   1146.279683  5200.896240   -303.0    155.00000   \n",
       "NbCanceled     3032.0      2.030673     7.951149      0.0      0.00000   \n",
       "NbDiscount     3032.0      0.019459     0.650318      0.0      0.00000   \n",
       "NbPromo        3032.0      0.008245     0.131977      0.0      0.00000   \n",
       "isUK           3032.0      0.906332     0.291414      0.0      1.00000   \n",
       "LastPurchase   3032.0     90.372361   100.764603      0.0     16.00000   \n",
       "Cluster        3032.0      2.351253     1.398840      0.0      1.00000   \n",
       "\n",
       "                     50%         75%         max  \n",
       "CustomerID     15234.500  16723.5000   18287.000  \n",
       "NbOrders           3.000      5.0000     243.000  \n",
       "TotalSpent       630.075   1534.9900  278571.620  \n",
       "AverageSpent     235.685    361.5600    9904.875  \n",
       "MinSpent         168.390    306.5250   77183.600  \n",
       "MaxSpent         360.580    599.6075  168469.600  \n",
       "TotalQuantity    363.000    962.2500  197131.000  \n",
       "NbCanceled         0.000      1.0000     223.000  \n",
       "NbDiscount         0.000      0.0000      35.000  \n",
       "NbPromo            0.000      0.0000       4.000  \n",
       "isUK               1.000      1.0000       1.000  \n",
       "LastPurchase      48.000    138.5000     373.000  \n",
       "Cluster            3.000      4.0000       4.000  "
      ]
     },
     "execution_count": 43,
     "metadata": {},
     "output_type": "execute_result"
    }
   ],
   "source": [
    "train_customers.describe().T"
   ]
  },
  {
   "cell_type": "code",
   "execution_count": 44,
   "metadata": {},
   "outputs": [
    {
     "data": {
      "text/html": [
       "<div>\n",
       "<style>\n",
       "    .dataframe thead tr:only-child th {\n",
       "        text-align: right;\n",
       "    }\n",
       "\n",
       "    .dataframe thead th {\n",
       "        text-align: left;\n",
       "    }\n",
       "\n",
       "    .dataframe tbody tr th {\n",
       "        vertical-align: top;\n",
       "    }\n",
       "</style>\n",
       "<table border=\"1\" class=\"dataframe\">\n",
       "  <thead>\n",
       "    <tr style=\"text-align: right;\">\n",
       "      <th></th>\n",
       "      <th>NbOrders</th>\n",
       "      <th>TotalSpent</th>\n",
       "      <th>AverageSpent</th>\n",
       "      <th>MinSpent</th>\n",
       "      <th>MaxSpent</th>\n",
       "      <th>TotalQuantity</th>\n",
       "      <th>NbCanceled</th>\n",
       "      <th>NbDiscount</th>\n",
       "      <th>NbPromo</th>\n",
       "      <th>isUK</th>\n",
       "      <th>LastPurchase</th>\n",
       "      <th>size</th>\n",
       "    </tr>\n",
       "    <tr>\n",
       "      <th>Cluster</th>\n",
       "      <th></th>\n",
       "      <th></th>\n",
       "      <th></th>\n",
       "      <th></th>\n",
       "      <th></th>\n",
       "      <th></th>\n",
       "      <th></th>\n",
       "      <th></th>\n",
       "      <th></th>\n",
       "      <th></th>\n",
       "      <th></th>\n",
       "      <th></th>\n",
       "    </tr>\n",
       "  </thead>\n",
       "  <tbody>\n",
       "    <tr>\n",
       "      <th>0.0</th>\n",
       "      <td>3.660057</td>\n",
       "      <td>446.063711</td>\n",
       "      <td>114.443959</td>\n",
       "      <td>437.337628</td>\n",
       "      <td>1058.760180</td>\n",
       "      <td>282.220963</td>\n",
       "      <td>3.342776</td>\n",
       "      <td>0.005666</td>\n",
       "      <td>0.008499</td>\n",
       "      <td>0.903683</td>\n",
       "      <td>118.898017</td>\n",
       "      <td>353</td>\n",
       "    </tr>\n",
       "    <tr>\n",
       "      <th>2.0</th>\n",
       "      <td>5.426667</td>\n",
       "      <td>2512.452289</td>\n",
       "      <td>391.203969</td>\n",
       "      <td>177.592022</td>\n",
       "      <td>710.726978</td>\n",
       "      <td>1425.148889</td>\n",
       "      <td>0.000000</td>\n",
       "      <td>0.000000</td>\n",
       "      <td>0.002222</td>\n",
       "      <td>0.902222</td>\n",
       "      <td>34.053333</td>\n",
       "      <td>450</td>\n",
       "    </tr>\n",
       "    <tr>\n",
       "      <th>3.0</th>\n",
       "      <td>1.568862</td>\n",
       "      <td>862.307545</td>\n",
       "      <td>556.375666</td>\n",
       "      <td>519.807186</td>\n",
       "      <td>669.996243</td>\n",
       "      <td>504.220060</td>\n",
       "      <td>0.103293</td>\n",
       "      <td>0.000000</td>\n",
       "      <td>0.001497</td>\n",
       "      <td>0.872754</td>\n",
       "      <td>116.976048</td>\n",
       "      <td>668</td>\n",
       "    </tr>\n",
       "    <tr>\n",
       "      <th>1.0</th>\n",
       "      <td>13.096582</td>\n",
       "      <td>5434.607400</td>\n",
       "      <td>362.581830</td>\n",
       "      <td>192.127935</td>\n",
       "      <td>1065.432199</td>\n",
       "      <td>3357.264487</td>\n",
       "      <td>7.286776</td>\n",
       "      <td>0.084695</td>\n",
       "      <td>0.029718</td>\n",
       "      <td>0.895988</td>\n",
       "      <td>27.369985</td>\n",
       "      <td>673</td>\n",
       "    </tr>\n",
       "    <tr>\n",
       "      <th>4.0</th>\n",
       "      <td>1.591216</td>\n",
       "      <td>236.303457</td>\n",
       "      <td>155.755487</td>\n",
       "      <td>137.643311</td>\n",
       "      <td>175.729200</td>\n",
       "      <td>155.766892</td>\n",
       "      <td>0.004505</td>\n",
       "      <td>0.000000</td>\n",
       "      <td>0.000000</td>\n",
       "      <td>0.942568</td>\n",
       "      <td>135.308559</td>\n",
       "      <td>888</td>\n",
       "    </tr>\n",
       "  </tbody>\n",
       "</table>\n",
       "</div>"
      ],
      "text/plain": [
       "          NbOrders   TotalSpent  AverageSpent    MinSpent     MaxSpent  \\\n",
       "Cluster                                                                  \n",
       "0.0       3.660057   446.063711    114.443959  437.337628  1058.760180   \n",
       "2.0       5.426667  2512.452289    391.203969  177.592022   710.726978   \n",
       "3.0       1.568862   862.307545    556.375666  519.807186   669.996243   \n",
       "1.0      13.096582  5434.607400    362.581830  192.127935  1065.432199   \n",
       "4.0       1.591216   236.303457    155.755487  137.643311   175.729200   \n",
       "\n",
       "         TotalQuantity  NbCanceled  NbDiscount   NbPromo      isUK  \\\n",
       "Cluster                                                              \n",
       "0.0         282.220963    3.342776    0.005666  0.008499  0.903683   \n",
       "2.0        1425.148889    0.000000    0.000000  0.002222  0.902222   \n",
       "3.0         504.220060    0.103293    0.000000  0.001497  0.872754   \n",
       "1.0        3357.264487    7.286776    0.084695  0.029718  0.895988   \n",
       "4.0         155.766892    0.004505    0.000000  0.000000  0.942568   \n",
       "\n",
       "         LastPurchase  size  \n",
       "Cluster                      \n",
       "0.0        118.898017   353  \n",
       "2.0         34.053333   450  \n",
       "3.0        116.976048   668  \n",
       "1.0         27.369985   673  \n",
       "4.0        135.308559   888  "
      ]
     },
     "execution_count": 44,
     "metadata": {},
     "output_type": "execute_result"
    }
   ],
   "source": [
    "clusters_df = pd.DataFrame()\n",
    "for i in range(n_clusters):\n",
    "    mean_data = pd.DataFrame(train_customers[train_customers['Cluster'] == i].mean())\n",
    "    mean_data = mean_data.T.set_index('Cluster', drop = True)\n",
    "    mean_data['size'] = train_customers[train_customers['Cluster'] == i].shape[0]\n",
    "    clusters_df = pd.concat([clusters_df, mean_data])\n",
    "\n",
    "clusters_df.drop('CustomerID', axis = 1, inplace = True)\n",
    "\n",
    "clusters_df = clusters_df.sort_values('size')\n",
    "clusters_df"
   ]
  },
  {
   "cell_type": "markdown",
   "metadata": {},
   "source": [
    "### Analyse\n",
    "\n",
    "|         | NbOrders | TotalSpent | AverageSpent |MinSpent | MaxSpent |TotalQuantity | NbCanceled |NbDiscount |NbPromo |isUK |LastPurchase |\n",
    "|---------|-----------------|-----------------|-----------------|-----------------|-----------------|\n",
    "|Mediane  |     3         | 630         |         235    | 168            | 360 |363 | 0 | 0 | 0 | 1 | 48 |"
   ]
  },
  {
   "cell_type": "markdown",
   "metadata": {},
   "source": [
    "- Cluster 1 (#2) : **clients fidèles** : ont achetés régulièrement et plus que la moyenne.\n",
    "- Cluster 2 (#4) : **clients à haute valeur** : Ils ont un panier moyen élevé et ils reviennent faire des achats. \n",
    "- Cluster 3 (#3) : **clients à potentiel** : clients rares mais qui ont un panier moyen très élevé. \n",
    "- Cluster 4 (#5) : **clients standards** : clients qui ont acheté plusieurs fois mais pas de commandes très élevées.\n",
    "- Cluster 0 (#1) : **clients à faible valeur ** : ils ont de petits paniers d'achats et ne sont pas revenus pour la plupart."
   ]
  },
  {
   "cell_type": "markdown",
   "metadata": {},
   "source": [
    "=> Nous arrivons à trouver les mêmes interprétations que dans le cas précédent."
   ]
  },
  {
   "cell_type": "markdown",
   "metadata": {},
   "source": [
    "## 4.5 Sauvegarde des données "
   ]
  },
  {
   "cell_type": "markdown",
   "metadata": {},
   "source": [
    "On sauvegarde les données pour les utiliser ensuite dans nos tests de modèles de classification"
   ]
  },
  {
   "cell_type": "code",
   "execution_count": 53,
   "metadata": {
    "collapsed": true
   },
   "outputs": [],
   "source": [
    "# Sauvegarde du jeu d'entrainement\n",
    "customers_clusters_Random.to_csv('customers_clusters_Random.csv', index=False)"
   ]
  },
  {
   "cell_type": "code",
   "execution_count": 46,
   "metadata": {
    "collapsed": true
   },
   "outputs": [],
   "source": [
    "# Sauvegarde du jeu de test\n",
    "test_matrix = transformAsQuantileMatrix(test_customers.drop(['CustomerID'], axis=1))\n",
    "pd.DataFrame(test_matrix).to_csv('customers_test_Random.csv', index=False)"
   ]
  },
  {
   "cell_type": "code",
   "execution_count": 47,
   "metadata": {},
   "outputs": [
    {
     "data": {
      "text/plain": [
       "['kmeans_cluster_Random.pkl']"
      ]
     },
     "execution_count": 47,
     "metadata": {},
     "output_type": "execute_result"
    }
   ],
   "source": [
    "joblib.dump(k_means_cluster, 'kmeans_cluster_Random.pkl')"
   ]
  },
  {
   "cell_type": "code",
   "execution_count": null,
   "metadata": {
    "collapsed": true
   },
   "outputs": [],
   "source": []
  }
 ],
 "metadata": {
  "kernelspec": {
   "display_name": "Python 3",
   "language": "python",
   "name": "python3"
  },
  "language_info": {
   "codemirror_mode": {
    "name": "ipython",
    "version": 3
   },
   "file_extension": ".py",
   "mimetype": "text/x-python",
   "name": "python",
   "nbconvert_exporter": "python",
   "pygments_lexer": "ipython3",
   "version": "3.6.2"
  }
 },
 "nbformat": 4,
 "nbformat_minor": 2
}
