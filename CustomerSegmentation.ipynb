{
 "cells": [
  {
   "cell_type": "markdown",
   "metadata": {},
   "source": [
    "# Projet 5 : Segmentez les comportements de clients\n",
    "# <u>B. Segmentation des clients</u> <br/>"
   ]
  },
  {
   "cell_type": "markdown",
   "metadata": {},
   "source": [
    "# Le contexte\n",
    "\n",
    "Notre employeur Datazon souhaite mieux comprendre le comportements de ses clients afin de faire de meilleures ventes et augmenter son chiffre d'affaire.\n",
    "\n",
    "Notre **objectif** est de mieux comprendre les clients afin de les classer en catégories et de déterminer automatiquement la catégorie d'un client dès son premier achat.\n",
    "\n",
    "Ce notebook traite de la partie recherche de segmentation des clients. Nous avons fait de nombreux tests avec différentes features mais nous n'avons garder dans ce notebook que ceux qui ont donnés des résultats intéressants. Exemple de features : catégorie de produit (en fonction du tarif unitaire), min max quantité, score RFM, découpage mensuel, données sur 1 an et 3 derniers mois, ..."
   ]
  },
  {
   "cell_type": "code",
   "execution_count": 1,
   "metadata": {
    "collapsed": true
   },
   "outputs": [],
   "source": [
    "import numpy as np\n",
    "import pandas as pd\n",
    "import matplotlib.pyplot as plt\n",
    "import matplotlib as mpl\n",
    "import matplotlib.cm as cm\n",
    "import seaborn as sns\n",
    "import datetime as dt\n",
    "from sklearn.cluster import KMeans\n",
    "from sklearn.metrics import silhouette_score, silhouette_samples\n",
    "from sklearn.preprocessing import StandardScaler\n",
    "from sklearn.decomposition import PCA\n",
    "from sklearn import  manifold, cluster\n",
    "from IPython.display import display\n",
    "\n",
    "%matplotlib inline"
   ]
  },
  {
   "cell_type": "markdown",
   "metadata": {},
   "source": [
    "# 1. Importation des données"
   ]
  },
  {
   "cell_type": "markdown",
   "metadata": {},
   "source": [
    "On charge les données traitées par l'analyse exploratoire."
   ]
  },
  {
   "cell_type": "code",
   "execution_count": 32,
   "metadata": {
    "collapsed": true
   },
   "outputs": [],
   "source": [
    "df= pd.read_csv('orders.csv')"
   ]
  },
  {
   "cell_type": "code",
   "execution_count": 33,
   "metadata": {},
   "outputs": [
    {
     "data": {
      "text/html": [
       "<div>\n",
       "<style>\n",
       "    .dataframe thead tr:only-child th {\n",
       "        text-align: right;\n",
       "    }\n",
       "\n",
       "    .dataframe thead th {\n",
       "        text-align: left;\n",
       "    }\n",
       "\n",
       "    .dataframe tbody tr th {\n",
       "        vertical-align: top;\n",
       "    }\n",
       "</style>\n",
       "<table border=\"1\" class=\"dataframe\">\n",
       "  <thead>\n",
       "    <tr style=\"text-align: right;\">\n",
       "      <th></th>\n",
       "      <th>InvoiceNo</th>\n",
       "      <th>StockCode</th>\n",
       "      <th>Description</th>\n",
       "      <th>Quantity</th>\n",
       "      <th>InvoiceDate</th>\n",
       "      <th>UnitPrice</th>\n",
       "      <th>CustomerID</th>\n",
       "      <th>Country</th>\n",
       "      <th>TotalPrice</th>\n",
       "      <th>InvoiceYear</th>\n",
       "      <th>InvoiceMonth</th>\n",
       "      <th>Canceled</th>\n",
       "      <th>Discount</th>\n",
       "      <th>Promotion</th>\n",
       "      <th>UK</th>\n",
       "      <th>ProductCategory</th>\n",
       "    </tr>\n",
       "  </thead>\n",
       "  <tbody>\n",
       "    <tr>\n",
       "      <th>0</th>\n",
       "      <td>536365</td>\n",
       "      <td>85123A</td>\n",
       "      <td>WHITE HANGING HEART T-LIGHT HOLDER</td>\n",
       "      <td>6</td>\n",
       "      <td>2010-12-01 08:26:00</td>\n",
       "      <td>2.55</td>\n",
       "      <td>17850.0</td>\n",
       "      <td>United Kingdom</td>\n",
       "      <td>15.30</td>\n",
       "      <td>2010</td>\n",
       "      <td>12</td>\n",
       "      <td>0</td>\n",
       "      <td>0</td>\n",
       "      <td>0</td>\n",
       "      <td>1</td>\n",
       "      <td>3</td>\n",
       "    </tr>\n",
       "    <tr>\n",
       "      <th>1</th>\n",
       "      <td>536365</td>\n",
       "      <td>71053</td>\n",
       "      <td>WHITE METAL LANTERN</td>\n",
       "      <td>6</td>\n",
       "      <td>2010-12-01 08:26:00</td>\n",
       "      <td>3.39</td>\n",
       "      <td>17850.0</td>\n",
       "      <td>United Kingdom</td>\n",
       "      <td>20.34</td>\n",
       "      <td>2010</td>\n",
       "      <td>12</td>\n",
       "      <td>0</td>\n",
       "      <td>0</td>\n",
       "      <td>0</td>\n",
       "      <td>1</td>\n",
       "      <td>3</td>\n",
       "    </tr>\n",
       "    <tr>\n",
       "      <th>2</th>\n",
       "      <td>536365</td>\n",
       "      <td>84406B</td>\n",
       "      <td>CREAM CUPID HEARTS COAT HANGER</td>\n",
       "      <td>8</td>\n",
       "      <td>2010-12-01 08:26:00</td>\n",
       "      <td>2.75</td>\n",
       "      <td>17850.0</td>\n",
       "      <td>United Kingdom</td>\n",
       "      <td>22.00</td>\n",
       "      <td>2010</td>\n",
       "      <td>12</td>\n",
       "      <td>0</td>\n",
       "      <td>0</td>\n",
       "      <td>0</td>\n",
       "      <td>1</td>\n",
       "      <td>3</td>\n",
       "    </tr>\n",
       "    <tr>\n",
       "      <th>3</th>\n",
       "      <td>536365</td>\n",
       "      <td>84029G</td>\n",
       "      <td>KNITTED UNION FLAG HOT WATER BOTTLE</td>\n",
       "      <td>6</td>\n",
       "      <td>2010-12-01 08:26:00</td>\n",
       "      <td>3.39</td>\n",
       "      <td>17850.0</td>\n",
       "      <td>United Kingdom</td>\n",
       "      <td>20.34</td>\n",
       "      <td>2010</td>\n",
       "      <td>12</td>\n",
       "      <td>0</td>\n",
       "      <td>0</td>\n",
       "      <td>0</td>\n",
       "      <td>1</td>\n",
       "      <td>3</td>\n",
       "    </tr>\n",
       "    <tr>\n",
       "      <th>4</th>\n",
       "      <td>536365</td>\n",
       "      <td>84029E</td>\n",
       "      <td>RED WOOLLY HOTTIE WHITE HEART.</td>\n",
       "      <td>6</td>\n",
       "      <td>2010-12-01 08:26:00</td>\n",
       "      <td>3.39</td>\n",
       "      <td>17850.0</td>\n",
       "      <td>United Kingdom</td>\n",
       "      <td>20.34</td>\n",
       "      <td>2010</td>\n",
       "      <td>12</td>\n",
       "      <td>0</td>\n",
       "      <td>0</td>\n",
       "      <td>0</td>\n",
       "      <td>1</td>\n",
       "      <td>3</td>\n",
       "    </tr>\n",
       "  </tbody>\n",
       "</table>\n",
       "</div>"
      ],
      "text/plain": [
       "  InvoiceNo StockCode                          Description  Quantity  \\\n",
       "0    536365    85123A   WHITE HANGING HEART T-LIGHT HOLDER         6   \n",
       "1    536365     71053                  WHITE METAL LANTERN         6   \n",
       "2    536365    84406B       CREAM CUPID HEARTS COAT HANGER         8   \n",
       "3    536365    84029G  KNITTED UNION FLAG HOT WATER BOTTLE         6   \n",
       "4    536365    84029E       RED WOOLLY HOTTIE WHITE HEART.         6   \n",
       "\n",
       "           InvoiceDate  UnitPrice  CustomerID         Country  TotalPrice  \\\n",
       "0  2010-12-01 08:26:00       2.55     17850.0  United Kingdom       15.30   \n",
       "1  2010-12-01 08:26:00       3.39     17850.0  United Kingdom       20.34   \n",
       "2  2010-12-01 08:26:00       2.75     17850.0  United Kingdom       22.00   \n",
       "3  2010-12-01 08:26:00       3.39     17850.0  United Kingdom       20.34   \n",
       "4  2010-12-01 08:26:00       3.39     17850.0  United Kingdom       20.34   \n",
       "\n",
       "   InvoiceYear  InvoiceMonth  Canceled  Discount  Promotion  UK  \\\n",
       "0         2010            12         0         0          0   1   \n",
       "1         2010            12         0         0          0   1   \n",
       "2         2010            12         0         0          0   1   \n",
       "3         2010            12         0         0          0   1   \n",
       "4         2010            12         0         0          0   1   \n",
       "\n",
       "   ProductCategory  \n",
       "0                3  \n",
       "1                3  \n",
       "2                3  \n",
       "3                3  \n",
       "4                3  "
      ]
     },
     "execution_count": 33,
     "metadata": {},
     "output_type": "execute_result"
    }
   ],
   "source": [
    "df.head()"
   ]
  },
  {
   "cell_type": "markdown",
   "metadata": {},
   "source": [
    "# 2. Données d'achat par commande"
   ]
  },
  {
   "cell_type": "markdown",
   "metadata": {},
   "source": [
    "On commence par regrouper les informations de chaque commande"
   ]
  },
  {
   "cell_type": "code",
   "execution_count": 34,
   "metadata": {
    "collapsed": true
   },
   "outputs": [],
   "source": [
    "'''\n",
    "Create from the transactions data a new dataframe containing information group by customer and by invoice\n",
    "'''\n",
    "def createDataStructureByOrders(data) :\n",
    "    temp = data.groupby(by=['CustomerID', 'InvoiceNo'], as_index=False)['TotalPrice'].sum()\n",
    "    o_data = temp.rename(columns = {'TotalPrice':'OrderPrice'})\n",
    "\n",
    "    temp = data.groupby(by=['CustomerID', 'InvoiceNo'], as_index=False)['Quantity'].sum()\n",
    "    o_data.loc[:, 'OrderQuantity'] = temp['Quantity']\n",
    "\n",
    "    temp = data.groupby(by=['CustomerID', 'InvoiceNo'], as_index=False)['Canceled'].sum()\n",
    "    o_data.loc[:, 'OrderCanceled'] = temp['Canceled']\n",
    "\n",
    "    temp = data.groupby(by=['CustomerID', 'InvoiceNo'], as_index=False)['Discount'].sum()\n",
    "    o_data.loc[:, 'OrderDiscount'] = temp['Discount']\n",
    "\n",
    "    temp = data.groupby(by=['CustomerID', 'InvoiceNo'], as_index=False)['Promotion'].sum()\n",
    "    o_data.loc[:, 'OrderPromo'] = temp['Promotion']\n",
    "\n",
    "\n",
    "    temp = data.groupby(by=['CustomerID', 'InvoiceNo'], as_index=False)['UK'].sum()\n",
    "    o_data.loc[:, 'isUK'] = temp['UK']\n",
    "\n",
    "    data['InvoiceDate']=pd.to_datetime(data['InvoiceDate'])\n",
    "    data['InvoiceDate_int'] = data['InvoiceDate'].astype('int64')\n",
    "    temp = data.groupby(by=['CustomerID', 'InvoiceNo'], as_index=False)['InvoiceDate_int'].mean()\n",
    "    data.drop('InvoiceDate_int', axis = 1, inplace = True)\n",
    "    o_data.loc[:, 'InvoiceDate'] = pd.to_datetime(temp['InvoiceDate_int'])\n",
    "    return o_data"
   ]
  },
  {
   "cell_type": "code",
   "execution_count": 35,
   "metadata": {},
   "outputs": [
    {
     "data": {
      "text/html": [
       "<div>\n",
       "<style>\n",
       "    .dataframe thead tr:only-child th {\n",
       "        text-align: right;\n",
       "    }\n",
       "\n",
       "    .dataframe thead th {\n",
       "        text-align: left;\n",
       "    }\n",
       "\n",
       "    .dataframe tbody tr th {\n",
       "        vertical-align: top;\n",
       "    }\n",
       "</style>\n",
       "<table border=\"1\" class=\"dataframe\">\n",
       "  <thead>\n",
       "    <tr style=\"text-align: right;\">\n",
       "      <th></th>\n",
       "      <th>CustomerID</th>\n",
       "      <th>InvoiceNo</th>\n",
       "      <th>OrderPrice</th>\n",
       "      <th>OrderQuantity</th>\n",
       "      <th>OrderCanceled</th>\n",
       "      <th>OrderDiscount</th>\n",
       "      <th>OrderPromo</th>\n",
       "      <th>isUK</th>\n",
       "      <th>InvoiceDate</th>\n",
       "    </tr>\n",
       "  </thead>\n",
       "  <tbody>\n",
       "    <tr>\n",
       "      <th>0</th>\n",
       "      <td>12346.0</td>\n",
       "      <td>541431</td>\n",
       "      <td>77183.60</td>\n",
       "      <td>74215</td>\n",
       "      <td>0</td>\n",
       "      <td>0</td>\n",
       "      <td>0</td>\n",
       "      <td>1</td>\n",
       "      <td>2011-01-18 10:01:00.000000000</td>\n",
       "    </tr>\n",
       "    <tr>\n",
       "      <th>1</th>\n",
       "      <td>12346.0</td>\n",
       "      <td>C541433</td>\n",
       "      <td>-77183.60</td>\n",
       "      <td>-74215</td>\n",
       "      <td>1</td>\n",
       "      <td>0</td>\n",
       "      <td>0</td>\n",
       "      <td>1</td>\n",
       "      <td>2011-01-18 10:17:00.000000000</td>\n",
       "    </tr>\n",
       "    <tr>\n",
       "      <th>2</th>\n",
       "      <td>12347.0</td>\n",
       "      <td>537626</td>\n",
       "      <td>711.79</td>\n",
       "      <td>319</td>\n",
       "      <td>0</td>\n",
       "      <td>0</td>\n",
       "      <td>0</td>\n",
       "      <td>0</td>\n",
       "      <td>2010-12-07 14:57:00.000001024</td>\n",
       "    </tr>\n",
       "    <tr>\n",
       "      <th>3</th>\n",
       "      <td>12347.0</td>\n",
       "      <td>542237</td>\n",
       "      <td>475.39</td>\n",
       "      <td>315</td>\n",
       "      <td>0</td>\n",
       "      <td>0</td>\n",
       "      <td>0</td>\n",
       "      <td>0</td>\n",
       "      <td>2011-01-26 14:29:59.999999744</td>\n",
       "    </tr>\n",
       "    <tr>\n",
       "      <th>4</th>\n",
       "      <td>12347.0</td>\n",
       "      <td>549222</td>\n",
       "      <td>636.25</td>\n",
       "      <td>483</td>\n",
       "      <td>0</td>\n",
       "      <td>0</td>\n",
       "      <td>0</td>\n",
       "      <td>0</td>\n",
       "      <td>2011-04-07 10:42:59.999999232</td>\n",
       "    </tr>\n",
       "  </tbody>\n",
       "</table>\n",
       "</div>"
      ],
      "text/plain": [
       "   CustomerID InvoiceNo  OrderPrice  OrderQuantity  OrderCanceled  \\\n",
       "0     12346.0    541431    77183.60          74215              0   \n",
       "1     12346.0   C541433   -77183.60         -74215              1   \n",
       "2     12347.0    537626      711.79            319              0   \n",
       "3     12347.0    542237      475.39            315              0   \n",
       "4     12347.0    549222      636.25            483              0   \n",
       "\n",
       "   OrderDiscount  OrderPromo  isUK                   InvoiceDate  \n",
       "0              0           0     1 2011-01-18 10:01:00.000000000  \n",
       "1              0           0     1 2011-01-18 10:17:00.000000000  \n",
       "2              0           0     0 2010-12-07 14:57:00.000001024  \n",
       "3              0           0     0 2011-01-26 14:29:59.999999744  \n",
       "4              0           0     0 2011-04-07 10:42:59.999999232  "
      ]
     },
     "metadata": {},
     "output_type": "display_data"
    }
   ],
   "source": [
    "orders_data=createDataStructureByOrders(df)\n",
    "display(orders_data.head())"
   ]
  },
  {
   "cell_type": "markdown",
   "metadata": {},
   "source": [
    "### Jeu d'entrainement et tests"
   ]
  },
  {
   "cell_type": "markdown",
   "metadata": {},
   "source": [
    "Pour ne pas biaiser la classification, nous séparons les données en jeu d'entrainement et de tests. Nous allons faire notre clustering sur les données d'entrainement puis appliquer nos modèles d'apprentissage pour la classification. On va ensuite vérifier avec les données de tests."
   ]
  },
  {
   "cell_type": "code",
   "execution_count": 36,
   "metadata": {
    "collapsed": true
   },
   "outputs": [],
   "source": [
    "msk = np.random.rand(len(orders_data)) < 0.8\n",
    "train_orders = orders_data[msk]\n",
    "test_orders = orders_data[~msk]"
   ]
  },
  {
   "cell_type": "code",
   "execution_count": 37,
   "metadata": {},
   "outputs": [
    {
     "name": "stdout",
     "output_type": "stream",
     "text": [
      "Nb customers in training set :  4040\n",
      "Nb customers in testing set  :  2133\n"
     ]
    }
   ],
   "source": [
    "print('Nb customers in training set : ', train_orders['CustomerID'].nunique())\n",
    "print('Nb customers in testing set  : ', test_orders['CustomerID'].nunique())"
   ]
  },
  {
   "cell_type": "markdown",
   "metadata": {},
   "source": [
    "# 3. Données d'achats par client"
   ]
  },
  {
   "cell_type": "markdown",
   "metadata": {},
   "source": [
    "## Création de la structure"
   ]
  },
  {
   "cell_type": "markdown",
   "metadata": {},
   "source": [
    "Pour chaque client, on construit une structure qui contient les élèments de son panier moyen : \n",
    "    - nombre d'achats, total dépensé, dépense panier moyen, quantité de produits, et prix unitaire moyen."
   ]
  },
  {
   "cell_type": "code",
   "execution_count": 38,
   "metadata": {
    "collapsed": true
   },
   "outputs": [],
   "source": [
    "'''\n",
    "Regroupement des données d'achats par client.\n",
    "max_date = la date la plus récente des enregistrements nécessaire pour calculer le nombre de jours du dernier achat\n",
    "'''\n",
    "\n",
    "def createDataStructureByCustomer(orders_d, max_date) :\n",
    "    temp = orders_d.groupby(by=['CustomerID'], as_index=False)['InvoiceNo'].agg(['count'])\n",
    "    c_data=temp.rename(columns={'count': 'NbOrders'})\n",
    "    c_data.reset_index(drop = False, inplace = True)\n",
    "\n",
    "    temp = orders_d.groupby(by=['CustomerID','InvoiceNo'], as_index=False)['OrderPrice'].sum()\n",
    "    temp = temp.groupby(by=['CustomerID'])['OrderPrice'].agg(['sum','mean','min','max'])\n",
    "    temp=temp.rename(columns={'sum':'TotalSpent', 'mean':'AverageSpent','min':'MinSpent','max':'MaxSpent'})\n",
    "    temp.reset_index(drop = False, inplace = True)\n",
    "    c_data=pd.merge(c_data, temp, on='CustomerID', how='outer')\n",
    "\n",
    "    temp = orders_d.groupby(by=['CustomerID'], as_index=False)['OrderQuantity'].agg(['sum'])\n",
    "    temp=temp.rename(columns={'sum': 'TotalQuantity'})\n",
    "    temp.reset_index(drop = False, inplace = True)\n",
    "    c_data=pd.merge(c_data, temp, on='CustomerID', how='outer')\n",
    "\n",
    "    temp = orders_d.groupby(by=['CustomerID'], as_index=False)['OrderCanceled'].agg(['sum'])\n",
    "    temp=temp.rename(columns={'sum': 'NbCanceled'})\n",
    "    temp.reset_index(drop = False, inplace = True)\n",
    "    c_data=pd.merge(c_data, temp, on='CustomerID', how='outer')\n",
    "\n",
    "    temp = orders_d.groupby(by=['CustomerID'], as_index=False)['OrderDiscount'].agg(['sum'])\n",
    "    temp=temp.rename(columns={'sum': 'NbDiscount'})\n",
    "    temp.reset_index(drop = False, inplace = True)\n",
    "    c_data=pd.merge(c_data, temp, on='CustomerID', how='outer')\n",
    "\n",
    "    temp = orders_d.groupby(by=['CustomerID'], as_index=False)['OrderPromo'].agg(['sum'])\n",
    "    temp=temp.rename(columns={'sum': 'NbPromo'})\n",
    "    temp.reset_index(drop = False, inplace = True)\n",
    "    c_data=pd.merge(c_data, temp, on='CustomerID', how='outer')\n",
    "\n",
    "    temp = orders_d.groupby(by=['CustomerID'], as_index=False).agg({'isUK': lambda x: 1 if (x.all()>0) else 0})\n",
    "    c_data=pd.merge(c_data, temp, on='CustomerID', how='outer')\n",
    "\n",
    "    #dtmax = orders_d.InvoiceDate.max()\n",
    "    now = dt.datetime(max_date.year, max_date.month, max_date.day) + dt.timedelta(days=1)\n",
    "    temp = orders_d.groupby('CustomerID').agg({'InvoiceDate': lambda x: (now - x.max()).days})\n",
    "    temp=temp.rename(columns={'InvoiceDate': 'LastPurchase'})\n",
    "    temp.reset_index(drop = False, inplace = True)\n",
    "    c_data=pd.merge(c_data, temp, on='CustomerID', how='outer')\n",
    "    return c_data"
   ]
  },
  {
   "cell_type": "markdown",
   "metadata": {},
   "source": [
    "On créé notre structure de données par client à partir du jeu de données d'entrainement'"
   ]
  },
  {
   "cell_type": "code",
   "execution_count": 39,
   "metadata": {
    "collapsed": true
   },
   "outputs": [],
   "source": [
    "dtmax = df.InvoiceDate.max()"
   ]
  },
  {
   "cell_type": "code",
   "execution_count": 40,
   "metadata": {},
   "outputs": [],
   "source": [
    "customers_data = createDataStructureByCustomer(train_orders, dtmax)"
   ]
  },
  {
   "cell_type": "code",
   "execution_count": 41,
   "metadata": {},
   "outputs": [
    {
     "data": {
      "text/html": [
       "<div>\n",
       "<style>\n",
       "    .dataframe thead tr:only-child th {\n",
       "        text-align: right;\n",
       "    }\n",
       "\n",
       "    .dataframe thead th {\n",
       "        text-align: left;\n",
       "    }\n",
       "\n",
       "    .dataframe tbody tr th {\n",
       "        vertical-align: top;\n",
       "    }\n",
       "</style>\n",
       "<table border=\"1\" class=\"dataframe\">\n",
       "  <thead>\n",
       "    <tr style=\"text-align: right;\">\n",
       "      <th></th>\n",
       "      <th>CustomerID</th>\n",
       "      <th>NbOrders</th>\n",
       "      <th>TotalSpent</th>\n",
       "      <th>AverageSpent</th>\n",
       "      <th>MinSpent</th>\n",
       "      <th>MaxSpent</th>\n",
       "      <th>TotalQuantity</th>\n",
       "      <th>NbCanceled</th>\n",
       "      <th>NbDiscount</th>\n",
       "      <th>NbPromo</th>\n",
       "      <th>isUK</th>\n",
       "      <th>LastPurchase</th>\n",
       "    </tr>\n",
       "  </thead>\n",
       "  <tbody>\n",
       "    <tr>\n",
       "      <th>0</th>\n",
       "      <td>12346.0</td>\n",
       "      <td>2</td>\n",
       "      <td>0.00</td>\n",
       "      <td>0.00</td>\n",
       "      <td>-77183.60</td>\n",
       "      <td>77183.60</td>\n",
       "      <td>0</td>\n",
       "      <td>1</td>\n",
       "      <td>0</td>\n",
       "      <td>0</td>\n",
       "      <td>1</td>\n",
       "      <td>325</td>\n",
       "    </tr>\n",
       "    <tr>\n",
       "      <th>1</th>\n",
       "      <td>12347.0</td>\n",
       "      <td>4</td>\n",
       "      <td>2579.44</td>\n",
       "      <td>644.86</td>\n",
       "      <td>224.82</td>\n",
       "      <td>1294.32</td>\n",
       "      <td>1460</td>\n",
       "      <td>0</td>\n",
       "      <td>0</td>\n",
       "      <td>0</td>\n",
       "      <td>0</td>\n",
       "      <td>2</td>\n",
       "    </tr>\n",
       "    <tr>\n",
       "      <th>2</th>\n",
       "      <td>12348.0</td>\n",
       "      <td>2</td>\n",
       "      <td>457.44</td>\n",
       "      <td>228.72</td>\n",
       "      <td>187.44</td>\n",
       "      <td>270.00</td>\n",
       "      <td>816</td>\n",
       "      <td>0</td>\n",
       "      <td>0</td>\n",
       "      <td>0</td>\n",
       "      <td>0</td>\n",
       "      <td>75</td>\n",
       "    </tr>\n",
       "    <tr>\n",
       "      <th>3</th>\n",
       "      <td>12349.0</td>\n",
       "      <td>1</td>\n",
       "      <td>1457.55</td>\n",
       "      <td>1457.55</td>\n",
       "      <td>1457.55</td>\n",
       "      <td>1457.55</td>\n",
       "      <td>630</td>\n",
       "      <td>0</td>\n",
       "      <td>0</td>\n",
       "      <td>0</td>\n",
       "      <td>0</td>\n",
       "      <td>18</td>\n",
       "    </tr>\n",
       "    <tr>\n",
       "      <th>4</th>\n",
       "      <td>12350.0</td>\n",
       "      <td>1</td>\n",
       "      <td>294.40</td>\n",
       "      <td>294.40</td>\n",
       "      <td>294.40</td>\n",
       "      <td>294.40</td>\n",
       "      <td>196</td>\n",
       "      <td>0</td>\n",
       "      <td>0</td>\n",
       "      <td>0</td>\n",
       "      <td>0</td>\n",
       "      <td>310</td>\n",
       "    </tr>\n",
       "  </tbody>\n",
       "</table>\n",
       "</div>"
      ],
      "text/plain": [
       "   CustomerID  NbOrders  TotalSpent  AverageSpent  MinSpent  MaxSpent  \\\n",
       "0     12346.0         2        0.00          0.00 -77183.60  77183.60   \n",
       "1     12347.0         4     2579.44        644.86    224.82   1294.32   \n",
       "2     12348.0         2      457.44        228.72    187.44    270.00   \n",
       "3     12349.0         1     1457.55       1457.55   1457.55   1457.55   \n",
       "4     12350.0         1      294.40        294.40    294.40    294.40   \n",
       "\n",
       "   TotalQuantity  NbCanceled  NbDiscount  NbPromo  isUK  LastPurchase  \n",
       "0              0           1           0        0     1           325  \n",
       "1           1460           0           0        0     0             2  \n",
       "2            816           0           0        0     0            75  \n",
       "3            630           0           0        0     0            18  \n",
       "4            196           0           0        0     0           310  "
      ]
     },
     "metadata": {},
     "output_type": "display_data"
    },
    {
     "data": {
      "text/plain": [
       "(4040, 12)"
      ]
     },
     "execution_count": 41,
     "metadata": {},
     "output_type": "execute_result"
    }
   ],
   "source": [
    "display(customers_data.head())\n",
    "customers_data.shape"
   ]
  },
  {
   "cell_type": "markdown",
   "metadata": {},
   "source": [
    "# 4. Partitionnement des données avec KMeans"
   ]
  },
  {
   "cell_type": "markdown",
   "metadata": {},
   "source": [
    "#### Construction de la matrice données"
   ]
  },
  {
   "cell_type": "markdown",
   "metadata": {},
   "source": [
    "Commençons par créer une matrice sur laquelle nous pourront appliquer nos algorithmes de clustering"
   ]
  },
  {
   "cell_type": "code",
   "execution_count": 42,
   "metadata": {
    "collapsed": true
   },
   "outputs": [],
   "source": [
    "X = customers_data.drop(['CustomerID'], axis=1)"
   ]
  },
  {
   "cell_type": "markdown",
   "metadata": {},
   "source": [
    "#### Utilisation des quantiles pour valoriser les données de chacune des variables"
   ]
  },
  {
   "cell_type": "markdown",
   "metadata": {},
   "source": [
    "On classe les données en 4 groupes correspondant en quantile. Celà facilitera le partionnement en cluster avec des clusters un peu plus homogènes."
   ]
  },
  {
   "cell_type": "markdown",
   "metadata": {},
   "source": [
    "- 1 = faible\n",
    "- 2 = moyen\n",
    "- 3 = élevé\n",
    "- 4 = très élevé"
   ]
  },
  {
   "cell_type": "code",
   "execution_count": 43,
   "metadata": {
    "collapsed": true
   },
   "outputs": [],
   "source": [
    "# On attribue un score en fonction de quantile d'appartenance de la donnée\n",
    "def getScore(x,p,d):\n",
    "    if x <= d[p][0.25]:\n",
    "        return 1\n",
    "    elif x <= d[p][0.50]:\n",
    "        return 2\n",
    "    elif x <= d[p][0.75]: \n",
    "        return 3\n",
    "    else:\n",
    "        return 4\n",
    "\n",
    "# Calcul score pour les données dont la valorisation est plus importance si la valeur est faible\n",
    "# Ex : LastPurchase. Plus la valeur est petite, plus l'achat est récent donc à une valorisation importante pour nous.\n",
    "def getRScore(x,p,d):\n",
    "    if x <= d[p][0.25]:\n",
    "        return 1\n",
    "    elif x <= d[p][0.50]:\n",
    "        return 2\n",
    "    elif x <= d[p][0.75]: \n",
    "        return 3\n",
    "    else:\n",
    "        return 4"
   ]
  },
  {
   "cell_type": "code",
   "execution_count": 44,
   "metadata": {
    "collapsed": true
   },
   "outputs": [],
   "source": [
    "# Transforme les données en score de quantile et retourne une matrice\n",
    "def createQuantileMatrix(X) :\n",
    "    quantiles = X.quantile(q=[0.25,0.5,0.75])\n",
    "    quantiles = quantiles.to_dict()\n",
    "    X_std=X.copy()\n",
    "    for column in X:\n",
    "        if (column == 'LastPurchase') :\n",
    "            X_std[column] = X[column].apply(getRScore, args=(column,quantiles,))\n",
    "        else :\n",
    "            X_std[column] = X[column].apply(getScore, args=(column,quantiles,))\n",
    "    return X_std"
   ]
  },
  {
   "cell_type": "code",
   "execution_count": 45,
   "metadata": {
    "collapsed": true
   },
   "outputs": [],
   "source": [
    "X_std = createQuantileMatrix(X)"
   ]
  },
  {
   "cell_type": "markdown",
   "metadata": {},
   "source": [
    "### Calcul du coefficient de silhouette par cluster"
   ]
  },
  {
   "cell_type": "markdown",
   "metadata": {},
   "source": [
    "On se limite à chercher au maximum 13 clusters car sinon la segmentation sera trop fine et difficilement utilisable par le service marketing."
   ]
  },
  {
   "cell_type": "code",
   "execution_count": 46,
   "metadata": {
    "collapsed": true
   },
   "outputs": [],
   "source": [
    "'''\n",
    "Calcul et affichage du coefficient de silhouette pour chaque valeur de k allant de 2 à 13.\n",
    "'''\n",
    "def kmeans_silhouette_score(X_std) :\n",
    "    cluster_range = range( 2, 13 )\n",
    "    silhouettes = []\n",
    "     \n",
    "    # on calcule le score de silhouette pour un nombre de clusters    \n",
    "    for n_clusters in cluster_range:\n",
    "        clusterer = KMeans(init='k-means++', n_clusters=n_clusters, n_init=100)\n",
    "        cluster_labels = clusterer.fit_predict( X_std )\n",
    "    \n",
    "        silhouette_avg = silhouette_score(X_std, cluster_labels)\n",
    "        silhouettes.append(silhouette_avg)\n",
    "        print(\"Pour n_clusters =\", n_clusters,\n",
    "            \"La moyenne du score de silhouette est : {:<.3f}\".format(silhouette_avg))\n",
    "\n",
    "    # On affiche sous forme de graphe\n",
    "    plt.step(cluster_range, silhouettes, where='mid',label='cumulative explained variance')\n",
    "    plt.xlabel('Nombre de clusters')\n",
    "    plt.ylabel('Score de silhouette')\n",
    "\n",
    "    plt.show() "
   ]
  },
  {
   "cell_type": "markdown",
   "metadata": {},
   "source": [
    "On applique l'algorithme de KMeans sur nos données. "
   ]
  },
  {
   "cell_type": "code",
   "execution_count": 47,
   "metadata": {},
   "outputs": [
    {
     "name": "stdout",
     "output_type": "stream",
     "text": [
      "Pour n_clusters = 2 La moyenne du score de silhouette est : 0.325\n",
      "Pour n_clusters = 3 La moyenne du score de silhouette est : 0.329\n",
      "Pour n_clusters = 4 La moyenne du score de silhouette est : 0.301\n",
      "Pour n_clusters = 5 La moyenne du score de silhouette est : 0.315\n",
      "Pour n_clusters = 6 La moyenne du score de silhouette est : 0.315\n",
      "Pour n_clusters = 7 La moyenne du score de silhouette est : 0.286\n",
      "Pour n_clusters = 8 La moyenne du score de silhouette est : 0.269\n",
      "Pour n_clusters = 9 La moyenne du score de silhouette est : 0.260\n",
      "Pour n_clusters = 10 La moyenne du score de silhouette est : 0.262\n",
      "Pour n_clusters = 11 La moyenne du score de silhouette est : 0.265\n",
      "Pour n_clusters = 12 La moyenne du score de silhouette est : 0.266\n"
     ]
    },
    {
     "data": {
      "image/png": "[encoded data removed]",
      "text/plain": [
       "<matplotlib.figure.Figure at 0x1a309b5fd0>"
      ]
     },
     "metadata": {},
     "output_type": "display_data"
    }
   ],
   "source": [
    "kmeans_silhouette_score(X_std)"
   ]
  },
  {
   "cell_type": "markdown",
   "metadata": {},
   "source": [
    "- Nous obtenons les meilleurs score à k =2 ou k=3 mais nous voulons au moins 4 segments. On peut considérer qu'avec k=5 on a le 3ème meilleur score et on a un nombre raisonnable de catégories clients."
   ]
  },
  {
   "cell_type": "markdown",
   "metadata": {},
   "source": [
    "Nous partons donc sur 5 clusters et faisons les prédictions de labels avec l'algorithme **Kmeans**."
   ]
  },
  {
   "cell_type": "code",
   "execution_count": 54,
   "metadata": {
    "collapsed": true
   },
   "outputs": [],
   "source": [
    "n_clusters = 5\n",
    "k_means_cluster = KMeans(init='k-means++', n_clusters=n_clusters, n_init=100)\n",
    "cluster_labels = k_means_cluster.fit_predict( X_std )"
   ]
  },
  {
   "cell_type": "markdown",
   "metadata": {},
   "source": [
    "### Silhouette plot"
   ]
  },
  {
   "cell_type": "markdown",
   "metadata": {},
   "source": [
    "Affichage du score de silhouette intra cluster pour voir si les clusters sont bien homogènes."
   ]
  },
  {
   "cell_type": "code",
   "execution_count": 55,
   "metadata": {},
   "outputs": [
    {
     "data": {
      "image/png": "[encoded data removed]",
      "text/plain": [
       "<matplotlib.figure.Figure at 0x1a309c2550>"
      ]
     },
     "metadata": {},
     "output_type": "display_data"
    }
   ],
   "source": [
    "sample_silhouette_values = silhouette_samples(X_std, cluster_labels)\n",
    "\n",
    "fig, ax1 = plt.subplots(1, 1)\n",
    "fig.set_size_inches(6, 6)\n",
    "y_lower = 10\n",
    "for i in range(n_clusters):\n",
    "    ith_cluster_silhouette_values = sample_silhouette_values[cluster_labels == i]\n",
    "    ith_cluster_silhouette_values.sort()\n",
    "    size_cluster_i = ith_cluster_silhouette_values.shape[0]\n",
    "    y_upper = y_lower + size_cluster_i\n",
    "    color = cm.spectral(float(i) / n_clusters)\n",
    "    ax1.fill_betweenx(np.arange(y_lower, y_upper),0, ith_cluster_silhouette_values,facecolor=color, edgecolor=color, alpha=0.7)\n",
    "\n",
    "    # Label the silhouette plots with their cluster numbers at the middle\n",
    "    ax1.text(-0.05, y_lower + 0.5 * size_cluster_i, str(i))\n",
    "\n",
    "    # Compute the new y_lower for next plot\n",
    "    y_lower = y_upper + 10  # 10 for the 0 samples\n",
    "\n",
    "ax1.set_title(\"The silhouette plot\")\n",
    "ax1.set_xlabel(\"The silhouette coefficient values\")\n",
    "ax1.set_ylabel(\"Cluster label\")\n",
    "\n",
    "silhouette_avg = silhouette_score(X_std, cluster_labels)\n",
    "\n",
    "# The vertical line for average silhouette score of all the values\n",
    "ax1.axvline(x=silhouette_avg, color=\"red\", linestyle=\"--\")\n",
    "\n",
    "ax1.set_yticks([])  # Clear the yaxis labels / ticks\n",
    "ax1.set_xticks([-0.1, 0, 0.2, 0.4, 0.6, 0.8, 1])\n",
    "\n",
    "plt.show()"
   ]
  },
  {
   "cell_type": "markdown",
   "metadata": {},
   "source": [
    "=> Le resultat est satisfaisant."
   ]
  },
  {
   "cell_type": "markdown",
   "metadata": {},
   "source": [
    "### Répartition des clients"
   ]
  },
  {
   "cell_type": "code",
   "execution_count": 56,
   "metadata": {},
   "outputs": [
    {
     "data": {
      "text/html": [
       "<div>\n",
       "<style>\n",
       "    .dataframe thead tr:only-child th {\n",
       "        text-align: right;\n",
       "    }\n",
       "\n",
       "    .dataframe thead th {\n",
       "        text-align: left;\n",
       "    }\n",
       "\n",
       "    .dataframe tbody tr th {\n",
       "        vertical-align: top;\n",
       "    }\n",
       "</style>\n",
       "<table border=\"1\" class=\"dataframe\">\n",
       "  <thead>\n",
       "    <tr style=\"text-align: right;\">\n",
       "      <th></th>\n",
       "      <th>3</th>\n",
       "      <th>1</th>\n",
       "      <th>2</th>\n",
       "      <th>4</th>\n",
       "      <th>0</th>\n",
       "    </tr>\n",
       "  </thead>\n",
       "  <tbody>\n",
       "    <tr>\n",
       "      <th>NbCustomers</th>\n",
       "      <td>1070</td>\n",
       "      <td>909</td>\n",
       "      <td>847</td>\n",
       "      <td>762</td>\n",
       "      <td>452</td>\n",
       "    </tr>\n",
       "  </tbody>\n",
       "</table>\n",
       "</div>"
      ],
      "text/plain": [
       "                3    1    2    4    0\n",
       "NbCustomers  1070  909  847  762  452"
      ]
     },
     "execution_count": 56,
     "metadata": {},
     "output_type": "execute_result"
    }
   ],
   "source": [
    "pd.DataFrame(pd.Series(cluster_labels).value_counts(), columns = ['NbCustomers']).sort_values(by='NbCustomers',ascending=False).T"
   ]
  },
  {
   "cell_type": "markdown",
   "metadata": {},
   "source": [
    "La répartition est assez équilibrée entre les différents clusters."
   ]
  },
  {
   "cell_type": "markdown",
   "metadata": {},
   "source": [
    "#### Affichage des clusters"
   ]
  },
  {
   "cell_type": "markdown",
   "metadata": {},
   "source": [
    "Utilisons TSNE pour afficher les clusters en 2 dimensions."
   ]
  },
  {
   "cell_type": "code",
   "execution_count": 57,
   "metadata": {
    "collapsed": true
   },
   "outputs": [],
   "source": [
    "tsne = manifold.TSNE(n_components=2, init='pca')\n",
    "tsne_results = tsne.fit_transform(X_std)"
   ]
  },
  {
   "cell_type": "code",
   "execution_count": 58,
   "metadata": {},
   "outputs": [
    {
     "data": {
      "text/plain": [
       "<matplotlib.text.Text at 0x1143960b8>"
      ]
     },
     "execution_count": 58,
     "metadata": {},
     "output_type": "execute_result"
    },
    {
     "data": {
      "image/png": "[encoded data removed]",
      "text/plain": [
       "<matplotlib.figure.Figure at 0x10be1d668>"
      ]
     },
     "metadata": {},
     "output_type": "display_data"
    }
   ],
   "source": [
    "plt.scatter(tsne_results[:, 0], tsne_results[:, 1], c=cluster_labels)\n",
    "plt.xlim([np.min(tsne_results[:, 0]), np.max(tsne_results[:, 0])])\n",
    "plt.ylim([np.min(tsne_results[:, 1]), np.max(tsne_results[:, 1])])\n",
    "plt.title('Clustering avec KMeans')"
   ]
  },
  {
   "cell_type": "markdown",
   "metadata": {},
   "source": [
    "# 5. Interprétation des segments"
   ]
  },
  {
   "cell_type": "markdown",
   "metadata": {},
   "source": [
    "On ajoute les numéro de cluster à notre table"
   ]
  },
  {
   "cell_type": "code",
   "execution_count": 62,
   "metadata": {
    "collapsed": true
   },
   "outputs": [],
   "source": [
    "customers_data[\"Cluster\"]= cluster_labels"
   ]
  },
  {
   "cell_type": "code",
   "execution_count": 60,
   "metadata": {},
   "outputs": [
    {
     "data": {
      "text/html": [
       "<div>\n",
       "<style>\n",
       "    .dataframe thead tr:only-child th {\n",
       "        text-align: right;\n",
       "    }\n",
       "\n",
       "    .dataframe thead th {\n",
       "        text-align: left;\n",
       "    }\n",
       "\n",
       "    .dataframe tbody tr th {\n",
       "        vertical-align: top;\n",
       "    }\n",
       "</style>\n",
       "<table border=\"1\" class=\"dataframe\">\n",
       "  <thead>\n",
       "    <tr style=\"text-align: right;\">\n",
       "      <th></th>\n",
       "      <th>count</th>\n",
       "      <th>mean</th>\n",
       "      <th>std</th>\n",
       "      <th>min</th>\n",
       "      <th>25%</th>\n",
       "      <th>50%</th>\n",
       "      <th>75%</th>\n",
       "      <th>max</th>\n",
       "    </tr>\n",
       "  </thead>\n",
       "  <tbody>\n",
       "    <tr>\n",
       "      <th>CustomerID</th>\n",
       "      <td>4040.0</td>\n",
       "      <td>15302.475495</td>\n",
       "      <td>1723.805793</td>\n",
       "      <td>12346.00</td>\n",
       "      <td>13818.50000</td>\n",
       "      <td>15297.50000</td>\n",
       "      <td>16790.2500</td>\n",
       "      <td>18287.00</td>\n",
       "    </tr>\n",
       "    <tr>\n",
       "      <th>NbOrders</th>\n",
       "      <td>4040.0</td>\n",
       "      <td>4.332921</td>\n",
       "      <td>7.690362</td>\n",
       "      <td>1.00</td>\n",
       "      <td>1.00000</td>\n",
       "      <td>2.00000</td>\n",
       "      <td>5.0000</td>\n",
       "      <td>202.00</td>\n",
       "    </tr>\n",
       "    <tr>\n",
       "      <th>TotalSpent</th>\n",
       "      <td>4040.0</td>\n",
       "      <td>1577.551767</td>\n",
       "      <td>7104.965022</td>\n",
       "      <td>-168466.70</td>\n",
       "      <td>265.88750</td>\n",
       "      <td>581.27500</td>\n",
       "      <td>1370.9225</td>\n",
       "      <td>218163.57</td>\n",
       "    </tr>\n",
       "    <tr>\n",
       "      <th>AverageSpent</th>\n",
       "      <td>4040.0</td>\n",
       "      <td>295.725787</td>\n",
       "      <td>1393.741223</td>\n",
       "      <td>-84233.35</td>\n",
       "      <td>147.36625</td>\n",
       "      <td>236.22358</td>\n",
       "      <td>366.9225</td>\n",
       "      <td>12990.00</td>\n",
       "    </tr>\n",
       "    <tr>\n",
       "      <th>MinSpent</th>\n",
       "      <td>4040.0</td>\n",
       "      <td>75.220906</td>\n",
       "      <td>2962.189588</td>\n",
       "      <td>-168469.60</td>\n",
       "      <td>-11.71250</td>\n",
       "      <td>109.49500</td>\n",
       "      <td>245.7700</td>\n",
       "      <td>6207.67</td>\n",
       "    </tr>\n",
       "    <tr>\n",
       "      <th>MaxSpent</th>\n",
       "      <td>4040.0</td>\n",
       "      <td>583.409629</td>\n",
       "      <td>1776.809659</td>\n",
       "      <td>-1579.51</td>\n",
       "      <td>204.28000</td>\n",
       "      <td>348.50500</td>\n",
       "      <td>588.7225</td>\n",
       "      <td>77183.60</td>\n",
       "    </tr>\n",
       "    <tr>\n",
       "      <th>TotalQuantity</th>\n",
       "      <td>4040.0</td>\n",
       "      <td>933.804703</td>\n",
       "      <td>3811.453334</td>\n",
       "      <td>-80993.00</td>\n",
       "      <td>141.75000</td>\n",
       "      <td>329.00000</td>\n",
       "      <td>828.0000</td>\n",
       "      <td>125837.00</td>\n",
       "    </tr>\n",
       "    <tr>\n",
       "      <th>NbCanceled</th>\n",
       "      <td>4040.0</td>\n",
       "      <td>1.697525</td>\n",
       "      <td>6.346330</td>\n",
       "      <td>0.00</td>\n",
       "      <td>0.00000</td>\n",
       "      <td>0.00000</td>\n",
       "      <td>1.0000</td>\n",
       "      <td>195.00</td>\n",
       "    </tr>\n",
       "    <tr>\n",
       "      <th>NbDiscount</th>\n",
       "      <td>4040.0</td>\n",
       "      <td>0.014604</td>\n",
       "      <td>0.386110</td>\n",
       "      <td>0.00</td>\n",
       "      <td>0.00000</td>\n",
       "      <td>0.00000</td>\n",
       "      <td>0.0000</td>\n",
       "      <td>22.00</td>\n",
       "    </tr>\n",
       "    <tr>\n",
       "      <th>NbPromo</th>\n",
       "      <td>4040.0</td>\n",
       "      <td>0.007426</td>\n",
       "      <td>0.119603</td>\n",
       "      <td>0.00</td>\n",
       "      <td>0.00000</td>\n",
       "      <td>0.00000</td>\n",
       "      <td>0.0000</td>\n",
       "      <td>4.00</td>\n",
       "    </tr>\n",
       "    <tr>\n",
       "      <th>isUK</th>\n",
       "      <td>4040.0</td>\n",
       "      <td>0.904208</td>\n",
       "      <td>0.294342</td>\n",
       "      <td>0.00</td>\n",
       "      <td>1.00000</td>\n",
       "      <td>1.00000</td>\n",
       "      <td>1.0000</td>\n",
       "      <td>1.00</td>\n",
       "    </tr>\n",
       "    <tr>\n",
       "      <th>LastPurchase</th>\n",
       "      <td>4040.0</td>\n",
       "      <td>94.846040</td>\n",
       "      <td>100.856258</td>\n",
       "      <td>0.00</td>\n",
       "      <td>18.00000</td>\n",
       "      <td>53.00000</td>\n",
       "      <td>149.0000</td>\n",
       "      <td>373.00</td>\n",
       "    </tr>\n",
       "    <tr>\n",
       "      <th>Cluster</th>\n",
       "      <td>4040.0</td>\n",
       "      <td>2.193317</td>\n",
       "      <td>1.286417</td>\n",
       "      <td>0.00</td>\n",
       "      <td>1.00000</td>\n",
       "      <td>2.00000</td>\n",
       "      <td>3.0000</td>\n",
       "      <td>4.00</td>\n",
       "    </tr>\n",
       "  </tbody>\n",
       "</table>\n",
       "</div>"
      ],
      "text/plain": [
       "                count          mean          std        min          25%  \\\n",
       "CustomerID     4040.0  15302.475495  1723.805793   12346.00  13818.50000   \n",
       "NbOrders       4040.0      4.332921     7.690362       1.00      1.00000   \n",
       "TotalSpent     4040.0   1577.551767  7104.965022 -168466.70    265.88750   \n",
       "AverageSpent   4040.0    295.725787  1393.741223  -84233.35    147.36625   \n",
       "MinSpent       4040.0     75.220906  2962.189588 -168469.60    -11.71250   \n",
       "MaxSpent       4040.0    583.409629  1776.809659   -1579.51    204.28000   \n",
       "TotalQuantity  4040.0    933.804703  3811.453334  -80993.00    141.75000   \n",
       "NbCanceled     4040.0      1.697525     6.346330       0.00      0.00000   \n",
       "NbDiscount     4040.0      0.014604     0.386110       0.00      0.00000   \n",
       "NbPromo        4040.0      0.007426     0.119603       0.00      0.00000   \n",
       "isUK           4040.0      0.904208     0.294342       0.00      1.00000   \n",
       "LastPurchase   4040.0     94.846040   100.856258       0.00     18.00000   \n",
       "Cluster        4040.0      2.193317     1.286417       0.00      1.00000   \n",
       "\n",
       "                       50%         75%        max  \n",
       "CustomerID     15297.50000  16790.2500   18287.00  \n",
       "NbOrders           2.00000      5.0000     202.00  \n",
       "TotalSpent       581.27500   1370.9225  218163.57  \n",
       "AverageSpent     236.22358    366.9225   12990.00  \n",
       "MinSpent         109.49500    245.7700    6207.67  \n",
       "MaxSpent         348.50500    588.7225   77183.60  \n",
       "TotalQuantity    329.00000    828.0000  125837.00  \n",
       "NbCanceled         0.00000      1.0000     195.00  \n",
       "NbDiscount         0.00000      0.0000      22.00  \n",
       "NbPromo            0.00000      0.0000       4.00  \n",
       "isUK               1.00000      1.0000       1.00  \n",
       "LastPurchase      53.00000    149.0000     373.00  \n",
       "Cluster            2.00000      3.0000       4.00  "
      ]
     },
     "execution_count": 60,
     "metadata": {},
     "output_type": "execute_result"
    }
   ],
   "source": [
    "customers_data.describe().T"
   ]
  },
  {
   "cell_type": "code",
   "execution_count": 61,
   "metadata": {},
   "outputs": [
    {
     "data": {
      "text/html": [
       "<div>\n",
       "<style>\n",
       "    .dataframe thead tr:only-child th {\n",
       "        text-align: right;\n",
       "    }\n",
       "\n",
       "    .dataframe thead th {\n",
       "        text-align: left;\n",
       "    }\n",
       "\n",
       "    .dataframe tbody tr th {\n",
       "        vertical-align: top;\n",
       "    }\n",
       "</style>\n",
       "<table border=\"1\" class=\"dataframe\">\n",
       "  <thead>\n",
       "    <tr style=\"text-align: right;\">\n",
       "      <th></th>\n",
       "      <th>NbOrders</th>\n",
       "      <th>TotalSpent</th>\n",
       "      <th>AverageSpent</th>\n",
       "      <th>MinSpent</th>\n",
       "      <th>MaxSpent</th>\n",
       "      <th>TotalQuantity</th>\n",
       "      <th>NbCanceled</th>\n",
       "      <th>NbDiscount</th>\n",
       "      <th>NbPromo</th>\n",
       "      <th>isUK</th>\n",
       "      <th>LastPurchase</th>\n",
       "      <th>size</th>\n",
       "    </tr>\n",
       "    <tr>\n",
       "      <th>Cluster</th>\n",
       "      <th></th>\n",
       "      <th></th>\n",
       "      <th></th>\n",
       "      <th></th>\n",
       "      <th></th>\n",
       "      <th></th>\n",
       "      <th></th>\n",
       "      <th></th>\n",
       "      <th></th>\n",
       "      <th></th>\n",
       "      <th></th>\n",
       "      <th></th>\n",
       "    </tr>\n",
       "  </thead>\n",
       "  <tbody>\n",
       "    <tr>\n",
       "      <th>0.0</th>\n",
       "      <td>3.011062</td>\n",
       "      <td>-72.982257</td>\n",
       "      <td>-102.150680</td>\n",
       "      <td>-608.741195</td>\n",
       "      <td>405.208783</td>\n",
       "      <td>-0.873894</td>\n",
       "      <td>2.723451</td>\n",
       "      <td>0.004425</td>\n",
       "      <td>0.004425</td>\n",
       "      <td>0.915929</td>\n",
       "      <td>130.661504</td>\n",
       "      <td>452</td>\n",
       "    </tr>\n",
       "    <tr>\n",
       "      <th>4.0</th>\n",
       "      <td>4.665354</td>\n",
       "      <td>2102.822336</td>\n",
       "      <td>450.465291</td>\n",
       "      <td>249.565131</td>\n",
       "      <td>723.402822</td>\n",
       "      <td>1241.326772</td>\n",
       "      <td>0.000000</td>\n",
       "      <td>0.000000</td>\n",
       "      <td>0.002625</td>\n",
       "      <td>0.896325</td>\n",
       "      <td>44.881890</td>\n",
       "      <td>762</td>\n",
       "    </tr>\n",
       "    <tr>\n",
       "      <th>2.0</th>\n",
       "      <td>1.271547</td>\n",
       "      <td>564.460602</td>\n",
       "      <td>465.119223</td>\n",
       "      <td>440.659256</td>\n",
       "      <td>489.712928</td>\n",
       "      <td>344.334120</td>\n",
       "      <td>0.000000</td>\n",
       "      <td>0.000000</td>\n",
       "      <td>0.000000</td>\n",
       "      <td>0.884298</td>\n",
       "      <td>133.809917</td>\n",
       "      <td>847</td>\n",
       "    </tr>\n",
       "    <tr>\n",
       "      <th>1.0</th>\n",
       "      <td>10.787679</td>\n",
       "      <td>4502.900880</td>\n",
       "      <td>389.630109</td>\n",
       "      <td>-127.673564</td>\n",
       "      <td>1142.725270</td>\n",
       "      <td>2618.721672</td>\n",
       "      <td>6.190319</td>\n",
       "      <td>0.062706</td>\n",
       "      <td>0.027503</td>\n",
       "      <td>0.883388</td>\n",
       "      <td>36.854785</td>\n",
       "      <td>909</td>\n",
       "    </tr>\n",
       "    <tr>\n",
       "      <th>3.0</th>\n",
       "      <td>1.594393</td>\n",
       "      <td>217.487355</td>\n",
       "      <td>139.738304</td>\n",
       "      <td>123.076383</td>\n",
       "      <td>158.003234</td>\n",
       "      <td>144.865421</td>\n",
       "      <td>0.000000</td>\n",
       "      <td>0.000000</td>\n",
       "      <td>0.000935</td>\n",
       "      <td>0.938318</td>\n",
       "      <td>133.720561</td>\n",
       "      <td>1070</td>\n",
       "    </tr>\n",
       "  </tbody>\n",
       "</table>\n",
       "</div>"
      ],
      "text/plain": [
       "          NbOrders   TotalSpent  AverageSpent    MinSpent     MaxSpent  \\\n",
       "Cluster                                                                  \n",
       "0.0       3.011062   -72.982257   -102.150680 -608.741195   405.208783   \n",
       "4.0       4.665354  2102.822336    450.465291  249.565131   723.402822   \n",
       "2.0       1.271547   564.460602    465.119223  440.659256   489.712928   \n",
       "1.0      10.787679  4502.900880    389.630109 -127.673564  1142.725270   \n",
       "3.0       1.594393   217.487355    139.738304  123.076383   158.003234   \n",
       "\n",
       "         TotalQuantity  NbCanceled  NbDiscount   NbPromo      isUK  \\\n",
       "Cluster                                                              \n",
       "0.0          -0.873894    2.723451    0.004425  0.004425  0.915929   \n",
       "4.0        1241.326772    0.000000    0.000000  0.002625  0.896325   \n",
       "2.0         344.334120    0.000000    0.000000  0.000000  0.884298   \n",
       "1.0        2618.721672    6.190319    0.062706  0.027503  0.883388   \n",
       "3.0         144.865421    0.000000    0.000000  0.000935  0.938318   \n",
       "\n",
       "         LastPurchase  size  \n",
       "Cluster                      \n",
       "0.0        130.661504   452  \n",
       "4.0         44.881890   762  \n",
       "2.0        133.809917   847  \n",
       "1.0         36.854785   909  \n",
       "3.0        133.720561  1070  "
      ]
     },
     "execution_count": 61,
     "metadata": {},
     "output_type": "execute_result"
    }
   ],
   "source": [
    "clusters_df = pd.DataFrame()\n",
    "for i in range(n_clusters):\n",
    "    mean_data = pd.DataFrame(customers_data[customers_data['Cluster'] == i].mean())\n",
    "    mean_data = mean_data.T.set_index('Cluster', drop = True)\n",
    "    mean_data['size'] = customers_data[customers_data['Cluster'] == i].shape[0]\n",
    "    clusters_df = pd.concat([clusters_df, mean_data])\n",
    "\n",
    "clusters_df.drop('CustomerID', axis = 1, inplace = True)\n",
    "\n",
    "clusters_df = clusters_df.sort_values('size')\n",
    "clusters_df"
   ]
  },
  {
   "cell_type": "markdown",
   "metadata": {},
   "source": [
    "### Analyse\n",
    "\n",
    "|         | NbOrders | TotalSpent | AverageSpent |MinSpent | MaxSpent |TotalQuantity | NbCanceled |NbDiscount |NbPromo |isUK |LastPurchase |\n",
    "|---------|-----------------|-----------------|-----------------|-----------------|-----------------|\n",
    "|Mediane  |     2         | 581         |         236\t    | 109            | 348 |329 | 0 | 0 | 0 | 1 | 53 |"
   ]
  },
  {
   "cell_type": "markdown",
   "metadata": {},
   "source": [
    "- Cluster 1 (#2) : **clients fidèles** : client qui achètent régulièrement et qui on un panier moyen très élevé. Ce sont aussi ceux qui annulent le plus et ceux qui sont intéressés par les remises (discount) et les promotions. \n",
    "- Cluster 4 (#4) : **clients à haute valeur** : Ils ont un panier moyen très élevés et reviennent assez régulièrement. Ce sont essentiellement des clients Anglais.\n",
    "- Cluster 2 (#3) : **clients à potentiel** : clients rares mais qui ont un panier moyen le plus élevé. Mais ils ne sont pas revenus depuis quelques mois et ont fait légerement plus d'un achat sur la plateforme. Ce sont des clients à relancer pour développer les ventes.\n",
    "- Cluster 0 (#5) : **clients standards** : clients qui ont acheté plusieurs fois mais dans la moyenne et en petite quantité. Ils ne sont pas revenus depuis quelques mois et semblent intéressés par les remises et promos.\n",
    "- Cluster 3 (#1) : **clients à faible valeur ** : ils ont acheté en moyenne moins de 2 fois et ont un panier plus faible que la moyenne. Ce sont des client qui ne sont pas revenus depuis en moyenne 4 mois.\n",
    "\n",
    "\n"
   ]
  },
  {
   "cell_type": "markdown",
   "metadata": {},
   "source": [
    "# 6. Test de partionnement avec DBScan"
   ]
  },
  {
   "cell_type": "code",
   "execution_count": null,
   "metadata": {},
   "outputs": [],
   "source": [
    "from sklearn.cluster import DBSCAN\n",
    "\n",
    "\n",
    "X = customers_data.drop(['CustomerID','Cluster'], axis=1).as_matrix()\n",
    "scaler = StandardScaler()\n",
    "X_std = scaler.fit_transform(X)\n",
    "\n",
    "dbscan = DBSCAN(eps = 0.1, min_samples = 20)\n",
    "dbscan.fit(X_std)\n",
    "print(dbscan.labels_)"
   ]
  },
  {
   "cell_type": "code",
   "execution_count": null,
   "metadata": {},
   "outputs": [],
   "source": [
    "core_samples_mask = np.zeros_like(dbscan.labels_, dtype=bool)\n",
    "core_samples_mask[dbscan.core_sample_indices_] = True\n",
    "labels = dbscan.labels_\n",
    "n_clusters_ = len(set(labels)) - (1 if -1 in labels else 0)\n",
    "print('Estimated number of clusters: %d' % n_clusters_)"
   ]
  },
  {
   "cell_type": "code",
   "execution_count": null,
   "metadata": {},
   "outputs": [],
   "source": [
    "tsne = manifold.TSNE(n_components=2, init='pca')\n",
    "tsne_results = tsne.fit_transform(X_std)\n",
    "plt.scatter(tsne_results[:, 0], tsne_results[:, 1], c=labels)\n",
    "plt.title('Clustering avec DBScan')"
   ]
  },
  {
   "cell_type": "markdown",
   "metadata": {},
   "source": [
    "=> Les groupes sont moins équilibrés qu'avec KMeans. Nous conservons le découpage KMeans."
   ]
  },
  {
   "cell_type": "markdown",
   "metadata": {},
   "source": [
    "# 7. Sauvegarde des données "
   ]
  },
  {
   "cell_type": "code",
   "execution_count": 63,
   "metadata": {
    "collapsed": true
   },
   "outputs": [],
   "source": [
    "customers_data.to_csv('customers_data.csv', index=False)\n",
    "train_orders.to_csv('train_orders.csv', index=False)\n",
    "test_orders.to_csv('test_orders.csv', index=False)"
   ]
  },
  {
   "cell_type": "code",
   "execution_count": 64,
   "metadata": {},
   "outputs": [
    {
     "data": {
      "text/plain": [
       "['kmeans_cluster.pkl']"
      ]
     },
     "execution_count": 64,
     "metadata": {},
     "output_type": "execute_result"
    }
   ],
   "source": [
    "from sklearn.externals import joblib\n",
    "joblib.dump(k_means_cluster, 'kmeans_cluster.pkl')"
   ]
  },
  {
   "cell_type": "code",
   "execution_count": null,
   "metadata": {
    "collapsed": true
   },
   "outputs": [],
   "source": []
  }
 ],
 "metadata": {
  "kernelspec": {
   "display_name": "Python 3",
   "language": "python",
   "name": "python3"
  },
  "language_info": {
   "codemirror_mode": {
    "name": "ipython",
    "version": 3
   },
   "file_extension": ".py",
   "mimetype": "text/x-python",
   "name": "python",
   "nbconvert_exporter": "python",
   "pygments_lexer": "ipython3",
   "version": "3.6.2"
  }
 },
 "nbformat": 4,
 "nbformat_minor": 2
}
