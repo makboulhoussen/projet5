{
 "cells": [
  {
   "cell_type": "markdown",
   "metadata": {},
   "source": [
    "# Projet 5 : Segmentez les comportements de clients\n",
    "# <u>C. Modèle de classification automatique des clients</u> <br/>"
   ]
  },
  {
   "cell_type": "markdown",
   "metadata": {},
   "source": [
    "# Le contexte\n",
    "\n",
    "Notre employeur Datazon souhaite mieux comprendre le comportements de ses clients afin de faire de meilleures ventes et augmenter son chiffre d'affaire.\n",
    "\n",
    "Notre **objectif** est de mieux comprendre les clients afin de les classer en catégories et de déterminer automatiquement la catégorie d'un client dès son premier achat.\n",
    "\n",
    "Ce notebook traite de la partie classification automatique des clients pour trouver leur type de catégorie. Pour celà nous allons tester et évaluer différents modéles de classification."
   ]
  },
  {
   "cell_type": "code",
   "execution_count": 1,
   "metadata": {
    "collapsed": true
   },
   "outputs": [],
   "source": [
    "import numpy as np\n",
    "import pandas as pd\n",
    "import matplotlib.pyplot as plt\n",
    "import matplotlib as mpl\n",
    "import matplotlib.cm as cm\n",
    "import seaborn as sns\n",
    "import datetime as dt\n",
    "from sklearn.cluster import KMeans\n",
    "from sklearn.metrics import silhouette_score, silhouette_samples\n",
    "from sklearn.preprocessing import StandardScaler\n",
    "from sklearn.decomposition import PCA\n",
    "from sklearn import  manifold, cluster\n",
    "from IPython.display import display\n",
    "\n",
    "from sklearn import model_selection, metrics\n",
    "from sklearn.svm import SVC\n",
    "from sklearn import neighbors, linear_model, svm, tree, ensemble\n",
    "from sklearn.model_selection import GridSearchCV, learning_curve\n",
    "from sklearn.metrics import confusion_matrix,roc_curve, auc\n",
    "import itertools\n",
    "from sklearn.metrics import classification_report\n",
    "from sklearn.ensemble import RandomForestClassifier\n",
    "import xgboost as xgb\n",
    "from xgboost.sklearn import XGBClassifier\n",
    "from sklearn.ensemble import GradientBoostingClassifier\n",
    "from sklearn.preprocessing import label_binarize\n",
    "\n",
    "\n",
    "%matplotlib inline"
   ]
  },
  {
   "cell_type": "markdown",
   "metadata": {},
   "source": [
    "# 1. Importation des données"
   ]
  },
  {
   "cell_type": "markdown",
   "metadata": {},
   "source": [
    "On importe notre base clients contenant la segmentation trouvée dans la partie précédente.\n",
    "Pour rappel, nous avions découpé nos données en jeu de d'apprentissage et jeu de test. Le jeu d'apprentissage a été utilisé pour trouver les clusters."
   ]
  },
  {
   "cell_type": "code",
   "execution_count": 2,
   "metadata": {
    "collapsed": true
   },
   "outputs": [],
   "source": [
    "customers_data= pd.read_csv('customers_data.csv')"
   ]
  },
  {
   "cell_type": "code",
   "execution_count": 3,
   "metadata": {},
   "outputs": [
    {
     "data": {
      "text/html": [
       "<div>\n",
       "<style>\n",
       "    .dataframe thead tr:only-child th {\n",
       "        text-align: right;\n",
       "    }\n",
       "\n",
       "    .dataframe thead th {\n",
       "        text-align: left;\n",
       "    }\n",
       "\n",
       "    .dataframe tbody tr th {\n",
       "        vertical-align: top;\n",
       "    }\n",
       "</style>\n",
       "<table border=\"1\" class=\"dataframe\">\n",
       "  <thead>\n",
       "    <tr style=\"text-align: right;\">\n",
       "      <th></th>\n",
       "      <th>CustomerID</th>\n",
       "      <th>NbOrders</th>\n",
       "      <th>TotalSpent</th>\n",
       "      <th>AverageSpent</th>\n",
       "      <th>MinSpent</th>\n",
       "      <th>MaxSpent</th>\n",
       "      <th>TotalQuantity</th>\n",
       "      <th>NbCanceled</th>\n",
       "      <th>NbDiscount</th>\n",
       "      <th>NbPromo</th>\n",
       "      <th>isUK</th>\n",
       "      <th>LastPurchase</th>\n",
       "      <th>Cluster</th>\n",
       "    </tr>\n",
       "  </thead>\n",
       "  <tbody>\n",
       "    <tr>\n",
       "      <th>0</th>\n",
       "      <td>12346.0</td>\n",
       "      <td>2</td>\n",
       "      <td>0.00</td>\n",
       "      <td>0.00</td>\n",
       "      <td>-77183.60</td>\n",
       "      <td>77183.60</td>\n",
       "      <td>0</td>\n",
       "      <td>1</td>\n",
       "      <td>0</td>\n",
       "      <td>0</td>\n",
       "      <td>1</td>\n",
       "      <td>325</td>\n",
       "      <td>0</td>\n",
       "    </tr>\n",
       "    <tr>\n",
       "      <th>1</th>\n",
       "      <td>12347.0</td>\n",
       "      <td>4</td>\n",
       "      <td>2579.44</td>\n",
       "      <td>644.86</td>\n",
       "      <td>224.82</td>\n",
       "      <td>1294.32</td>\n",
       "      <td>1460</td>\n",
       "      <td>0</td>\n",
       "      <td>0</td>\n",
       "      <td>0</td>\n",
       "      <td>0</td>\n",
       "      <td>2</td>\n",
       "      <td>4</td>\n",
       "    </tr>\n",
       "    <tr>\n",
       "      <th>2</th>\n",
       "      <td>12348.0</td>\n",
       "      <td>2</td>\n",
       "      <td>457.44</td>\n",
       "      <td>228.72</td>\n",
       "      <td>187.44</td>\n",
       "      <td>270.00</td>\n",
       "      <td>816</td>\n",
       "      <td>0</td>\n",
       "      <td>0</td>\n",
       "      <td>0</td>\n",
       "      <td>0</td>\n",
       "      <td>75</td>\n",
       "      <td>3</td>\n",
       "    </tr>\n",
       "    <tr>\n",
       "      <th>3</th>\n",
       "      <td>12349.0</td>\n",
       "      <td>1</td>\n",
       "      <td>1457.55</td>\n",
       "      <td>1457.55</td>\n",
       "      <td>1457.55</td>\n",
       "      <td>1457.55</td>\n",
       "      <td>630</td>\n",
       "      <td>0</td>\n",
       "      <td>0</td>\n",
       "      <td>0</td>\n",
       "      <td>0</td>\n",
       "      <td>18</td>\n",
       "      <td>4</td>\n",
       "    </tr>\n",
       "    <tr>\n",
       "      <th>4</th>\n",
       "      <td>12350.0</td>\n",
       "      <td>1</td>\n",
       "      <td>294.40</td>\n",
       "      <td>294.40</td>\n",
       "      <td>294.40</td>\n",
       "      <td>294.40</td>\n",
       "      <td>196</td>\n",
       "      <td>0</td>\n",
       "      <td>0</td>\n",
       "      <td>0</td>\n",
       "      <td>0</td>\n",
       "      <td>310</td>\n",
       "      <td>2</td>\n",
       "    </tr>\n",
       "  </tbody>\n",
       "</table>\n",
       "</div>"
      ],
      "text/plain": [
       "   CustomerID  NbOrders  TotalSpent  AverageSpent  MinSpent  MaxSpent  \\\n",
       "0     12346.0         2        0.00          0.00 -77183.60  77183.60   \n",
       "1     12347.0         4     2579.44        644.86    224.82   1294.32   \n",
       "2     12348.0         2      457.44        228.72    187.44    270.00   \n",
       "3     12349.0         1     1457.55       1457.55   1457.55   1457.55   \n",
       "4     12350.0         1      294.40        294.40    294.40    294.40   \n",
       "\n",
       "   TotalQuantity  NbCanceled  NbDiscount  NbPromo  isUK  LastPurchase  Cluster  \n",
       "0              0           1           0        0     1           325        0  \n",
       "1           1460           0           0        0     0             2        4  \n",
       "2            816           0           0        0     0            75        3  \n",
       "3            630           0           0        0     0            18        4  \n",
       "4            196           0           0        0     0           310        2  "
      ]
     },
     "execution_count": 3,
     "metadata": {},
     "output_type": "execute_result"
    }
   ],
   "source": [
    "customers_data.head()"
   ]
  },
  {
   "cell_type": "markdown",
   "metadata": {},
   "source": [
    "Nos données contiennent bien le numéro de cluster attribué à chaque client."
   ]
  },
  {
   "cell_type": "markdown",
   "metadata": {},
   "source": [
    "# 2. Tests des modèles de classification"
   ]
  },
  {
   "cell_type": "markdown",
   "metadata": {},
   "source": [
    "Dans cette section nous avons évaluer différents algorithmes de classification capable de determiner la catégorie (cluster) d'un client.\n",
    "Nous allons comparer la catégorie prédite par rapport à celle determinée avec KMeans pour vérifier la précision du modèle."
   ]
  },
  {
   "cell_type": "markdown",
   "metadata": {},
   "source": [
    "## 2.1 Préparation des données"
   ]
  },
  {
   "cell_type": "markdown",
   "metadata": {},
   "source": [
    "Notre target variable et le numéro de cluster.\n",
    "On utilise les autres features pour notre apprentissage (en supprimant bien-sûr l'identifiant client et l'information sur le cluster)."
   ]
  },
  {
   "cell_type": "code",
   "execution_count": 4,
   "metadata": {
    "collapsed": true
   },
   "outputs": [],
   "source": [
    "Y = customers_data['Cluster']\n",
    "X = customers_data.drop(['CustomerID','Cluster'], axis=1)"
   ]
  },
  {
   "cell_type": "code",
   "execution_count": 5,
   "metadata": {},
   "outputs": [
    {
     "data": {
      "text/html": [
       "<div>\n",
       "<style>\n",
       "    .dataframe thead tr:only-child th {\n",
       "        text-align: right;\n",
       "    }\n",
       "\n",
       "    .dataframe thead th {\n",
       "        text-align: left;\n",
       "    }\n",
       "\n",
       "    .dataframe tbody tr th {\n",
       "        vertical-align: top;\n",
       "    }\n",
       "</style>\n",
       "<table border=\"1\" class=\"dataframe\">\n",
       "  <thead>\n",
       "    <tr style=\"text-align: right;\">\n",
       "      <th></th>\n",
       "      <th>NbOrders</th>\n",
       "      <th>TotalSpent</th>\n",
       "      <th>AverageSpent</th>\n",
       "      <th>MinSpent</th>\n",
       "      <th>MaxSpent</th>\n",
       "      <th>TotalQuantity</th>\n",
       "      <th>NbCanceled</th>\n",
       "      <th>NbDiscount</th>\n",
       "      <th>NbPromo</th>\n",
       "      <th>isUK</th>\n",
       "      <th>LastPurchase</th>\n",
       "    </tr>\n",
       "  </thead>\n",
       "  <tbody>\n",
       "    <tr>\n",
       "      <th>0</th>\n",
       "      <td>2</td>\n",
       "      <td>0.00</td>\n",
       "      <td>0.00</td>\n",
       "      <td>-77183.60</td>\n",
       "      <td>77183.60</td>\n",
       "      <td>0</td>\n",
       "      <td>1</td>\n",
       "      <td>0</td>\n",
       "      <td>0</td>\n",
       "      <td>1</td>\n",
       "      <td>325</td>\n",
       "    </tr>\n",
       "    <tr>\n",
       "      <th>1</th>\n",
       "      <td>4</td>\n",
       "      <td>2579.44</td>\n",
       "      <td>644.86</td>\n",
       "      <td>224.82</td>\n",
       "      <td>1294.32</td>\n",
       "      <td>1460</td>\n",
       "      <td>0</td>\n",
       "      <td>0</td>\n",
       "      <td>0</td>\n",
       "      <td>0</td>\n",
       "      <td>2</td>\n",
       "    </tr>\n",
       "    <tr>\n",
       "      <th>2</th>\n",
       "      <td>2</td>\n",
       "      <td>457.44</td>\n",
       "      <td>228.72</td>\n",
       "      <td>187.44</td>\n",
       "      <td>270.00</td>\n",
       "      <td>816</td>\n",
       "      <td>0</td>\n",
       "      <td>0</td>\n",
       "      <td>0</td>\n",
       "      <td>0</td>\n",
       "      <td>75</td>\n",
       "    </tr>\n",
       "    <tr>\n",
       "      <th>3</th>\n",
       "      <td>1</td>\n",
       "      <td>1457.55</td>\n",
       "      <td>1457.55</td>\n",
       "      <td>1457.55</td>\n",
       "      <td>1457.55</td>\n",
       "      <td>630</td>\n",
       "      <td>0</td>\n",
       "      <td>0</td>\n",
       "      <td>0</td>\n",
       "      <td>0</td>\n",
       "      <td>18</td>\n",
       "    </tr>\n",
       "    <tr>\n",
       "      <th>4</th>\n",
       "      <td>1</td>\n",
       "      <td>294.40</td>\n",
       "      <td>294.40</td>\n",
       "      <td>294.40</td>\n",
       "      <td>294.40</td>\n",
       "      <td>196</td>\n",
       "      <td>0</td>\n",
       "      <td>0</td>\n",
       "      <td>0</td>\n",
       "      <td>0</td>\n",
       "      <td>310</td>\n",
       "    </tr>\n",
       "  </tbody>\n",
       "</table>\n",
       "</div>"
      ],
      "text/plain": [
       "   NbOrders  TotalSpent  AverageSpent  MinSpent  MaxSpent  TotalQuantity  \\\n",
       "0         2        0.00          0.00 -77183.60  77183.60              0   \n",
       "1         4     2579.44        644.86    224.82   1294.32           1460   \n",
       "2         2      457.44        228.72    187.44    270.00            816   \n",
       "3         1     1457.55       1457.55   1457.55   1457.55            630   \n",
       "4         1      294.40        294.40    294.40    294.40            196   \n",
       "\n",
       "   NbCanceled  NbDiscount  NbPromo  isUK  LastPurchase  \n",
       "0           1           0        0     1           325  \n",
       "1           0           0        0     0             2  \n",
       "2           0           0        0     0            75  \n",
       "3           0           0        0     0            18  \n",
       "4           0           0        0     0           310  "
      ]
     },
     "execution_count": 5,
     "metadata": {},
     "output_type": "execute_result"
    }
   ],
   "source": [
    "X.head()"
   ]
  },
  {
   "cell_type": "markdown",
   "metadata": {},
   "source": [
    "On découpe les données en jeu d'entrainement et de test pour notre apprentissage (70% / 30%).\n",
    "Le jeu de test permettra de mesurer la qualité de la prédiction."
   ]
  },
  {
   "cell_type": "code",
   "execution_count": 6,
   "metadata": {
    "collapsed": true
   },
   "outputs": [],
   "source": [
    "x_train, x_test, y_train, y_test = model_selection.train_test_split(X,Y,test_size = 0.3,random_state = 0)"
   ]
  },
  {
   "cell_type": "markdown",
   "metadata": {},
   "source": [
    "Avant de tester nos modèles, nous faisons un traitement sur les données pour les valoriser selon les quantiles comme nous l'avons fait pour le clustering."
   ]
  },
  {
   "cell_type": "code",
   "execution_count": 7,
   "metadata": {
    "collapsed": true
   },
   "outputs": [],
   "source": [
    "# On attribue un score en fonction de quantile d'appartenance de la donnée\n",
    "def getScore(x,p,d):\n",
    "    if x <= d[p][0.25]:\n",
    "        return 1\n",
    "    elif x <= d[p][0.50]:\n",
    "        return 2\n",
    "    elif x <= d[p][0.75]: \n",
    "        return 3\n",
    "    else:\n",
    "        return 4\n",
    "\n",
    "# Calcul score pour les données dont la valorisation est plus importance si la valeur est faible\n",
    "# Ex : LastPurchase. Plus la valeur est petite, plus l'achat est récent donc à une valorisation importante pour nous.\n",
    "def getRScore(x,p,d):\n",
    "    if x <= d[p][0.25]:\n",
    "        return 1\n",
    "    elif x <= d[p][0.50]:\n",
    "        return 2\n",
    "    elif x <= d[p][0.75]: \n",
    "        return 3\n",
    "    else:\n",
    "        return 4\n",
    "    \n",
    "# Transforme les données en score de quantile et retourne une matrice\n",
    "def createQuantileMatrix(X) :\n",
    "    quantiles = X.quantile(q=[0.25,0.5,0.75])\n",
    "    quantiles = quantiles.to_dict()\n",
    "    X_std=X.copy()\n",
    "    for column in X:\n",
    "        if (column == 'LastPurchase') :\n",
    "            X_std[column] = X[column].apply(getRScore, args=(column,quantiles,))\n",
    "        else :\n",
    "            X_std[column] = X[column].apply(getScore, args=(column,quantiles,))\n",
    "    return X_std"
   ]
  },
  {
   "cell_type": "markdown",
   "metadata": {},
   "source": [
    "On valorise les données d'entrainement et de test."
   ]
  },
  {
   "cell_type": "code",
   "execution_count": 8,
   "metadata": {
    "collapsed": true
   },
   "outputs": [],
   "source": [
    "x_train = createQuantileMatrix(x_train)\n",
    "x_test = createQuantileMatrix(x_test)"
   ]
  },
  {
   "cell_type": "markdown",
   "metadata": {},
   "source": [
    "## 2.2 Evaluation des modèles"
   ]
  },
  {
   "cell_type": "markdown",
   "metadata": {},
   "source": [
    "Pour évaluer la qualité des modèles de classification, on a écrit quelque méthodes génériques qui seront utilisées par la suite."
   ]
  },
  {
   "cell_type": "code",
   "execution_count": 9,
   "metadata": {
    "collapsed": true
   },
   "outputs": [],
   "source": [
    "'''\n",
    "Méthode générique pour faire une recherche sur grille et évaluer le modèle de classification.\n",
    "Affiche les meilleurs paramètres et la précision du modèle.\n",
    "'''\n",
    "def evaluateClassifier(classifier, parameters, x_train, y_train, x_test, y_test) :\n",
    "    Kfold = 5\n",
    "    gs_classifier = GridSearchCV(estimator = classifier, param_grid = parameters, cv = Kfold)\n",
    "    fit = gs_classifier.fit(x_train, y_train)\n",
    "    print(\"Best params :\", gs_classifier.best_params_)\n",
    "    y_pred = gs_classifier.predict(x_test)\n",
    "    \n",
    "    print(\"Classification accuracy: {:.2f} % \".format(100*metrics.accuracy_score(y_test, y_pred)))\n",
    "    return gs_classifier, y_pred"
   ]
  },
  {
   "cell_type": "code",
   "execution_count": 10,
   "metadata": {
    "collapsed": true
   },
   "outputs": [],
   "source": [
    "'''\n",
    "Affichage de la matrice de confusion\n",
    "'''\n",
    "def plot_confusion_matrix(cm, classes, normalize=False, title='Confusion matrix', cmap=plt.cm.Blues):\n",
    "    if normalize:\n",
    "        cm = cm.astype('float') / cm.sum(axis=1)[:, np.newaxis]\n",
    "        print(\"Normalized confusion matrix\")\n",
    "    else:\n",
    "        print('Confusion matrix, without normalization')\n",
    "    #_________________________________________________\n",
    "    plt.imshow(cm, interpolation='nearest', cmap=cmap)\n",
    "    plt.title(title)\n",
    "    plt.colorbar()\n",
    "    tick_marks = np.arange(len(classes))\n",
    "    plt.xticks(tick_marks, classes, rotation=0)\n",
    "    plt.yticks(tick_marks, classes)\n",
    "    #_________________________________________________\n",
    "    fmt = '.2f' if normalize else 'd'\n",
    "    thresh = cm.max() / 2.\n",
    "    for i, j in itertools.product(range(cm.shape[0]), range(cm.shape[1])):\n",
    "        plt.text(j, i, format(cm[i, j], fmt),\n",
    "                 horizontalalignment=\"center\",\n",
    "                 color=\"white\" if cm[i, j] > thresh else \"black\")\n",
    "    #_________________________________________________\n",
    "    plt.tight_layout()\n",
    "    plt.ylabel('True label')\n",
    "    plt.xlabel('Predicted label')\n",
    "    \n",
    "    \n",
    "def displayConfusionMatrix(y_test, y_pred,n_classes) :\n",
    "    class_names = [i for i in range(n_classes)]\n",
    "    cnf_matrix = confusion_matrix(y_test, y_pred) \n",
    "    np.set_printoptions(precision=2)\n",
    "    plt.figure(figsize = (5,5))\n",
    "    plot_confusion_matrix(cnf_matrix, classes=class_names, normalize = False, title='Confusion matrix')"
   ]
  },
  {
   "cell_type": "markdown",
   "metadata": {},
   "source": [
    "Pour tous les modèles testés, nous allons faire la recherche sur grille pour trouver les meilleurs hyperparamètres et la validation croisée pour éviter le surapprentissage."
   ]
  },
  {
   "cell_type": "markdown",
   "metadata": {},
   "source": [
    "## 2.3 SVM Linéaire"
   ]
  },
  {
   "cell_type": "markdown",
   "metadata": {},
   "source": [
    "On commence par tester le modèle de machine à vecteurs de support."
   ]
  },
  {
   "cell_type": "code",
   "execution_count": 11,
   "metadata": {},
   "outputs": [
    {
     "name": "stdout",
     "output_type": "stream",
     "text": [
      "Best params : {'C': 2.154434690031882}\n",
      "Classification accuracy: 98.10 % \n"
     ]
    }
   ],
   "source": [
    "svc = svm.LinearSVC()\n",
    "parameters = [{'C':np.logspace(-3,3,10)}]\n",
    "svc_grid, y_pred = evaluateClassifier(svc,parameters, x_train, y_train, x_test, y_test  )"
   ]
  },
  {
   "cell_type": "code",
   "execution_count": 12,
   "metadata": {},
   "outputs": [
    {
     "name": "stdout",
     "output_type": "stream",
     "text": [
      "Confusion matrix, without normalization\n"
     ]
    },
    {
     "data": {
      "image/png": "[encoded data removed]",
      "text/plain": [
       "<matplotlib.figure.Figure at 0x10ecc7550>"
      ]
     },
     "metadata": {},
     "output_type": "display_data"
    }
   ],
   "source": [
    "displayConfusionMatrix(y_test, y_pred,5)"
   ]
  },
  {
   "cell_type": "markdown",
   "metadata": {},
   "source": [
    "=> Le résultat est plutôt bon."
   ]
  },
  {
   "cell_type": "markdown",
   "metadata": {},
   "source": [
    "## 2.4 Logistic Regression"
   ]
  },
  {
   "cell_type": "markdown",
   "metadata": {},
   "source": [
    "Voyons maintenant la régression logistique."
   ]
  },
  {
   "cell_type": "code",
   "execution_count": 13,
   "metadata": {},
   "outputs": [
    {
     "name": "stdout",
     "output_type": "stream",
     "text": [
      "Best params : {'C': 37.92690190732246, 'penalty': 'l1'}\n",
      "Classification accuracy: 98.27 % \n"
     ]
    }
   ],
   "source": [
    "lr = linear_model.LogisticRegression()\n",
    "parameters = [{'penalty': ['l2', 'l1'],'C':np.logspace(-2,2,20)}]\n",
    "lr_grid, y_pred = evaluateClassifier(lr,parameters, x_train, y_train, x_test, y_test )"
   ]
  },
  {
   "cell_type": "code",
   "execution_count": 14,
   "metadata": {},
   "outputs": [
    {
     "name": "stdout",
     "output_type": "stream",
     "text": [
      "Confusion matrix, without normalization\n"
     ]
    },
    {
     "data": {
      "image/png": "[encoded data removed]",
      "text/plain": [
       "<matplotlib.figure.Figure at 0x1a14c41b00>"
      ]
     },
     "metadata": {},
     "output_type": "display_data"
    }
   ],
   "source": [
    "displayConfusionMatrix(y_test, y_pred,5)"
   ]
  },
  {
   "cell_type": "markdown",
   "metadata": {},
   "source": [
    "=> Idem on a un score à plus de 98% !"
   ]
  },
  {
   "cell_type": "markdown",
   "metadata": {},
   "source": [
    "## 2.5 Decision Tree"
   ]
  },
  {
   "cell_type": "markdown",
   "metadata": {},
   "source": [
    "Classification avec un arbre de décision."
   ]
  },
  {
   "cell_type": "code",
   "execution_count": 16,
   "metadata": {},
   "outputs": [
    {
     "name": "stdout",
     "output_type": "stream",
     "text": [
      "Best params : {'criterion': 'entropy', 'max_depth': 5, 'max_features': 3}\n",
      "Classification accuracy: 93.32 % \n"
     ]
    }
   ],
   "source": [
    "dtree = tree.DecisionTreeClassifier()\n",
    "parameters = [{'criterion' : ['entropy', 'gini'], 'max_depth': [1, 2, 3, 4, 5],'max_features': [1,2,3]}]\n",
    "dtree_grid, y_pred = evaluateClassifier(dtree,parameters, x_train, y_train, x_test, y_test)"
   ]
  },
  {
   "cell_type": "code",
   "execution_count": 17,
   "metadata": {},
   "outputs": [
    {
     "name": "stdout",
     "output_type": "stream",
     "text": [
      "Confusion matrix, without normalization\n"
     ]
    },
    {
     "data": {
      "image/png": "[encoded data removed]",
      "text/plain": [
       "<matplotlib.figure.Figure at 0x1a1a5926a0>"
      ]
     },
     "metadata": {},
     "output_type": "display_data"
    }
   ],
   "source": [
    "displayConfusionMatrix(y_test, y_pred,5)"
   ]
  },
  {
   "cell_type": "markdown",
   "metadata": {},
   "source": [
    "=> Le score est moins élevé que les 2 précédents modèles même s'il reste plutôt bon."
   ]
  },
  {
   "cell_type": "markdown",
   "metadata": {},
   "source": [
    "## 2.6 KNN"
   ]
  },
  {
   "cell_type": "markdown",
   "metadata": {},
   "source": [
    "Modèle KNN."
   ]
  },
  {
   "cell_type": "code",
   "execution_count": 18,
   "metadata": {},
   "outputs": [
    {
     "name": "stdout",
     "output_type": "stream",
     "text": [
      "Best params : {'algorithm': 'brute', 'n_neighbors': 38}\n",
      "Classification accuracy: 97.44 % \n"
     ]
    }
   ],
   "source": [
    "knn = neighbors.KNeighborsClassifier()\n",
    "parameters = [{'n_neighbors': np.arange(1,50,1), 'algorithm' : ['auto', 'ball_tree', 'kd_tree', 'brute']}]\n",
    "knn_grid, y_pred = evaluateClassifier(knn,parameters, x_train, y_train, x_test, y_test  )"
   ]
  },
  {
   "cell_type": "code",
   "execution_count": 19,
   "metadata": {},
   "outputs": [
    {
     "name": "stdout",
     "output_type": "stream",
     "text": [
      "Confusion matrix, without normalization\n"
     ]
    },
    {
     "data": {
      "image/png": "[encoded data removed]",
      "text/plain": [
       "<matplotlib.figure.Figure at 0x1a1e7e57f0>"
      ]
     },
     "metadata": {},
     "output_type": "display_data"
    }
   ],
   "source": [
    "displayConfusionMatrix(y_test, y_pred,5)"
   ]
  },
  {
   "cell_type": "markdown",
   "metadata": {},
   "source": [
    "=> Resultat toujours aussi encourageant au niveau du score de prédiction."
   ]
  },
  {
   "cell_type": "markdown",
   "metadata": {},
   "source": [
    "## 2.7 Random Forest"
   ]
  },
  {
   "cell_type": "markdown",
   "metadata": {},
   "source": [
    "Testons maintenant un modèle ensembliste de type Forêt Aléatoire."
   ]
  },
  {
   "cell_type": "code",
   "execution_count": 20,
   "metadata": {},
   "outputs": [
    {
     "name": "stdout",
     "output_type": "stream",
     "text": [
      "Best params : {'max_features': 'auto', 'n_estimators': 100}\n",
      "Classification accuracy: 98.68 % \n"
     ]
    }
   ],
   "source": [
    "rfc = RandomForestClassifier(oob_score = True)\n",
    "parameters = { \n",
    "    'n_estimators': [50, 100, 200, 700],\n",
    "    'max_features': ['auto', 'sqrt', 'log2']\n",
    "}\n",
    "rfc_grid, y_pred = evaluateClassifier(rfc,parameters, x_train, y_train, x_test, y_test  )"
   ]
  },
  {
   "cell_type": "code",
   "execution_count": 21,
   "metadata": {},
   "outputs": [
    {
     "name": "stdout",
     "output_type": "stream",
     "text": [
      "Confusion matrix, without normalization\n"
     ]
    },
    {
     "data": {
      "image/png": "[encoded data removed]",
      "text/plain": [
       "<matplotlib.figure.Figure at 0x1a1a538f28>"
      ]
     },
     "metadata": {},
     "output_type": "display_data"
    }
   ],
   "source": [
    "displayConfusionMatrix(y_test, y_pred,5)"
   ]
  },
  {
   "cell_type": "markdown",
   "metadata": {},
   "source": [
    "=> Le score est très bon (98,68%)."
   ]
  },
  {
   "cell_type": "markdown",
   "metadata": {},
   "source": [
    "## 2.8 Gradient Boosting"
   ]
  },
  {
   "cell_type": "markdown",
   "metadata": {},
   "source": [
    "Le gradient boosting est très utilisé quand il s'agit d'utiliser les arbres de décision."
   ]
  },
  {
   "cell_type": "code",
   "execution_count": 24,
   "metadata": {},
   "outputs": [
    {
     "name": "stdout",
     "output_type": "stream",
     "text": [
      "Best params : {'n_estimators': 100}\n",
      "Classification accuracy: 98.68 % \n"
     ]
    }
   ],
   "source": [
    "gb = ensemble.GradientBoostingClassifier()\n",
    "parameters = {'n_estimators' : [10, 20, 30, 40, 50, 60, 70, 80, 90, 100]}\n",
    "gb_grid, y_pred = evaluateClassifier(gb,parameters, x_train, y_train, x_test, y_test  )"
   ]
  },
  {
   "cell_type": "code",
   "execution_count": 25,
   "metadata": {},
   "outputs": [
    {
     "name": "stdout",
     "output_type": "stream",
     "text": [
      "Confusion matrix, without normalization\n"
     ]
    },
    {
     "data": {
      "image/png": "[encoded data removed]",
      "text/plain": [
       "<matplotlib.figure.Figure at 0x1a1a533cf8>"
      ]
     },
     "metadata": {},
     "output_type": "display_data"
    }
   ],
   "source": [
    "displayConfusionMatrix(y_test, y_pred,5)"
   ]
  },
  {
   "cell_type": "markdown",
   "metadata": {},
   "source": [
    "=> Un très bon score aussi avec ce modèle."
   ]
  },
  {
   "cell_type": "markdown",
   "metadata": {},
   "source": [
    "## 2.9 XGBoost"
   ]
  },
  {
   "cell_type": "markdown",
   "metadata": {},
   "source": [
    "Essayons maintenant un variante du Gradient Boosting. Nous essons l'Extreme Gradient Boosting qui est un algorithme Open Source."
   ]
  },
  {
   "cell_type": "code",
   "execution_count": 22,
   "metadata": {},
   "outputs": [
    {
     "name": "stdout",
     "output_type": "stream",
     "text": [
      "Best params : {'colsample_bytree': 0.7, 'learning_rate': 0.05, 'max_depth': 6, 'min_child_weight': 11, 'missing': -999, 'n_estimators': 5, 'nthread': 4, 'objective': 'binary:logistic', 'seed': 1337, 'silent': 1, 'subsample': 0.8}\n",
      "Classification accuracy: 96.53 % \n"
     ]
    }
   ],
   "source": [
    "xgb_model = xgb.XGBClassifier()\n",
    "parameters = {'nthread':[4], #when use hyperthread, xgboost may become slower\n",
    "              'objective':['binary:logistic'],\n",
    "              'learning_rate': [0.05], #so called `eta` value\n",
    "              'max_depth': [6],\n",
    "              'min_child_weight': [11],\n",
    "              'silent': [1],\n",
    "              'subsample': [0.8],\n",
    "              'colsample_bytree': [0.7],\n",
    "              'n_estimators': [5], #number of trees, change it to 1000 for better results\n",
    "              'missing':[-999],\n",
    "              'seed': [1337]}\n",
    "xgb_grid, y_pred = evaluateClassifier(xgb_model,parameters, x_train, y_train, x_test, y_test  )"
   ]
  },
  {
   "cell_type": "code",
   "execution_count": 23,
   "metadata": {},
   "outputs": [
    {
     "name": "stdout",
     "output_type": "stream",
     "text": [
      "Confusion matrix, without normalization\n"
     ]
    },
    {
     "data": {
      "image/png": "[encoded data removed]",
      "text/plain": [
       "<matplotlib.figure.Figure at 0x1a14ce50f0>"
      ]
     },
     "metadata": {},
     "output_type": "display_data"
    }
   ],
   "source": [
    "displayConfusionMatrix(y_test, y_pred,5)"
   ]
  },
  {
   "cell_type": "markdown",
   "metadata": {},
   "source": [
    "=> Le score reste très correct (96%) mais moins bon que d'autres algorithmes précédents. Cependant on peut noter la rapidité d'execution de l'algorithme."
   ]
  },
  {
   "cell_type": "markdown",
   "metadata": {},
   "source": [
    "# 2.10 Bilan des évalutions de modèles"
   ]
  },
  {
   "cell_type": "markdown",
   "metadata": {},
   "source": [
    "Affichons les scores de chacun des modèles testés"
   ]
  },
  {
   "cell_type": "code",
   "execution_count": 45,
   "metadata": {},
   "outputs": [
    {
     "name": "stdout",
     "output_type": "stream",
     "text": [
      "Support Vector Machine : best score = 0.981%\n",
      "Logistic Regression : best score = 0.982%\n",
      "K-NN : best score = 0.983%\n",
      "Decision Tree : best score = 0.908%\n",
      "Random Forest : best score = 0.986%\n",
      "Gradient Boosting : best score = 0.988%\n",
      "XGBoost : best score = 0.959%\n"
     ]
    }
   ],
   "source": [
    "models = { 'Support Vector Machine' : svc_grid, 'Logistic Regression' : lr_grid, 'K-NN' : knn_grid, \n",
    "          'Decision Tree' : dtree_grid, 'Random Forest' : rfc_grid, 'Gradient Boosting' : gb_grid, 'XGBoost' : xgb_grid}\n",
    "for k, v in models.items() :\n",
    "    print(\"{:s} : best score = {:.3f}%\".format(k,v.best_score_))"
   ]
  },
  {
   "cell_type": "markdown",
   "metadata": {},
   "source": [
    "Les 3 algorithmes donnant les meilleurs resultats : **gradient boosting, random forest et logistic regression.**"
   ]
  },
  {
   "cell_type": "markdown",
   "metadata": {},
   "source": [
    "## 2.11 Agregation des meilleurs modèles"
   ]
  },
  {
   "cell_type": "markdown",
   "metadata": {},
   "source": [
    "Voyons si on améliore le score en faisant une combinaison des 3 meilleurs algorithmes."
   ]
  },
  {
   "cell_type": "code",
   "execution_count": 75,
   "metadata": {},
   "outputs": [],
   "source": [
    "lr_best  = linear_model.LogisticRegression(**lr_grid.best_params_)\n",
    "rf_best  = RandomForestClassifier(**rfc_grid.best_params_)\n",
    "gb_best = ensemble.GradientBoostingClassifier(**gb_grid.best_params_)"
   ]
  },
  {
   "cell_type": "code",
   "execution_count": 72,
   "metadata": {},
   "outputs": [],
   "source": [
    "votingC = ensemble.VotingClassifier(estimators=[('lr',lr_best),('gb',gb_best),('rf',rf_best)], voting='soft') "
   ]
  },
  {
   "cell_type": "code",
   "execution_count": 73,
   "metadata": {
    "collapsed": true
   },
   "outputs": [],
   "source": [
    "votingC = votingC.fit(x_train,y_train)"
   ]
  },
  {
   "cell_type": "code",
   "execution_count": 74,
   "metadata": {},
   "outputs": [
    {
     "name": "stdout",
     "output_type": "stream",
     "text": [
      "Precision: 98.84 % \n"
     ]
    }
   ],
   "source": [
    "y_pred = votingC.predict(x_test)\n",
    "print(\"Precision: {:.2f} % \".format(100*metrics.accuracy_score(y_test, y_pred)))"
   ]
  },
  {
   "cell_type": "markdown",
   "metadata": {},
   "source": [
    "=> Nous obtenons un excellent score qui est le meilleur de tous nos algorithmes."
   ]
  },
  {
   "cell_type": "markdown",
   "metadata": {},
   "source": [
    "Nous ajoutons aussi ce modèle à notre ensemble."
   ]
  },
  {
   "cell_type": "code",
   "execution_count": 103,
   "metadata": {
    "collapsed": true
   },
   "outputs": [],
   "source": [
    "models['Voting Classifier'] = votingC"
   ]
  },
  {
   "cell_type": "markdown",
   "metadata": {},
   "source": [
    "# 3. Tests des prediction"
   ]
  },
  {
   "cell_type": "markdown",
   "metadata": {},
   "source": [
    "## 3.1 Chargement du jeu de test"
   ]
  },
  {
   "cell_type": "markdown",
   "metadata": {},
   "source": [
    "Pour mesure la stabilité de nos modèles, on va faire des prédictions sur le jeu de tests qui a été créé pendant la phase de clustering.\n",
    "Pour rappel, nous avons séparé nos données en jeu de test et d'entrainement et appliqué le clustering uniquement sur le jeu d'entrainement. L'objectif était de ne pas biaiser l'étape classification."
   ]
  },
  {
   "cell_type": "code",
   "execution_count": 77,
   "metadata": {},
   "outputs": [
    {
     "data": {
      "text/html": [
       "<div>\n",
       "<style>\n",
       "    .dataframe thead tr:only-child th {\n",
       "        text-align: right;\n",
       "    }\n",
       "\n",
       "    .dataframe thead th {\n",
       "        text-align: left;\n",
       "    }\n",
       "\n",
       "    .dataframe tbody tr th {\n",
       "        vertical-align: top;\n",
       "    }\n",
       "</style>\n",
       "<table border=\"1\" class=\"dataframe\">\n",
       "  <thead>\n",
       "    <tr style=\"text-align: right;\">\n",
       "      <th></th>\n",
       "      <th>CustomerID</th>\n",
       "      <th>InvoiceNo</th>\n",
       "      <th>OrderPrice</th>\n",
       "      <th>OrderQuantity</th>\n",
       "      <th>OrderCanceled</th>\n",
       "      <th>OrderDiscount</th>\n",
       "      <th>OrderPromo</th>\n",
       "      <th>isUK</th>\n",
       "      <th>InvoiceDate</th>\n",
       "    </tr>\n",
       "  </thead>\n",
       "  <tbody>\n",
       "    <tr>\n",
       "      <th>0</th>\n",
       "      <td>12347.0</td>\n",
       "      <td>537626</td>\n",
       "      <td>711.79</td>\n",
       "      <td>319</td>\n",
       "      <td>0</td>\n",
       "      <td>0</td>\n",
       "      <td>0</td>\n",
       "      <td>0</td>\n",
       "      <td>2010-12-07 14:57:00.000001024</td>\n",
       "    </tr>\n",
       "    <tr>\n",
       "      <th>1</th>\n",
       "      <td>12347.0</td>\n",
       "      <td>549222</td>\n",
       "      <td>636.25</td>\n",
       "      <td>483</td>\n",
       "      <td>0</td>\n",
       "      <td>0</td>\n",
       "      <td>0</td>\n",
       "      <td>0</td>\n",
       "      <td>2011-04-07 10:42:59.999999232</td>\n",
       "    </tr>\n",
       "    <tr>\n",
       "      <th>2</th>\n",
       "      <td>12347.0</td>\n",
       "      <td>556201</td>\n",
       "      <td>382.52</td>\n",
       "      <td>196</td>\n",
       "      <td>0</td>\n",
       "      <td>0</td>\n",
       "      <td>0</td>\n",
       "      <td>0</td>\n",
       "      <td>2011-06-09 13:01:00.000000256</td>\n",
       "    </tr>\n",
       "    <tr>\n",
       "      <th>3</th>\n",
       "      <td>12348.0</td>\n",
       "      <td>539318</td>\n",
       "      <td>652.80</td>\n",
       "      <td>1248</td>\n",
       "      <td>0</td>\n",
       "      <td>0</td>\n",
       "      <td>0</td>\n",
       "      <td>0</td>\n",
       "      <td>2010-12-16 19:09:00.000000000</td>\n",
       "    </tr>\n",
       "    <tr>\n",
       "      <th>4</th>\n",
       "      <td>12348.0</td>\n",
       "      <td>548955</td>\n",
       "      <td>327.00</td>\n",
       "      <td>268</td>\n",
       "      <td>0</td>\n",
       "      <td>0</td>\n",
       "      <td>0</td>\n",
       "      <td>0</td>\n",
       "      <td>2011-04-05 10:47:00.000000000</td>\n",
       "    </tr>\n",
       "  </tbody>\n",
       "</table>\n",
       "</div>"
      ],
      "text/plain": [
       "   CustomerID InvoiceNo  OrderPrice  OrderQuantity  OrderCanceled  \\\n",
       "0     12347.0    537626      711.79            319              0   \n",
       "1     12347.0    549222      636.25            483              0   \n",
       "2     12347.0    556201      382.52            196              0   \n",
       "3     12348.0    539318      652.80           1248              0   \n",
       "4     12348.0    548955      327.00            268              0   \n",
       "\n",
       "   OrderDiscount  OrderPromo  isUK                   InvoiceDate  \n",
       "0              0           0     0 2010-12-07 14:57:00.000001024  \n",
       "1              0           0     0 2011-04-07 10:42:59.999999232  \n",
       "2              0           0     0 2011-06-09 13:01:00.000000256  \n",
       "3              0           0     0 2010-12-16 19:09:00.000000000  \n",
       "4              0           0     0 2011-04-05 10:47:00.000000000  "
      ]
     },
     "execution_count": 77,
     "metadata": {},
     "output_type": "execute_result"
    }
   ],
   "source": [
    "test_orders = pd.read_csv('test_orders.csv')\n",
    "test_orders['InvoiceDate']=pd.to_datetime(test_orders['InvoiceDate'])\n",
    "test_orders.head()"
   ]
  },
  {
   "cell_type": "markdown",
   "metadata": {},
   "source": [
    "On charge notre algorithme de clustering."
   ]
  },
  {
   "cell_type": "code",
   "execution_count": 78,
   "metadata": {
    "collapsed": true
   },
   "outputs": [],
   "source": [
    "from sklearn.externals import joblib\n",
    "kmeans = joblib.load('kmeans_cluster.pkl') "
   ]
  },
  {
   "cell_type": "markdown",
   "metadata": {},
   "source": [
    "## 3.2 Regroupement données par client"
   ]
  },
  {
   "cell_type": "markdown",
   "metadata": {},
   "source": [
    "On utilise la méthode précédente pour créer une table avec les données d'achat par client."
   ]
  },
  {
   "cell_type": "code",
   "execution_count": 79,
   "metadata": {
    "collapsed": true
   },
   "outputs": [],
   "source": [
    "'''\n",
    "Regroupement des données d'achats par client.\n",
    "'''\n",
    "def createDataStructureByCustomer(orders_d, dtmax) :\n",
    "    temp = orders_d.groupby(by=['CustomerID'], as_index=False)['InvoiceNo'].agg(['count'])\n",
    "    c_data=temp.rename(columns={'count': 'NbOrders'})\n",
    "    c_data.reset_index(drop = False, inplace = True)\n",
    "\n",
    "    temp = orders_d.groupby(by=['CustomerID','InvoiceNo'], as_index=False)['OrderPrice'].sum()\n",
    "    temp = temp.groupby(by=['CustomerID'])['OrderPrice'].agg(['sum','mean','min','max'])\n",
    "    temp=temp.rename(columns={'sum':'TotalSpent', 'mean':'AverageSpent','min':'MinSpent','max':'MaxSpent'})\n",
    "    temp.reset_index(drop = False, inplace = True)\n",
    "    c_data=pd.merge(c_data, temp, on='CustomerID', how='outer')\n",
    "\n",
    "    temp = orders_d.groupby(by=['CustomerID'], as_index=False)['OrderQuantity'].agg(['sum'])\n",
    "    temp=temp.rename(columns={'sum': 'TotalQuantity'})\n",
    "    temp.reset_index(drop = False, inplace = True)\n",
    "    c_data=pd.merge(c_data, temp, on='CustomerID', how='outer')\n",
    "\n",
    "    temp = orders_d.groupby(by=['CustomerID'], as_index=False)['OrderCanceled'].agg(['sum'])\n",
    "    temp=temp.rename(columns={'sum': 'NbCanceled'})\n",
    "    temp.reset_index(drop = False, inplace = True)\n",
    "    c_data=pd.merge(c_data, temp, on='CustomerID', how='outer')\n",
    "\n",
    "    temp = orders_d.groupby(by=['CustomerID'], as_index=False)['OrderDiscount'].agg(['sum'])\n",
    "    temp=temp.rename(columns={'sum': 'NbDiscount'})\n",
    "    temp.reset_index(drop = False, inplace = True)\n",
    "    c_data=pd.merge(c_data, temp, on='CustomerID', how='outer')\n",
    "\n",
    "    temp = orders_d.groupby(by=['CustomerID'], as_index=False)['OrderPromo'].agg(['sum'])\n",
    "    temp=temp.rename(columns={'sum': 'NbPromo'})\n",
    "    temp.reset_index(drop = False, inplace = True)\n",
    "    c_data=pd.merge(c_data, temp, on='CustomerID', how='outer')\n",
    "\n",
    "    temp = orders_d.groupby(by=['CustomerID'], as_index=False).agg({'isUK': lambda x: 1 if (x.all()>0) else 0})\n",
    "    c_data=pd.merge(c_data, temp, on='CustomerID', how='outer')\n",
    "\n",
    "    #dtmax = orders_d.InvoiceDate.max()\n",
    "    now = dt.datetime(dtmax.year, dtmax.month, dtmax.day) + dt.timedelta(days=1)\n",
    "    temp = orders_d.groupby('CustomerID').agg({'InvoiceDate': lambda x: (now - x.max()).days})\n",
    "    temp=temp.rename(columns={'InvoiceDate': 'LastPurchase'})\n",
    "    temp.reset_index(drop = False, inplace = True)\n",
    "    c_data=pd.merge(c_data, temp, on='CustomerID', how='outer')\n",
    "    return c_data"
   ]
  },
  {
   "cell_type": "markdown",
   "metadata": {},
   "source": [
    "La date max de notre base : 9/12/2011."
   ]
  },
  {
   "cell_type": "code",
   "execution_count": 82,
   "metadata": {},
   "outputs": [],
   "source": [
    "max_date = dt.datetime(2011, 12, 9, 0, 0)"
   ]
  },
  {
   "cell_type": "markdown",
   "metadata": {},
   "source": [
    "On créé la structure."
   ]
  },
  {
   "cell_type": "code",
   "execution_count": 83,
   "metadata": {},
   "outputs": [],
   "source": [
    "test_customers_data = createDataStructureByCustomer(test_orders, max_date)"
   ]
  },
  {
   "cell_type": "code",
   "execution_count": 84,
   "metadata": {},
   "outputs": [
    {
     "data": {
      "text/html": [
       "<div>\n",
       "<style>\n",
       "    .dataframe thead tr:only-child th {\n",
       "        text-align: right;\n",
       "    }\n",
       "\n",
       "    .dataframe thead th {\n",
       "        text-align: left;\n",
       "    }\n",
       "\n",
       "    .dataframe tbody tr th {\n",
       "        vertical-align: top;\n",
       "    }\n",
       "</style>\n",
       "<table border=\"1\" class=\"dataframe\">\n",
       "  <thead>\n",
       "    <tr style=\"text-align: right;\">\n",
       "      <th></th>\n",
       "      <th>CustomerID</th>\n",
       "      <th>NbOrders</th>\n",
       "      <th>TotalSpent</th>\n",
       "      <th>AverageSpent</th>\n",
       "      <th>MinSpent</th>\n",
       "      <th>MaxSpent</th>\n",
       "      <th>TotalQuantity</th>\n",
       "      <th>NbCanceled</th>\n",
       "      <th>NbDiscount</th>\n",
       "      <th>NbPromo</th>\n",
       "      <th>isUK</th>\n",
       "      <th>LastPurchase</th>\n",
       "    </tr>\n",
       "  </thead>\n",
       "  <tbody>\n",
       "    <tr>\n",
       "      <th>0</th>\n",
       "      <td>12347.0</td>\n",
       "      <td>3</td>\n",
       "      <td>1730.56</td>\n",
       "      <td>576.853333</td>\n",
       "      <td>382.52</td>\n",
       "      <td>711.79</td>\n",
       "      <td>998</td>\n",
       "      <td>0</td>\n",
       "      <td>0</td>\n",
       "      <td>0</td>\n",
       "      <td>0</td>\n",
       "      <td>183</td>\n",
       "    </tr>\n",
       "    <tr>\n",
       "      <th>1</th>\n",
       "      <td>12348.0</td>\n",
       "      <td>2</td>\n",
       "      <td>979.80</td>\n",
       "      <td>489.900000</td>\n",
       "      <td>327.00</td>\n",
       "      <td>652.80</td>\n",
       "      <td>1516</td>\n",
       "      <td>0</td>\n",
       "      <td>0</td>\n",
       "      <td>0</td>\n",
       "      <td>0</td>\n",
       "      <td>248</td>\n",
       "    </tr>\n",
       "    <tr>\n",
       "      <th>2</th>\n",
       "      <td>12352.0</td>\n",
       "      <td>1</td>\n",
       "      <td>104.35</td>\n",
       "      <td>104.350000</td>\n",
       "      <td>104.35</td>\n",
       "      <td>104.35</td>\n",
       "      <td>25</td>\n",
       "      <td>0</td>\n",
       "      <td>0</td>\n",
       "      <td>0</td>\n",
       "      <td>0</td>\n",
       "      <td>283</td>\n",
       "    </tr>\n",
       "    <tr>\n",
       "      <th>3</th>\n",
       "      <td>12359.0</td>\n",
       "      <td>1</td>\n",
       "      <td>1109.32</td>\n",
       "      <td>1109.320000</td>\n",
       "      <td>1109.32</td>\n",
       "      <td>1109.32</td>\n",
       "      <td>356</td>\n",
       "      <td>0</td>\n",
       "      <td>0</td>\n",
       "      <td>0</td>\n",
       "      <td>0</td>\n",
       "      <td>189</td>\n",
       "    </tr>\n",
       "    <tr>\n",
       "      <th>4</th>\n",
       "      <td>12362.0</td>\n",
       "      <td>2</td>\n",
       "      <td>416.20</td>\n",
       "      <td>208.100000</td>\n",
       "      <td>-17.90</td>\n",
       "      <td>434.10</td>\n",
       "      <td>218</td>\n",
       "      <td>3</td>\n",
       "      <td>0</td>\n",
       "      <td>0</td>\n",
       "      <td>0</td>\n",
       "      <td>112</td>\n",
       "    </tr>\n",
       "  </tbody>\n",
       "</table>\n",
       "</div>"
      ],
      "text/plain": [
       "   CustomerID  NbOrders  TotalSpent  AverageSpent  MinSpent  MaxSpent  \\\n",
       "0     12347.0         3     1730.56    576.853333    382.52    711.79   \n",
       "1     12348.0         2      979.80    489.900000    327.00    652.80   \n",
       "2     12352.0         1      104.35    104.350000    104.35    104.35   \n",
       "3     12359.0         1     1109.32   1109.320000   1109.32   1109.32   \n",
       "4     12362.0         2      416.20    208.100000    -17.90    434.10   \n",
       "\n",
       "   TotalQuantity  NbCanceled  NbDiscount  NbPromo  isUK  LastPurchase  \n",
       "0            998           0           0        0     0           183  \n",
       "1           1516           0           0        0     0           248  \n",
       "2             25           0           0        0     0           283  \n",
       "3            356           0           0        0     0           189  \n",
       "4            218           3           0        0     0           112  "
      ]
     },
     "execution_count": 84,
     "metadata": {},
     "output_type": "execute_result"
    }
   ],
   "source": [
    "test_customers_data.head()"
   ]
  },
  {
   "cell_type": "markdown",
   "metadata": {},
   "source": [
    "## 3.3 Prédiction des clusters"
   ]
  },
  {
   "cell_type": "markdown",
   "metadata": {},
   "source": [
    "Notre table est maintenant construite. Il faut maintenant faire un traitement sur les données pour qu'elles correspondent aux quantiles (comme fait dans la phase de segmentation)."
   ]
  },
  {
   "cell_type": "code",
   "execution_count": 98,
   "metadata": {},
   "outputs": [],
   "source": [
    "x_test_customers = createQuantileMatrix(test_customers_data.drop(['CustomerID'], axis=1))"
   ]
  },
  {
   "cell_type": "markdown",
   "metadata": {},
   "source": [
    "On prédit les clusters avec notre algorithme kmeans. Ce sera notre target variable et celle qui permettra de vérifier la qualité des classifications."
   ]
  },
  {
   "cell_type": "markdown",
   "metadata": {},
   "source": [
    "Les clients seront affectées au cluster ayant le centroide le plus proche (avec la méthode predict)."
   ]
  },
  {
   "cell_type": "code",
   "execution_count": 99,
   "metadata": {},
   "outputs": [],
   "source": [
    "y_test_customers_labels = kmeans.predict(x_test_customers)"
   ]
  },
  {
   "cell_type": "markdown",
   "metadata": {},
   "source": [
    "Regardons la répartitions des clients."
   ]
  },
  {
   "cell_type": "code",
   "execution_count": 100,
   "metadata": {},
   "outputs": [
    {
     "data": {
      "text/html": [
       "<div>\n",
       "<style>\n",
       "    .dataframe thead tr:only-child th {\n",
       "        text-align: right;\n",
       "    }\n",
       "\n",
       "    .dataframe thead th {\n",
       "        text-align: left;\n",
       "    }\n",
       "\n",
       "    .dataframe tbody tr th {\n",
       "        vertical-align: top;\n",
       "    }\n",
       "</style>\n",
       "<table border=\"1\" class=\"dataframe\">\n",
       "  <thead>\n",
       "    <tr style=\"text-align: right;\">\n",
       "      <th></th>\n",
       "      <th>2</th>\n",
       "      <th>3</th>\n",
       "      <th>4</th>\n",
       "      <th>0</th>\n",
       "      <th>1</th>\n",
       "    </tr>\n",
       "  </thead>\n",
       "  <tbody>\n",
       "    <tr>\n",
       "      <th>NbCustomers</th>\n",
       "      <td>586</td>\n",
       "      <td>568</td>\n",
       "      <td>469</td>\n",
       "      <td>264</td>\n",
       "      <td>246</td>\n",
       "    </tr>\n",
       "  </tbody>\n",
       "</table>\n",
       "</div>"
      ],
      "text/plain": [
       "               2    3    4    0    1\n",
       "NbCustomers  586  568  469  264  246"
      ]
     },
     "execution_count": 100,
     "metadata": {},
     "output_type": "execute_result"
    }
   ],
   "source": [
    "pd.DataFrame(pd.Series(y_test_customers_labels).value_counts(), columns = ['NbCustomers']).sort_values(by='NbCustomers',ascending=False).T"
   ]
  },
  {
   "cell_type": "markdown",
   "metadata": {},
   "source": [
    "=> La répartition parait cohérente."
   ]
  },
  {
   "cell_type": "markdown",
   "metadata": {},
   "source": [
    "## 3.4 Stabilité des modèles de classification"
   ]
  },
  {
   "cell_type": "code",
   "execution_count": 104,
   "metadata": {},
   "outputs": [
    {
     "name": "stdout",
     "output_type": "stream",
     "text": [
      "Support Vector Machine\n",
      "Logistic Regression\n",
      "K-NN\n",
      "Decision Tree\n",
      "Random Forest\n",
      "Gradient Boosting\n",
      "XGBoost\n",
      "Voting Classifier\n"
     ]
    }
   ],
   "source": [
    "for m in models :\n",
    "    print(m)"
   ]
  },
  {
   "cell_type": "code",
   "execution_count": 105,
   "metadata": {},
   "outputs": [
    {
     "name": "stdout",
     "output_type": "stream",
     "text": [
      "Support Vector Machine : Precision = 98.547%\n",
      "Logistic Regression : Precision = 98.875%\n",
      "K-NN : Precision = 97.328%\n",
      "Decision Tree : Precision = 87.248%\n",
      "Random Forest : Precision = 98.078%\n",
      "Gradient Boosting : Precision = 98.218%\n",
      "XGBoost : Precision = 95.781%\n",
      "Voting Classifier : Precision = 98.172%\n"
     ]
    }
   ],
   "source": [
    "for m_label, model in models.items() :\n",
    "    y_predicted= model.predict(x_test_customers)\n",
    "    score = 100*metrics.accuracy_score(y_test_customers_labels, y_predicted)\n",
    "    print(\"{:s} : Precision = {:.3f}%\".format(m_label,score))"
   ]
  },
  {
   "cell_type": "markdown",
   "metadata": {},
   "source": [
    "Les scores obtenus sont très bons. Nous obtenons le meilleur score avec la regression logistique mais le SVM, le Gradient Boosting, le Random Forest et le Voting Classifier nous donne tous un score supérieur à 98%."
   ]
  },
  {
   "cell_type": "code",
   "execution_count": null,
   "metadata": {
    "collapsed": true
   },
   "outputs": [],
   "source": []
  }
 ],
 "metadata": {
  "kernelspec": {
   "display_name": "Python 3",
   "language": "python",
   "name": "python3"
  },
  "language_info": {
   "codemirror_mode": {
    "name": "ipython",
    "version": 3
   },
   "file_extension": ".py",
   "mimetype": "text/x-python",
   "name": "python",
   "nbconvert_exporter": "python",
   "pygments_lexer": "ipython3",
   "version": "3.6.2"
  }
 },
 "nbformat": 4,
 "nbformat_minor": 2
}
